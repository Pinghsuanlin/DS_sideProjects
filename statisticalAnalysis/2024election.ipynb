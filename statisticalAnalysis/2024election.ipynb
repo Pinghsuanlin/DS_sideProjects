{
 "cells": [
  {
   "cell_type": "markdown",
   "metadata": {},
   "source": [
    "# 2024 Harris vs. Trump Election Prediction\n",
    "The practice followed [ritvikmath](https://www.youtube.com/watch?v=O5-A2ensKb0) guidance on utilizing Bayesian methodology, using 2020 election data (`prior`), with current polling data of 7 swing states (`likelihood`) to get 2024 election prediction (`posterior`). A baseline level of uncertainty is allowed for the prediction, which usually becomes lower as we get clower to the date of election."
   ]
  },
  {
   "cell_type": "code",
   "execution_count": null,
   "metadata": {},
   "outputs": [
    {
     "name": "stdout",
     "output_type": "stream",
     "text": [
      "Collecting numpy\n",
      "  Downloading numpy-2.2.2-cp310-cp310-macosx_11_0_arm64.whl.metadata (62 kB)\n",
      "Collecting pandas\n",
      "  Downloading pandas-2.2.3-cp310-cp310-macosx_11_0_arm64.whl.metadata (89 kB)\n",
      "Collecting matplotlib\n",
      "  Downloading matplotlib-3.10.0-cp310-cp310-macosx_11_0_arm64.whl.metadata (11 kB)\n",
      "Collecting seaborn\n",
      "  Using cached seaborn-0.13.2-py3-none-any.whl.metadata (5.4 kB)\n",
      "Collecting requests\n",
      "  Downloading requests-2.32.3-py3-none-any.whl.metadata (4.6 kB)\n",
      "Collecting bs4\n",
      "  Downloading bs4-0.0.2-py2.py3-none-any.whl.metadata (411 bytes)\n",
      "Requirement already satisfied: python-dateutil>=2.8.2 in ./venv/lib/python3.10/site-packages (from pandas) (2.9.0.post0)\n",
      "Collecting pytz>=2020.1 (from pandas)\n",
      "  Downloading pytz-2025.1-py2.py3-none-any.whl.metadata (22 kB)\n",
      "Collecting tzdata>=2022.7 (from pandas)\n",
      "  Downloading tzdata-2025.1-py2.py3-none-any.whl.metadata (1.4 kB)\n",
      "Collecting contourpy>=1.0.1 (from matplotlib)\n",
      "  Downloading contourpy-1.3.1-cp310-cp310-macosx_11_0_arm64.whl.metadata (5.4 kB)\n",
      "Collecting cycler>=0.10 (from matplotlib)\n",
      "  Using cached cycler-0.12.1-py3-none-any.whl.metadata (3.8 kB)\n",
      "Collecting fonttools>=4.22.0 (from matplotlib)\n",
      "  Downloading fonttools-4.56.0-cp310-cp310-macosx_10_9_universal2.whl.metadata (101 kB)\n",
      "Collecting kiwisolver>=1.3.1 (from matplotlib)\n",
      "  Downloading kiwisolver-1.4.8-cp310-cp310-macosx_11_0_arm64.whl.metadata (6.2 kB)\n",
      "Requirement already satisfied: packaging>=20.0 in ./venv/lib/python3.10/site-packages (from matplotlib) (24.2)\n",
      "Collecting pillow>=8 (from matplotlib)\n",
      "  Downloading pillow-11.1.0-cp310-cp310-macosx_11_0_arm64.whl.metadata (9.1 kB)\n",
      "Collecting pyparsing>=2.3.1 (from matplotlib)\n",
      "  Downloading pyparsing-3.2.1-py3-none-any.whl.metadata (5.0 kB)\n",
      "Collecting charset-normalizer<4,>=2 (from requests)\n",
      "  Downloading charset_normalizer-3.4.1-cp310-cp310-macosx_10_9_universal2.whl.metadata (35 kB)\n",
      "Collecting idna<4,>=2.5 (from requests)\n",
      "  Downloading idna-3.10-py3-none-any.whl.metadata (10 kB)\n",
      "Collecting urllib3<3,>=1.21.1 (from requests)\n",
      "  Downloading urllib3-2.3.0-py3-none-any.whl.metadata (6.5 kB)\n",
      "Collecting certifi>=2017.4.17 (from requests)\n",
      "  Downloading certifi-2025.1.31-py3-none-any.whl.metadata (2.5 kB)\n",
      "Collecting beautifulsoup4 (from bs4)\n",
      "  Downloading beautifulsoup4-4.13.3-py3-none-any.whl.metadata (3.8 kB)\n",
      "Requirement already satisfied: six>=1.5 in ./venv/lib/python3.10/site-packages (from python-dateutil>=2.8.2->pandas) (1.17.0)\n",
      "Collecting soupsieve>1.2 (from beautifulsoup4->bs4)\n",
      "  Downloading soupsieve-2.6-py3-none-any.whl.metadata (4.6 kB)\n",
      "Requirement already satisfied: typing-extensions>=4.0.0 in ./venv/lib/python3.10/site-packages (from beautifulsoup4->bs4) (4.12.2)\n",
      "Downloading numpy-2.2.2-cp310-cp310-macosx_11_0_arm64.whl (14.4 MB)\n",
      "\u001b[2K   \u001b[90m━━━━━━━━━━━━━━━━━━━━━━━━━━━━━━━━━━━━━━━━\u001b[0m \u001b[32m14.4/14.4 MB\u001b[0m \u001b[31m40.6 MB/s\u001b[0m eta \u001b[36m0:00:00\u001b[0m \u001b[36m0:00:01\u001b[0m\n",
      "\u001b[?25hDownloading pandas-2.2.3-cp310-cp310-macosx_11_0_arm64.whl (11.3 MB)\n",
      "\u001b[2K   \u001b[90m━━━━━━━━━━━━━━━━━━━━━━━━━━━━━━━━━━━━━━━━\u001b[0m \u001b[32m11.3/11.3 MB\u001b[0m \u001b[31m41.6 MB/s\u001b[0m eta \u001b[36m0:00:00\u001b[0m \u001b[36m0:00:01\u001b[0m\n",
      "\u001b[?25hDownloading matplotlib-3.10.0-cp310-cp310-macosx_11_0_arm64.whl (8.0 MB)\n",
      "\u001b[2K   \u001b[90m━━━━━━━━━━━━━━━━━━━━━━━━━━━━━━━━━━━━━━━━\u001b[0m \u001b[32m8.0/8.0 MB\u001b[0m \u001b[31m39.2 MB/s\u001b[0m eta \u001b[36m0:00:00\u001b[0m\n",
      "\u001b[?25hUsing cached seaborn-0.13.2-py3-none-any.whl (294 kB)\n",
      "Downloading requests-2.32.3-py3-none-any.whl (64 kB)\n",
      "Downloading bs4-0.0.2-py2.py3-none-any.whl (1.2 kB)\n",
      "Downloading certifi-2025.1.31-py3-none-any.whl (166 kB)\n",
      "Downloading charset_normalizer-3.4.1-cp310-cp310-macosx_10_9_universal2.whl (198 kB)\n",
      "Downloading contourpy-1.3.1-cp310-cp310-macosx_11_0_arm64.whl (253 kB)\n",
      "Using cached cycler-0.12.1-py3-none-any.whl (8.3 kB)\n",
      "Downloading fonttools-4.56.0-cp310-cp310-macosx_10_9_universal2.whl (2.8 MB)\n",
      "\u001b[2K   \u001b[90m━━━━━━━━━━━━━━━━━━━━━━━━━━━━━━━━━━━━━━━━\u001b[0m \u001b[32m2.8/2.8 MB\u001b[0m \u001b[31m32.9 MB/s\u001b[0m eta \u001b[36m0:00:00\u001b[0m\n",
      "\u001b[?25hDownloading idna-3.10-py3-none-any.whl (70 kB)\n",
      "Downloading kiwisolver-1.4.8-cp310-cp310-macosx_11_0_arm64.whl (65 kB)\n",
      "Downloading pillow-11.1.0-cp310-cp310-macosx_11_0_arm64.whl (3.1 MB)\n",
      "\u001b[2K   \u001b[90m━━━━━━━━━━━━━━━━━━━━━━━━━━━━━━━━━━━━━━━━\u001b[0m \u001b[32m3.1/3.1 MB\u001b[0m \u001b[31m32.7 MB/s\u001b[0m eta \u001b[36m0:00:00\u001b[0m\n",
      "\u001b[?25hDownloading pyparsing-3.2.1-py3-none-any.whl (107 kB)\n",
      "Downloading pytz-2025.1-py2.py3-none-any.whl (507 kB)\n",
      "Downloading tzdata-2025.1-py2.py3-none-any.whl (346 kB)\n",
      "Downloading urllib3-2.3.0-py3-none-any.whl (128 kB)\n",
      "Downloading beautifulsoup4-4.13.3-py3-none-any.whl (186 kB)\n",
      "Downloading soupsieve-2.6-py3-none-any.whl (36 kB)\n",
      "Installing collected packages: pytz, urllib3, tzdata, soupsieve, pyparsing, pillow, numpy, kiwisolver, idna, fonttools, cycler, charset-normalizer, certifi, requests, pandas, contourpy, beautifulsoup4, matplotlib, bs4, seaborn\n",
      "Successfully installed beautifulsoup4-4.13.3 bs4-0.0.2 certifi-2025.1.31 charset-normalizer-3.4.1 contourpy-1.3.1 cycler-0.12.1 fonttools-4.56.0 idna-3.10 kiwisolver-1.4.8 matplotlib-3.10.0 numpy-2.2.2 pandas-2.2.3 pillow-11.1.0 pyparsing-3.2.1 pytz-2025.1 requests-2.32.3 seaborn-0.13.2 soupsieve-2.6 tzdata-2025.1 urllib3-2.3.0\n",
      "Note: you may need to restart the kernel to use updated packages.\n"
     ]
    }
   ],
   "source": [
    "!pip install numpy pandas matplotlib seaborn requests bs4"
   ]
  },
  {
   "cell_type": "code",
   "execution_count": 69,
   "metadata": {},
   "outputs": [
    {
     "name": "stdout",
     "output_type": "stream",
     "text": [
      "Collecting scipy\n",
      "  Downloading scipy-1.15.1-cp310-cp310-macosx_12_0_arm64.whl.metadata (61 kB)\n",
      "Requirement already satisfied: numpy<2.5,>=1.23.5 in ./venv/lib/python3.10/site-packages (from scipy) (2.2.2)\n",
      "Downloading scipy-1.15.1-cp310-cp310-macosx_12_0_arm64.whl (32.5 MB)\n",
      "\u001b[2K   \u001b[90m━━━━━━━━━━━━━━━━━━━━━━━━━━━━━━━━━━━━━━━━\u001b[0m \u001b[32m32.5/32.5 MB\u001b[0m \u001b[31m21.6 MB/s\u001b[0m eta \u001b[36m0:00:00\u001b[0ma \u001b[36m0:00:01\u001b[0m\n",
      "\u001b[?25hInstalling collected packages: scipy\n",
      "Successfully installed scipy-1.15.1\n"
     ]
    }
   ],
   "source": [
    "!pip install scipy"
   ]
  },
  {
   "cell_type": "code",
   "execution_count": 70,
   "metadata": {},
   "outputs": [
    {
     "name": "stdout",
     "output_type": "stream",
     "text": [
      "/Users/linlin/Documents/DS_sideProjects/statisticalAnalysis\n"
     ]
    }
   ],
   "source": [
    "import numpy as np\n",
    "import pandas as pd\n",
    "import matplotlib.pyplot as plt\n",
    "import seaborn as sns\n",
    "import requests\n",
    "import re\n",
    "from bs4 import BeautifulSoup\n",
    "import urllib3 # to bypass SSL verification and suppress warnings (not recommended for production level)\n",
    "import os \n",
    "import scipy.stats as stats\n",
    "print(os.getcwd()) #print the current working directory"
   ]
  },
  {
   "cell_type": "code",
   "execution_count": 2,
   "metadata": {},
   "outputs": [],
   "source": [
    "# Set pandas to display all columns\n",
    "pd.set_option('display.max_columns', None) #None as no column limit for display"
   ]
  },
  {
   "cell_type": "code",
   "execution_count": 3,
   "metadata": {},
   "outputs": [],
   "source": [
    "cwd = os.getcwd()\n",
    "relative_path = \"votingState.txt\"\n",
    "file_path = os.path.join(cwd, relative_path)"
   ]
  },
  {
   "cell_type": "code",
   "execution_count": 4,
   "metadata": {},
   "outputs": [
    {
     "name": "stdout",
     "output_type": "stream",
     "text": [
      "Alabama - 9 votes\n",
      "\n",
      "Kentucky - 8 votes\n",
      "\n",
      "North Dakota - 3 votes\n",
      "\n",
      "Alaska - 3 votes\n",
      "\n",
      "Louisiana - 8 votes\n"
     ]
    }
   ],
   "source": [
    "with open(file_path, 'r') as file:\n",
    "    text = file.read()\n",
    "    print(text[:100])\n"
   ]
  },
  {
   "cell_type": "code",
   "execution_count": 5,
   "metadata": {},
   "outputs": [
    {
     "name": "stdout",
     "output_type": "stream",
     "text": [
      "['Alabama', 'Kentucky', 'North Dakota', 'Alaska', 'Louisiana', 'Ohio', 'Arizona', 'Maine', 'Oklahoma', 'Arkansas', 'Maryland', 'Oregon', 'California', 'Massachusetts', 'Pennsylvania', 'Colorado', 'Michigan', 'Rhode Island', 'Connecticut', 'Minnesota', 'South Carolina', 'Delaware', 'Mississippi', 'South Dakota', 'District of Columbia', 'Missouri', 'Tennessee', 'Florida', 'Montana', 'Texas', 'Georgia', 'Nebraska', 'Utah', 'Hawaii', 'Nevada', 'Vermont', 'Idaho', 'New Hampshire', 'Virginia', 'Illinois', 'New Jersey', 'Washington', 'Indiana', 'New Mexico', 'West Virginia', 'Iowa', 'New York', 'Wisconsin', 'Kansas', 'North Carolina']\n"
     ]
    }
   ],
   "source": [
    "# Regex pattern to find state name\n",
    "pattern = r\"^[A-Za-z\\s]+(?=\\s*-\\s*\\d+\\s*votes\\n)\"\n",
    "voting_states = re.findall(pattern, text, flags=re.M)\n",
    "voting_states = [match.strip() for match in voting_states]\n",
    "print(voting_states)"
   ]
  },
  {
   "cell_type": "markdown",
   "metadata": {},
   "source": [
    "* `^` anchor the start of each line\n",
    "* `re.M` allows `^` to work on each line independently\n",
    "* `str.strip()` to remove any leading or trailing whitespace\n",
    "*`\\s` match any whitespace character"
   ]
  },
  {
   "cell_type": "markdown",
   "metadata": {},
   "source": [
    "## Read 2020 Election Data"
   ]
  },
  {
   "cell_type": "code",
   "execution_count": 6,
   "metadata": {},
   "outputs": [],
   "source": [
    "cwd = os.getcwd()\n",
    "relative_path = \"2020_election_results.txt\"\n",
    "file_path = os.path.join(cwd, relative_path)"
   ]
  },
  {
   "cell_type": "code",
   "execution_count": 7,
   "metadata": {},
   "outputs": [
    {
     "name": "stdout",
     "output_type": "stream",
     "text": [
      "STATE RESULTS\n",
      "President: Alabama\n",
      "9 Electoral Votes\n",
      "Trump\n",
      "PROJECTED WINNER\n",
      "+ FOLLOW\n",
      "Candidate\t%\t\tVotes\n",
      "Trump\n",
      "62.0%\t\n",
      "1,441,170\n",
      "Biden\n",
      "36.6%\t\n",
      "849,624\n",
      "Est. 99% In\n",
      "Updated 10:17 p.m. ET, Mar. 6\n",
      "Full Details\n"
     ]
    }
   ],
   "source": [
    "# read 2020 election result text file and extract \n",
    "try:\n",
    "    with open(file_path, 'r') as file:\n",
    "        text = file.read()\n",
    "    print(text[:200]) # display the first 100 characters to confirm success\n",
    "except FileNotFoundError:\n",
    "    print(f\"File not found at {file_path}\")\n",
    "except UnicodeDecodeError:\n",
    "    print(f\"Encoding issue while reading the file. Try another eoncding.\")\n"
   ]
  },
  {
   "cell_type": "markdown",
   "metadata": {},
   "source": [
    "[`regex`](https://www.w3schools.com/python/python_regex.asp) to extract expression pattern, and comfile the matches into dataframe:"
   ]
  },
  {
   "cell_type": "code",
   "execution_count": 8,
   "metadata": {},
   "outputs": [],
   "source": [
    "pattern = (\n",
    "    # Lines begin with 'President', followed by the state name into 'state' column\n",
    "    r\"President:\\s*(?P<state>[A-Za-z\\s]+)\\n\"\n",
    "    r\"(?P<electoral_votes>\\d+)\\s*Electoral Votes\\n\"\n",
    "    r\"(?P<winner>Trump|Biden)\\nPROJECTED WINNER\\n\\+ FOLLOW\\n\"\n",
    "    # Tie votes to name\n",
    "    r\"Candidate\\t%\\t\\tVotes\\n(?P<candidate1>Trump|Biden)\\n(?:\\d+\\.\\d+%)?\\s*\\n?(?P<votes1>[\\d,]+)\\n(?P<candidate2>Trump|Biden)\\n(?:\\d+.\\d+%)?s*\\n?(?P<votes2>[\\d,]+)\"\n",
    ")"
   ]
  },
  {
   "cell_type": "code",
   "execution_count": 9,
   "metadata": {},
   "outputs": [],
   "source": [
    "# Compile the regrex pattern\n",
    "regex = re.compile(pattern)\n",
    "\n",
    "# Find all matches in the text and return a list of tuples\n",
    "# matches = regex.findall(text)\n",
    "matches = regex.finditer(text)"
   ]
  },
  {
   "cell_type": "code",
   "execution_count": null,
   "metadata": {},
   "outputs": [
    {
     "data": {
      "text/plain": [
       "[('Alabama', '9', 'Trump', 'Trump', '1,441,170', 'Biden', '36'), ('Alaska', '3', 'Trump', 'Trump', '189,951', 'Biden', '42'), ('Arizona\\nParty change\\nBATTLEGROUND', '11', 'Biden', 'Biden', '1,672,143', 'Trump', '49'), ('Arkansas', '6', 'Trump', 'Trump', '760,647', 'Biden', '34'), ('California', '55', 'Biden', 'Biden', '11,110,250', 'Trump', '34'), ('Colorado\\nBATTLEGROUND', '9', 'Biden', 'Biden', '1,804,352', 'Trump', '41'), ('Connecticut', '7', 'Biden', 'Biden', '1,080,831', 'Trump', '39'), ('Delaware', '3', 'Biden', 'Biden', '296,268', 'Trump', '39'), ('District Of Columbia', '3', 'Biden', 'Biden', '317,323', 'Trump', '5'), ('Florida\\nBATTLEGROUND', '29', 'Trump', 'Trump', '5,668,731', 'Biden', '47'), ('Georgia\\nParty change\\nBATTLEGROUND', '16', 'Biden', 'Biden', '2,473,633', 'Trump', '49'), ('Hawaii', '4', 'Biden', 'Biden', '366,130', 'Trump', '34'), ('Idaho', '4', 'Trump', 'Trump', '554,119', 'Biden', '33'), ('Illinois', '20', 'Biden', 'Biden', '3,471,915', 'Trump', '40'), ('Indiana', '11', 'Trump', 'Trump', '1,729,857', 'Biden', '41'), ('Iowa\\nBATTLEGROUND', '6', 'Trump', 'Trump', '897,672', 'Biden', '44'), ('Kansas', '6', 'Trump', 'Trump', '771,406', 'Biden', '41'), ('Kentucky', '8', 'Trump', 'Trump', '1,326,646', 'Biden', '36'), ('Louisiana', '8', 'Trump', 'Trump', '1,255,776', 'Biden', '39'), ('Maryland', '10', 'Biden', 'Biden', '1,985,023', 'Trump', '32'), ('Massachusetts', '11', 'Biden', 'Biden', '2,382,202', 'Trump', '32'), ('Michigan\\nParty change\\nBATTLEGROUND', '16', 'Biden', 'Biden', '2,804,040', 'Trump', '47'), ('Minnesota\\nBATTLEGROUND', '10', 'Biden', 'Biden', '1,717,077', 'Trump', '45'), ('Mississippi', '6', 'Trump', 'Trump', '756,764', 'Biden', '41'), ('Missouri', '10', 'Trump', 'Trump', '1,718,736', 'Biden', '41'), ('Montana', '3', 'Trump', 'Trump', '343,602', 'Biden', '40'), ('Nevada\\nBATTLEGROUND', '6', 'Biden', 'Biden', '703,486', 'Trump', '47'), ('New Hampshire\\nBATTLEGROUND', '4', 'Biden', 'Biden', '424,937', 'Trump', '45'), ('New Jersey', '14', 'Biden', 'Biden', '2,608,400', 'Trump', '41'), ('New Mexico', '5', 'Biden', 'Biden', '501,614', 'Trump', '43'), ('New York', '29', 'Biden', 'Biden', '5,244,886', 'Trump', '37'), ('North Carolina\\nBATTLEGROUND', '15', 'Trump', 'Trump', '2,758,775', 'Biden', '48'), ('North Dakota', '3', 'Trump', 'Trump', '235,595', 'Biden', '31'), ('Ohio\\nBATTLEGROUND', '18', 'Trump', 'Trump', '3,154,834', 'Biden', '45'), ('Oklahoma', '7', 'Trump', 'Trump', '1,020,280', 'Biden', '32'), ('Oregon', '7', 'Biden', 'Biden', '1,340,383', 'Trump', '40'), ('Pennsylvania\\nParty change\\nBATTLEGROUND', '20', 'Biden', 'Biden', '3,459,923', 'Trump', '48'), ('Rhode Island', '4', 'Biden', 'Biden', '307,486', 'Trump', '38'), ('South Carolina', '9', 'Trump', 'Trump', '1,385,103', 'Biden', '43'), ('South Dakota', '3', 'Trump', 'Trump', '261,043', 'Biden', '35'), ('Tennessee', '11', 'Trump', 'Trump', '1,852,475', 'Biden', '37'), ('Texas\\nBATTLEGROUND', '38', 'Trump', 'Trump', '5,890,347', 'Biden', '46'), ('Utah', '6', 'Trump', 'Trump', '865,140', 'Biden', '37'), ('Vermont', '3', 'Biden', 'Biden', '242,820', 'Trump', '30'), ('Virginia\\nBATTLEGROUND', '13', 'Biden', 'Biden', '2,413,568', 'Trump', '44'), ('Washington', '12', 'Biden', 'Biden', '2,369,612', 'Trump', '38'), ('West Virginia', '5', 'Trump', 'Trump', '545,382', 'Biden', '29'), ('Wisconsin\\nParty change\\nBATTLEGROUND', '10', 'Biden', 'Biden', '1,630,866', 'Trump', '48'), ('Wyoming', '3', 'Trump', 'Trump', '193,559', 'Biden', '26')]\n"
      ]
     },
     "metadata": {},
     "output_type": "display_data"
    }
   ],
   "source": [
    "# matches"
   ]
  },
  {
   "cell_type": "markdown",
   "metadata": {},
   "source": [
    "`matches` is a list of tuples, if using `re.findall()`, can only access with index such as `match[0]`. Or use `re.finditer()` to return match objects (so that you could use `.group()` later)"
   ]
  },
  {
   "cell_type": "code",
   "execution_count": 10,
   "metadata": {},
   "outputs": [],
   "source": [
    "# Process the matches\n",
    "results = []\n",
    "for match in matches:\n",
    "    candidate1 = match.group('candidate1')\n",
    "    votes1 = int(match.group('votes1').replace(',',''))\n",
    "    candidate2 = match.group('candidate2')\n",
    "    votes2 = int(match.group('votes2').replace(',',''))  \n",
    "\n",
    "    # Assign votes to candidates\n",
    "    if candidate1 == 'Trump':\n",
    "        trump_votes, biden_votes = votes1, votes2\n",
    "    else:\n",
    "        trump_votes, biden_votes = votes2, votes1\n",
    "    \n",
    "    # Append the results\n",
    "    results.append({\n",
    "        \"State\": match.group('state'), #instead of match[0] so that we prevent indexing error\n",
    "        # winner takes all\n",
    "        \"Electoral Votes\": int(match.group('electoral_votes')),\n",
    "        \"Winner\": match.group('winner'),\n",
    "        \"Trump Votes\": trump_votes,\n",
    "        \"Biden Votes\": biden_votes\n",
    "    })\n",
    "\n",
    "voting_df = pd.DataFrame(results)\n"
   ]
  },
  {
   "cell_type": "code",
   "execution_count": 19,
   "metadata": {},
   "outputs": [
    {
     "name": "stdout",
     "output_type": "stream",
     "text": [
      "<class 'pandas.core.frame.DataFrame'>\n",
      "RangeIndex: 49 entries, 0 to 48\n",
      "Data columns (total 5 columns):\n",
      " #   Column           Non-Null Count  Dtype \n",
      "---  ------           --------------  ----- \n",
      " 0   State            49 non-null     object\n",
      " 1   Electoral Votes  49 non-null     int64 \n",
      " 2   Winner           49 non-null     object\n",
      " 3   Trump Votes      49 non-null     int64 \n",
      " 4   Biden Votes      49 non-null     int64 \n",
      "dtypes: int64(3), object(2)\n",
      "memory usage: 2.0+ KB\n"
     ]
    }
   ],
   "source": [
    "voting_df.info()"
   ]
  },
  {
   "cell_type": "code",
   "execution_count": 11,
   "metadata": {},
   "outputs": [],
   "source": [
    "# Winner takes all\n",
    "voting_df['Trump Electoral Votes'] = voting_df.apply(lambda row: row['Electoral Votes'] if row.Winner == 'Trump' else 0, 1) \n",
    "voting_df['Biden Electoral Votes'] = voting_df.apply(lambda row: row['Electoral Votes'] if row.Winner == 'Biden' else 0, 1)"
   ]
  },
  {
   "cell_type": "code",
   "execution_count": 21,
   "metadata": {},
   "outputs": [
    {
     "name": "stdout",
     "output_type": "stream",
     "text": [
      "<class 'pandas.core.frame.DataFrame'>\n",
      "RangeIndex: 49 entries, 0 to 48\n",
      "Data columns (total 7 columns):\n",
      " #   Column                 Non-Null Count  Dtype \n",
      "---  ------                 --------------  ----- \n",
      " 0   State                  49 non-null     object\n",
      " 1   Electoral Votes        49 non-null     int64 \n",
      " 2   Winner                 49 non-null     object\n",
      " 3   Trump Votes            49 non-null     int64 \n",
      " 4   Biden Votes            49 non-null     int64 \n",
      " 5   Trump Electoral Votes  49 non-null     int64 \n",
      " 6   Biden Electoral Votes  49 non-null     int64 \n",
      "dtypes: int64(5), object(2)\n",
      "memory usage: 2.8+ KB\n"
     ]
    }
   ],
   "source": [
    "voting_df.info()"
   ]
  },
  {
   "cell_type": "code",
   "execution_count": 22,
   "metadata": {},
   "outputs": [
    {
     "data": {
      "text/html": [
       "<div>\n",
       "<style scoped>\n",
       "    .dataframe tbody tr th:only-of-type {\n",
       "        vertical-align: middle;\n",
       "    }\n",
       "\n",
       "    .dataframe tbody tr th {\n",
       "        vertical-align: top;\n",
       "    }\n",
       "\n",
       "    .dataframe thead th {\n",
       "        text-align: right;\n",
       "    }\n",
       "</style>\n",
       "<table border=\"1\" class=\"dataframe\">\n",
       "  <thead>\n",
       "    <tr style=\"text-align: right;\">\n",
       "      <th></th>\n",
       "      <th>State</th>\n",
       "      <th>Electoral Votes</th>\n",
       "      <th>Winner</th>\n",
       "      <th>Trump Votes</th>\n",
       "      <th>Biden Votes</th>\n",
       "      <th>Trump Electoral Votes</th>\n",
       "      <th>Biden Electoral Votes</th>\n",
       "    </tr>\n",
       "  </thead>\n",
       "  <tbody>\n",
       "    <tr>\n",
       "      <th>0</th>\n",
       "      <td>Alabama</td>\n",
       "      <td>9</td>\n",
       "      <td>Trump</td>\n",
       "      <td>1441170</td>\n",
       "      <td>36</td>\n",
       "      <td>9</td>\n",
       "      <td>0</td>\n",
       "    </tr>\n",
       "    <tr>\n",
       "      <th>1</th>\n",
       "      <td>Alaska</td>\n",
       "      <td>3</td>\n",
       "      <td>Trump</td>\n",
       "      <td>189951</td>\n",
       "      <td>42</td>\n",
       "      <td>3</td>\n",
       "      <td>0</td>\n",
       "    </tr>\n",
       "    <tr>\n",
       "      <th>2</th>\n",
       "      <td>Arizona\\nParty change\\nBATTLEGROUND</td>\n",
       "      <td>11</td>\n",
       "      <td>Biden</td>\n",
       "      <td>49</td>\n",
       "      <td>1672143</td>\n",
       "      <td>0</td>\n",
       "      <td>11</td>\n",
       "    </tr>\n",
       "    <tr>\n",
       "      <th>3</th>\n",
       "      <td>Arkansas</td>\n",
       "      <td>6</td>\n",
       "      <td>Trump</td>\n",
       "      <td>760647</td>\n",
       "      <td>34</td>\n",
       "      <td>6</td>\n",
       "      <td>0</td>\n",
       "    </tr>\n",
       "    <tr>\n",
       "      <th>4</th>\n",
       "      <td>California</td>\n",
       "      <td>55</td>\n",
       "      <td>Biden</td>\n",
       "      <td>34</td>\n",
       "      <td>11110250</td>\n",
       "      <td>0</td>\n",
       "      <td>55</td>\n",
       "    </tr>\n",
       "  </tbody>\n",
       "</table>\n",
       "</div>"
      ],
      "text/plain": [
       "                                 State  Electoral Votes Winner  Trump Votes  \\\n",
       "0                              Alabama                9  Trump      1441170   \n",
       "1                               Alaska                3  Trump       189951   \n",
       "2  Arizona\\nParty change\\nBATTLEGROUND               11  Biden           49   \n",
       "3                             Arkansas                6  Trump       760647   \n",
       "4                           California               55  Biden           34   \n",
       "\n",
       "   Biden Votes  Trump Electoral Votes  Biden Electoral Votes  \n",
       "0           36                      9                      0  \n",
       "1           42                      3                      0  \n",
       "2      1672143                      0                     11  \n",
       "3           34                      6                      0  \n",
       "4     11110250                      0                     55  "
      ]
     },
     "execution_count": 22,
     "metadata": {},
     "output_type": "execute_result"
    }
   ],
   "source": [
    "voting_df.head()"
   ]
  },
  {
   "cell_type": "markdown",
   "metadata": {},
   "source": [
    "From above we see that State column requires cleansing: \n",
    "-> split on newline character(`\\n`) and takes only the first index"
   ]
  },
  {
   "cell_type": "code",
   "execution_count": 12,
   "metadata": {},
   "outputs": [],
   "source": [
    "voting_df.State = voting_df.State.apply(lambda x: x.split('\\n')[0]) "
   ]
  },
  {
   "cell_type": "markdown",
   "metadata": {},
   "source": [
    "Check if there's missing data: \n",
    "* `set()` are optimized for operations like `difference` or `intersection`, faster than comparing 2 lists directly, and it automatically removes duplicates"
   ]
  },
  {
   "cell_type": "code",
   "execution_count": 13,
   "metadata": {},
   "outputs": [
    {
     "name": "stdout",
     "output_type": "stream",
     "text": [
      "{'Nebraska', 'District of Columbia', 'Maine'}\n"
     ]
    }
   ],
   "source": [
    "present_states = set(voting_df.State)\n",
    "missing_states = set(voting_states) - present_states\n",
    "print(missing_states)"
   ]
  },
  {
   "cell_type": "code",
   "execution_count": 25,
   "metadata": {},
   "outputs": [
    {
     "data": {
      "text/plain": [
       "<bound method Series.unique of 0                  Alabama\n",
       "1                   Alaska\n",
       "2                  Arizona\n",
       "3                 Arkansas\n",
       "4               California\n",
       "5                 Colorado\n",
       "6              Connecticut\n",
       "7                 Delaware\n",
       "8     District Of Columbia\n",
       "9                  Florida\n",
       "10                 Georgia\n",
       "11                  Hawaii\n",
       "12                   Idaho\n",
       "13                Illinois\n",
       "14                 Indiana\n",
       "15                    Iowa\n",
       "16                  Kansas\n",
       "17                Kentucky\n",
       "18               Louisiana\n",
       "19                Maryland\n",
       "20           Massachusetts\n",
       "21                Michigan\n",
       "22               Minnesota\n",
       "23             Mississippi\n",
       "24                Missouri\n",
       "25                 Montana\n",
       "26                  Nevada\n",
       "27           New Hampshire\n",
       "28              New Jersey\n",
       "29              New Mexico\n",
       "30                New York\n",
       "31          North Carolina\n",
       "32            North Dakota\n",
       "33                    Ohio\n",
       "34                Oklahoma\n",
       "35                  Oregon\n",
       "36            Pennsylvania\n",
       "37            Rhode Island\n",
       "38          South Carolina\n",
       "39            South Dakota\n",
       "40               Tennessee\n",
       "41                   Texas\n",
       "42                    Utah\n",
       "43                 Vermont\n",
       "44                Virginia\n",
       "45              Washington\n",
       "46           West Virginia\n",
       "47               Wisconsin\n",
       "48                 Wyoming\n",
       "Name: State, dtype: object>"
      ]
     },
     "execution_count": 25,
     "metadata": {},
     "output_type": "execute_result"
    }
   ],
   "source": [
    "voting_df.State.unique"
   ]
  },
  {
   "cell_type": "markdown",
   "metadata": {},
   "source": [
    "We have `District Of Columbia`, but indeed missing the other two."
   ]
  },
  {
   "cell_type": "markdown",
   "metadata": {},
   "source": [
    "`voting_df['State']` is a pandas Series, so we use `isin()`"
   ]
  },
  {
   "cell_type": "code",
   "execution_count": 14,
   "metadata": {},
   "outputs": [
    {
     "name": "stdout",
     "output_type": "stream",
     "text": [
      "Empty DataFrame\n",
      "Columns: [State, Electoral Votes, Winner, Trump Votes, Biden Votes, Trump Electoral Votes, Biden Electoral Votes]\n",
      "Index: []\n"
     ]
    }
   ],
   "source": [
    "na_df = voting_df[voting_df['State'].isin(missing_states)] \n",
    "print(na_df)"
   ]
  },
  {
   "cell_type": "code",
   "execution_count": 15,
   "metadata": {},
   "outputs": [
    {
     "name": "stdout",
     "output_type": "stream",
     "text": [
      "Rows with District of Columbia:\n",
      "                  State  Electoral Votes Winner  Trump Votes  Biden Votes  \\\n",
      "8  District Of Columbia                3  Biden            5       317323   \n",
      "\n",
      "   Trump Electoral Votes  Biden Electoral Votes  \n",
      "8                      0                      3  \n"
     ]
    }
   ],
   "source": [
    "dc_rows = voting_df[voting_df['State'] == 'District Of Columbia']\n",
    "print(\"Rows with District of Columbia:\")\n",
    "print(dc_rows)\n"
   ]
  },
  {
   "cell_type": "markdown",
   "metadata": {},
   "source": [
    "Confirmed that it's font size issue."
   ]
  },
  {
   "cell_type": "code",
   "execution_count": 16,
   "metadata": {},
   "outputs": [],
   "source": [
    "# Add missing data\n",
    "missing_df = pd.DataFrame(\n",
    "    columns=voting_df.columns,\n",
    "    data=[['Maine', 4, 'Biden', 360737, 435072, 1, 3], ['Nebraska', 5, 'Trump', 556846, 374583, 4, 1]]\n",
    ")\n",
    "\n",
    "voting_df = pd.concat([voting_df, missing_df])\n",
    "\n",
    "voting_df = voting_df.sort_values('State').reset_index(drop=True)"
   ]
  },
  {
   "cell_type": "code",
   "execution_count": 28,
   "metadata": {},
   "outputs": [
    {
     "data": {
      "text/html": [
       "<div>\n",
       "<style scoped>\n",
       "    .dataframe tbody tr th:only-of-type {\n",
       "        vertical-align: middle;\n",
       "    }\n",
       "\n",
       "    .dataframe tbody tr th {\n",
       "        vertical-align: top;\n",
       "    }\n",
       "\n",
       "    .dataframe thead th {\n",
       "        text-align: right;\n",
       "    }\n",
       "</style>\n",
       "<table border=\"1\" class=\"dataframe\">\n",
       "  <thead>\n",
       "    <tr style=\"text-align: right;\">\n",
       "      <th></th>\n",
       "      <th>State</th>\n",
       "      <th>Electoral Votes</th>\n",
       "      <th>Winner</th>\n",
       "      <th>Trump Votes</th>\n",
       "      <th>Biden Votes</th>\n",
       "      <th>Trump Electoral Votes</th>\n",
       "      <th>Biden Electoral Votes</th>\n",
       "    </tr>\n",
       "  </thead>\n",
       "  <tbody>\n",
       "    <tr>\n",
       "      <th>0</th>\n",
       "      <td>Alabama</td>\n",
       "      <td>9</td>\n",
       "      <td>Trump</td>\n",
       "      <td>1441170</td>\n",
       "      <td>36</td>\n",
       "      <td>9</td>\n",
       "      <td>0</td>\n",
       "    </tr>\n",
       "    <tr>\n",
       "      <th>1</th>\n",
       "      <td>Alaska</td>\n",
       "      <td>3</td>\n",
       "      <td>Trump</td>\n",
       "      <td>189951</td>\n",
       "      <td>42</td>\n",
       "      <td>3</td>\n",
       "      <td>0</td>\n",
       "    </tr>\n",
       "    <tr>\n",
       "      <th>2</th>\n",
       "      <td>Arizona</td>\n",
       "      <td>11</td>\n",
       "      <td>Biden</td>\n",
       "      <td>49</td>\n",
       "      <td>1672143</td>\n",
       "      <td>0</td>\n",
       "      <td>11</td>\n",
       "    </tr>\n",
       "    <tr>\n",
       "      <th>3</th>\n",
       "      <td>Arkansas</td>\n",
       "      <td>6</td>\n",
       "      <td>Trump</td>\n",
       "      <td>760647</td>\n",
       "      <td>34</td>\n",
       "      <td>6</td>\n",
       "      <td>0</td>\n",
       "    </tr>\n",
       "    <tr>\n",
       "      <th>4</th>\n",
       "      <td>California</td>\n",
       "      <td>55</td>\n",
       "      <td>Biden</td>\n",
       "      <td>34</td>\n",
       "      <td>11110250</td>\n",
       "      <td>0</td>\n",
       "      <td>55</td>\n",
       "    </tr>\n",
       "  </tbody>\n",
       "</table>\n",
       "</div>"
      ],
      "text/plain": [
       "        State  Electoral Votes Winner  Trump Votes  Biden Votes  \\\n",
       "0     Alabama                9  Trump      1441170           36   \n",
       "1      Alaska                3  Trump       189951           42   \n",
       "2     Arizona               11  Biden           49      1672143   \n",
       "3    Arkansas                6  Trump       760647           34   \n",
       "4  California               55  Biden           34     11110250   \n",
       "\n",
       "   Trump Electoral Votes  Biden Electoral Votes  \n",
       "0                      9                      0  \n",
       "1                      3                      0  \n",
       "2                      0                     11  \n",
       "3                      6                      0  \n",
       "4                      0                     55  "
      ]
     },
     "execution_count": 28,
     "metadata": {},
     "output_type": "execute_result"
    }
   ],
   "source": [
    "voting_df.head()"
   ]
  },
  {
   "cell_type": "markdown",
   "metadata": {},
   "source": [
    "## Scrape latest state-level polling data\n",
    "\n",
    "Source: [538 Polls data](https://projects.fivethirtyeight.com/polls/president-general)"
   ]
  },
  {
   "cell_type": "code",
   "execution_count": 17,
   "metadata": {},
   "outputs": [],
   "source": [
    "# Suppress warnings if SSL verification is disabled\n",
    "urllib3.disable_warnings(urllib3.exceptions.InsecureRequestWarning)"
   ]
  },
  {
   "cell_type": "markdown",
   "metadata": {},
   "source": [
    "### Core Scraper\n",
    "* Extract poll data from the correct table rows (`<tr>`)\n",
    "* Handle structure variation (eg. missing poll results, different candidate names)\n",
    "* Store daata in a structured dictionary for a easy conversion to dataframe\n",
    "---\n",
    "* `fina_all()` returns multiple elements, but as we need only one, could use `find()` instead to search for a single element.\n",
    "* `str.contains()` to return matches like \"Biden\", \"Harris\".\n",
    "* If data is misssing, fill with nataional data.\n",
    "* Since the percentage is inside a `<div>`, we need to access the `<div>` first.\n",
    "* Ensure we always use \"Harris\" as it could be `array(['Kennedy', 'Harris', 'Biden'], dtype=object)`"
   ]
  },
  {
   "cell_type": "markdown",
   "metadata": {},
   "source": [
    "Found Trump's polling result as this for those having \"More\" toggle:\n",
    "```\n",
    "<tr class=\"expandable-row\">\n",
    "...\n",
    "   </div>\n",
    "   <div class=\"value hide-mobile expandable\">\n",
    "    <div class=\"heat-map\" style=\"background-color:#dc543f;color:#ffffff;\">\n",
    "     59%\n",
    "    </div>\n",
    "    <span class=\"choiceName\">\n",
    "     Trump\n",
    "    </span>\n",
    "   </div>\n",
    "   <div class=\"value hide-mobile expandable\">\n",
    "```"
   ]
  },
  {
   "cell_type": "code",
   "execution_count": 42,
   "metadata": {},
   "outputs": [],
   "source": [
    "# Fallback: national polling url\n",
    "NATIONAL_url = \"https://projects.fivethirtyeight.com/polls/president-general/2024/national/\""
   ]
  },
  {
   "cell_type": "code",
   "execution_count": 61,
   "metadata": {},
   "outputs": [],
   "source": [
    "def get_latest_poll(url, state):\n",
    "    response = requests.get(url, verify=False)\n",
    "    soup = BeautifulSoup(response.content, 'html.parser')\n",
    "\n",
    "    # Find all rows for polls\n",
    "    all_rows = soup.find_all('tr')\n",
    "    latest_poll = next((row for row in all_rows if 'visible-row' in row.get('class', [])), None)\n",
    "\n",
    "    if not latest_poll:\n",
    "        print(f\"No polling data found for state: {state}.\")\n",
    "        return None\n",
    "\n",
    "    results_dict = {\n",
    "        'State': state,\n",
    "        'Date': None,\n",
    "        'Sample Size': None,\n",
    "        'Pollster': None,\n",
    "        'Democratic Candidate': None,\n",
    "        'Democratic Result': None,\n",
    "        'Trump Result': None\n",
    "    }\n",
    "\n",
    "    # Extract basic information\n",
    "    try:\n",
    "        results_dict['Date'] = latest_poll.find('td', class_='dates hide-mobile').get_text(strip=True)\n",
    "        results_dict['Sample Size'] = latest_poll.find('td', class_='sample hide-mobile').get_text(strip=True)\n",
    "        results_dict['Pollster'] = latest_poll.find('div', class_='pollster-name').get_text(strip=True)\n",
    "\n",
    "        # Extract Democratic candidate and result\n",
    "        dem_candidate = latest_poll.find('td', class_='answer first hide-mobile').get_text(strip=True)\n",
    "        dem_result = latest_poll.find('td', class_='value hide-mobile hide-default').get_text(strip=True)\n",
    "\n",
    "        # Normalize Democratic Candidate to \"Harris\"\n",
    "        if dem_candidate in ['Biden', 'Kennedy']:\n",
    "            dem_candidate = 'Harris'\n",
    "        results_dict['Democratic Candidate'] = dem_candidate\n",
    "        results_dict['Democratic Result'] = dem_result\n",
    "        \n",
    "        # Extract Trump result from the main row\n",
    "        trump_cell = latest_poll.find('td', class_='answer hide-mobile', string=\"Trump\")\n",
    "        if trump_cell:\n",
    "            trump_result = trump_cell.find_previous_sibling('td', class_='value hide-mobile')\n",
    "            if trump_result:\n",
    "                results_dict['Trump Result'] = trump_result.get_text(strip=True)\n",
    "\n",
    "        # If Trump is missing, check the expandable row\n",
    "        if results_dict['Trump Result'] is None:\n",
    "            expandable_row = latest_poll.find_next_sibling('tr', class_='expandable-row')\n",
    "            if expandable_row:\n",
    "                candidate_blocks = expandable_row.find_all('div', class_='value hide-mobile expandable')\n",
    "                for block in candidate_blocks:\n",
    "                    candidate_name = block.find('span', class_='choiceName')\n",
    "                    if candidate_name and \"Trump\" in candidate_name.get_text(strip=True):\n",
    "                        heat_map_div = block.find('div', class_='heat-map')\n",
    "                        if heat_map_div:\n",
    "                            results_dict['Trump Result'] = heat_map_div.get_text(strip=True)\n",
    "                            break  # Stop once we find Trump's result\n",
    "\n",
    "    except AttributeError as e:\n",
    "        print(f\"Error parsing data for {state}: {e}\")\n",
    "        return None\n",
    "\n",
    "    return results_dict"
   ]
  },
  {
   "cell_type": "code",
   "execution_count": 62,
   "metadata": {},
   "outputs": [
    {
     "name": "stdout",
     "output_type": "stream",
     "text": [
      "{'State': 'north-carolina', 'Date': 'Nov. 3-4, 2024', 'Sample Size': '1,219', 'Pollster': 'AtlasIntel', 'Democratic Candidate': 'Harris', 'Democratic Result': '48%', 'Trump Result': '50%'}\n"
     ]
    }
   ],
   "source": [
    "# Example usage\n",
    "state = \"north-carolina\"#\"rhode-island\"#\"north-dakota\"\n",
    "url = f\"https://projects.fivethirtyeight.com/polls/president-general/2024/{state}/\"\n",
    "latest_poll = get_latest_poll(url, state)\n",
    "print(latest_poll)"
   ]
  },
  {
   "cell_type": "code",
   "execution_count": 63,
   "metadata": {},
   "outputs": [
    {
     "name": "stdout",
     "output_type": "stream",
     "text": [
      "{'State': 'rhode-island', 'Date': 'Oct.\\xa029-Nov.\\xa02, 2024', 'Sample Size': '708', 'Pollster': 'University of New Hampshire Survey Center', 'Democratic Candidate': 'Harris', 'Democratic Result': '54%', 'Trump Result': '40%'}\n"
     ]
    }
   ],
   "source": [
    "state = \"rhode-island\"#\"north-dakota\"\n",
    "url = f\"https://projects.fivethirtyeight.com/polls/president-general/2024/{state}/\"\n",
    "latest_poll = get_latest_poll(url, state)\n",
    "print(latest_poll)"
   ]
  },
  {
   "cell_type": "code",
   "execution_count": 64,
   "metadata": {},
   "outputs": [
    {
     "name": "stdout",
     "output_type": "stream",
     "text": [
      "{'State': 'north-dakota', 'Date': 'Sept. 28-30, 2024', 'Sample Size': '500', 'Pollster': 'WPA Intelligence', 'Democratic Candidate': 'Harris', 'Democratic Result': '32%', 'Trump Result': '59%'}\n"
     ]
    }
   ],
   "source": [
    "state = \"north-dakota\"\n",
    "url = f\"https://projects.fivethirtyeight.com/polls/president-general/2024/{state}/\"\n",
    "latest_poll = get_latest_poll(url, state)\n",
    "print(latest_poll)"
   ]
  },
  {
   "cell_type": "code",
   "execution_count": 65,
   "metadata": {},
   "outputs": [
    {
     "name": "stdout",
     "output_type": "stream",
     "text": [
      "{'State': 'alaska', 'Date': 'Oct. 20-22, 2024', 'Sample Size': '1,703', 'Pollster': 'Alaska Survey Research', 'Democratic Candidate': 'Harris', 'Democratic Result': '45%', 'Trump Result': '55%'}\n"
     ]
    }
   ],
   "source": [
    "state = \"alaska\"\n",
    "url = f\"https://projects.fivethirtyeight.com/polls/president-general/2024/{state}/\"\n",
    "latest_poll = get_latest_poll(url, state)\n",
    "print(latest_poll)"
   ]
  },
  {
   "cell_type": "markdown",
   "metadata": {},
   "source": [
    "### Intermediate Function\n",
    "Dynamically builds the state URL and passes it to get_latest_poll"
   ]
  },
  {
   "cell_type": "code",
   "execution_count": 55,
   "metadata": {},
   "outputs": [],
   "source": [
    "# Function to dynamically constructs the URL for a given state based on its abbreviation\n",
    "def get_poll_url(state):\n",
    "    \"\"\"Construcst a URL for a given state's polling data by formatting its name\n",
    "    \"\"\"\n",
    "    # Define the URL for DC because of error in http\n",
    "    if state == \"District of Columbia\":#only has 2020 polling result\n",
    "        state_url = f\"https://projects.fivethirtyeight.com/polls/president-general/2020/\"\n",
    "    else:\n",
    "        state_url = f\"https://projects.fivethirtyeight.com/polls/president-general/2024/\"\n",
    "\n",
    "    # Convert spaces to hyphens \n",
    "    formatted_state = state.lower().replace(\" \", \"-\")\n",
    "    return f\"{state_url}{formatted_state}/\""
   ]
  },
  {
   "cell_type": "code",
   "execution_count": 56,
   "metadata": {},
   "outputs": [
    {
     "name": "stdout",
     "output_type": "stream",
     "text": [
      "https://projects.fivethirtyeight.com/polls/president-general/2024/north-carolina/\n",
      "https://projects.fivethirtyeight.com/polls/president-general/2024/new-mexico/\n",
      "https://projects.fivethirtyeight.com/polls/president-general/2020/district-of-columbia/\n"
     ]
    }
   ],
   "source": [
    "# Testing\n",
    "voting_states_sample = [\"North Carolina\", \"New Mexico\", \"District of Columbia\"]\n",
    "for state in voting_states_sample:\n",
    "    print(get_poll_url(state))"
   ]
  },
  {
   "cell_type": "markdown",
   "metadata": {},
   "source": [
    "### Outer Loop (top level)\n",
    "\n",
    "Iterate through the list of states and handle fallback logic with national polling dataif specific mathups (eg. Trump vs Harris) are unavailable"
   ]
  },
  {
   "cell_type": "code",
   "execution_count": 58,
   "metadata": {},
   "outputs": [],
   "source": [
    "# Iterates through the list of states \n",
    "def collect_polling_data(voting_states):\n",
    "    \"\"\"Iterates through states and collects polling data with fallback to national polls\n",
    "    \"\"\"\n",
    "    # Placeholder for all states' polling data\n",
    "    all_poll_data = []\n",
    "\n",
    "    for state in voting_states:\n",
    "        # print(f\"Fetching polling data for {state}...\")\n",
    "        \n",
    "        # Construct URL dynamically\n",
    "        state_url = get_poll_url(state)\n",
    "\n",
    "        # Try fetching state polling data\n",
    "        state_poll = get_latest_poll(state_url, state)\n",
    "        \n",
    "        # Fallback: If no state-level polls, fetch national polls\n",
    "        if state_poll is None:\n",
    "            # If no state-level polls, fetch national polling data\n",
    "            print(f\"No polling data for {state}. Falling back to national polls\")\n",
    "            national_url = NATIONAL_url\n",
    "            state_poll = get_latest_poll(national_url, \"National\")\n",
    "\n",
    "            # Assign state name to fallback national data\n",
    "            if state_poll:\n",
    "                state_poll['State'] = state\n",
    "        \n",
    "        # Store collected data\n",
    "        if state_poll:\n",
    "            all_poll_data.append(state_poll)         \n",
    "    \n",
    "    # Combine all states' data into a DataFrame\n",
    "    if all_poll_data:\n",
    "        polling_df = pd.DataFrame(all_poll_data)\n",
    "        return polling_df\n",
    "    else:\n",
    "        print(\"No polling data collected.\")\n",
    "        return None"
   ]
  },
  {
   "cell_type": "code",
   "execution_count": 66,
   "metadata": {},
   "outputs": [
    {
     "name": "stdout",
     "output_type": "stream",
     "text": [
      "          State               Date Sample Size                Pollster  \\\n",
      "0       Alabama  April 13-21, 2024         513   John Zogby Strategies   \n",
      "1      Kentucky  April 13-21, 2024         402   John Zogby Strategies   \n",
      "2  North Dakota  Sept. 28-30, 2024         500        WPA Intelligence   \n",
      "3        Alaska   Oct. 20-22, 2024       1,703  Alaska Survey Research   \n",
      "4     Louisiana  April 22-26, 2024         800     Faucheux Strategies   \n",
      "\n",
      "  Democratic Candidate Democratic Result Trump Result  \n",
      "0               Harris               31%          56%  \n",
      "1               Harris               35%          52%  \n",
      "2               Harris               32%          59%  \n",
      "3               Harris               45%          55%  \n",
      "4               Harris               33%          48%  \n"
     ]
    }
   ],
   "source": [
    "# Call the function\n",
    "polling_df = collect_polling_data(voting_states)\n",
    "\n",
    "# Display the combined polling data\n",
    "if polling_df is not None:\n",
    "    print(polling_df.head())\n",
    "else:\n",
    "    print(\"No data was collected.\")"
   ]
  },
  {
   "cell_type": "code",
   "execution_count": 79,
   "metadata": {},
   "outputs": [],
   "source": [
    "polling_df.to_csv('polling_2024.csv', index=False)"
   ]
  },
  {
   "cell_type": "code",
   "execution_count": 67,
   "metadata": {},
   "outputs": [
    {
     "data": {
      "text/plain": [
       "array(['Harris'], dtype=object)"
      ]
     },
     "execution_count": 67,
     "metadata": {},
     "output_type": "execute_result"
    }
   ],
   "source": [
    "polling_df[\"Democratic Candidate\"].unique()"
   ]
  },
  {
   "cell_type": "markdown",
   "metadata": {},
   "source": [
    "## Simulate Election Outcomes Using Bayesian Statistics\n",
    "* Prior: 2020 Election result\n",
    "* Belief: Update with current polling data\n",
    "* Baseline Uncertainty: 1%, 0.5% (normal distribution) to include randomness\n",
    "* Baysian updating: $$P(win|polls)= (P(polls|win) * P(win)) / P(polls)$$\n",
    "* Run 250 simulations for each state\n",
    "* If Harris >= 270 electoral votes, wins.\n",
    "\n",
    "1. Define weights & adjust votes:\n",
    "* Use **Beta distribution `(Beta(alpha, beta))`** to model the probability of a state voting for Harris or Trump\n",
    "    * alpha = weighted number of votes for Harris +1\n",
    "    * beta = weighted number of votes for Trump +1\n",
    "* **weights** to balance past election results and current polling data\n",
    "    * $V_weighted = (V_2020 * weight_vote) + (V_poll * weight_poll)$\n",
    "    * If no polling data exists, fall back to just `weight_vote`\n",
    "\n",
    "2. Model probability with beta distribution:\n",
    "* use the weighted votes to define the beta distribution: $$P_state ~ Beta(alpha, beta)$$\n",
    "\n",
    "3. Run Monte Carlo simulations\n",
    "run `Beta(alpha, beta).rvs()` multiple times\n",
    "\n",
    "4. Aggregate electoral votes\n"
   ]
  },
  {
   "cell_type": "code",
   "execution_count": 80,
   "metadata": {},
   "outputs": [
    {
     "data": {
      "text/html": [
       "<div>\n",
       "<style scoped>\n",
       "    .dataframe tbody tr th:only-of-type {\n",
       "        vertical-align: middle;\n",
       "    }\n",
       "\n",
       "    .dataframe tbody tr th {\n",
       "        vertical-align: top;\n",
       "    }\n",
       "\n",
       "    .dataframe thead th {\n",
       "        text-align: right;\n",
       "    }\n",
       "</style>\n",
       "<table border=\"1\" class=\"dataframe\">\n",
       "  <thead>\n",
       "    <tr style=\"text-align: right;\">\n",
       "      <th></th>\n",
       "      <th>State</th>\n",
       "      <th>Date</th>\n",
       "      <th>Sample Size</th>\n",
       "      <th>Pollster</th>\n",
       "      <th>Democratic Candidate</th>\n",
       "      <th>Democratic Result</th>\n",
       "      <th>Trump Result</th>\n",
       "    </tr>\n",
       "  </thead>\n",
       "  <tbody>\n",
       "    <tr>\n",
       "      <th>0</th>\n",
       "      <td>Alabama</td>\n",
       "      <td>April 13-21, 2024</td>\n",
       "      <td>513</td>\n",
       "      <td>John Zogby Strategies</td>\n",
       "      <td>Harris</td>\n",
       "      <td>31%</td>\n",
       "      <td>56%</td>\n",
       "    </tr>\n",
       "    <tr>\n",
       "      <th>1</th>\n",
       "      <td>Kentucky</td>\n",
       "      <td>April 13-21, 2024</td>\n",
       "      <td>402</td>\n",
       "      <td>John Zogby Strategies</td>\n",
       "      <td>Harris</td>\n",
       "      <td>35%</td>\n",
       "      <td>52%</td>\n",
       "    </tr>\n",
       "    <tr>\n",
       "      <th>2</th>\n",
       "      <td>North Dakota</td>\n",
       "      <td>Sept. 28-30, 2024</td>\n",
       "      <td>500</td>\n",
       "      <td>WPA Intelligence</td>\n",
       "      <td>Harris</td>\n",
       "      <td>32%</td>\n",
       "      <td>59%</td>\n",
       "    </tr>\n",
       "    <tr>\n",
       "      <th>3</th>\n",
       "      <td>Alaska</td>\n",
       "      <td>Oct. 20-22, 2024</td>\n",
       "      <td>1,703</td>\n",
       "      <td>Alaska Survey Research</td>\n",
       "      <td>Harris</td>\n",
       "      <td>45%</td>\n",
       "      <td>55%</td>\n",
       "    </tr>\n",
       "    <tr>\n",
       "      <th>4</th>\n",
       "      <td>Louisiana</td>\n",
       "      <td>April 22-26, 2024</td>\n",
       "      <td>800</td>\n",
       "      <td>Faucheux Strategies</td>\n",
       "      <td>Harris</td>\n",
       "      <td>33%</td>\n",
       "      <td>48%</td>\n",
       "    </tr>\n",
       "  </tbody>\n",
       "</table>\n",
       "</div>"
      ],
      "text/plain": [
       "          State               Date Sample Size                Pollster  \\\n",
       "0       Alabama  April 13-21, 2024         513   John Zogby Strategies   \n",
       "1      Kentucky  April 13-21, 2024         402   John Zogby Strategies   \n",
       "2  North Dakota  Sept. 28-30, 2024         500        WPA Intelligence   \n",
       "3        Alaska   Oct. 20-22, 2024       1,703  Alaska Survey Research   \n",
       "4     Louisiana  April 22-26, 2024         800     Faucheux Strategies   \n",
       "\n",
       "  Democratic Candidate Democratic Result Trump Result  \n",
       "0               Harris               31%          56%  \n",
       "1               Harris               35%          52%  \n",
       "2               Harris               32%          59%  \n",
       "3               Harris               45%          55%  \n",
       "4               Harris               33%          48%  "
      ]
     },
     "execution_count": 80,
     "metadata": {},
     "output_type": "execute_result"
    }
   ],
   "source": [
    "polling_df.head()"
   ]
  },
  {
   "cell_type": "code",
   "execution_count": 81,
   "metadata": {},
   "outputs": [],
   "source": [
    "def simulate_election(voting_df, polling_df, weight_vote, weight_poll, baseline_uncertainty):\n",
    "    \"\"\"\n",
    "    Simulates the 2024 election using a Bayesian approach with Beta distribution.\n",
    "\n",
    "    Parameters:\n",
    "    - voting_df: DataFrame with 2020 election results.\n",
    "    - polling_df: DataFrame with latest polling data.\n",
    "    - weight_vote: Weight assigned to 2020 election results.\n",
    "    - weight_poll: Weight assigned to recent polling data.\n",
    "    - baseline_uncertainty: The additional uncertainty factor per state.\n",
    "\n",
    "    Returns:\n",
    "    - A dictionary with simulation results.\n",
    "    \"\"\"\n",
    "    harris_evotes = 0\n",
    "    trump_evotes = 0\n",
    "\n",
    "    for _, row in voting_df.iterrows():\n",
    "        state = row['State']\n",
    "        total_votes = row[\"Trump Votes\"] + row[\"Biden Votes\"]\n",
    "        \n",
    "        # Check if polling data exists for this state\n",
    "        poll_row = polling_df[polling_df['State'] == state]\n",
    "        \n",
    "        if not poll_row.empty:\n",
    "            # Use pollin data when available\n",
    "            polling_harris = float(poll_row[\"Democratic Result\"].values[0].strip('%'))/ 100\n",
    "            polling_trump = float(poll_row[\"Trump Result\"].values[0].strip('%'))/ 100\n",
    "        else:\n",
    "            # Fallback to 2020 results with increased uncertainty\n",
    "            polling_harris = row['Biden Votes'] / total_votes\n",
    "            polling_trump = row['Trump Votes'] / total_votes\n",
    "        \n",
    "        # Compute weighted probability\n",
    "        if polling_harris is not None and polling_trump is not None:\n",
    "            weighted_harris_votes = (polling_harris * weight_vote) + (weight_poll * polling_harris)\n",
    "            weighted_trump_votes = (polling_trump * weight_vote) + (weight_poll * polling_trump)\n",
    "        else:\n",
    "            # No polling data, rely only on 2020 election results\n",
    "            weighted_harris_votes = polling_harris\n",
    "            weighted_trump_votes = polling_trump\n",
    "\n",
    "        # Define Beta distribution parameters\n",
    "        alpha_harris = weighted_harris_votes * total_votes + 1\n",
    "        beta_harris = (1 - weighted_harris_votes) * total_votes + 1\n",
    "\n",
    "        # Sample from beta distribution\n",
    "        sample_harris_prob = stats.beta.rvs(alpha_harris, beta_harris)\n",
    "        sample_trump_prob = 1 - sample_harris_prob #2-way race\n",
    "        \n",
    "        # Assign electorl votes based on sampled probability\n",
    "        if sample_harris_prob > sample_trump_prob:\n",
    "            harris_evotes += row[\"Electoral Votes\"]\n",
    "        else:\n",
    "            trump_evotes += row[\"Electoral Votes\"]\n",
    "        \n",
    "    return harris_evotes, trump_evotes\n",
    "\n"
   ]
  },
  {
   "cell_type": "code",
   "execution_count": null,
   "metadata": {},
   "outputs": [
    {
     "name": "stdout",
     "output_type": "stream",
     "text": [
      "   weight_poll  avg_harris_evotes  std_harris_evotes  avg_trump_evotes  \\\n",
      "0         0.00             206.42           2.503732            331.58   \n",
      "1         0.01             206.64           2.501084            331.36   \n",
      "2         0.02             206.78           2.489254            331.22   \n",
      "3         0.03             206.44           2.504294            331.56   \n",
      "4         0.04             206.60           2.503010            331.40   \n",
      "\n",
      "   std_trump_evotes  \n",
      "0          2.503732  \n",
      "1          2.501084  \n",
      "2          2.489254  \n",
      "3          2.504294  \n",
      "4          2.503010  \n"
     ]
    },
    {
     "name": "stderr",
     "output_type": "stream",
     "text": [
      "/var/folders/c7/zvfr__1n2v34xs_blw9dnt8h0000gn/T/ipykernel_6148/2151175141.py:21: FutureWarning: The provided callable <function mean at 0x108129b40> is currently using SeriesGroupBy.mean. In a future version of pandas, the provided callable will be used directly. To keep current behavior pass the string \"mean\" instead.\n",
      "  stats_df = results_df.groupby('weight_poll').agg(\n",
      "/var/folders/c7/zvfr__1n2v34xs_blw9dnt8h0000gn/T/ipykernel_6148/2151175141.py:21: FutureWarning: The provided callable <function std at 0x108129c60> is currently using SeriesGroupBy.std. In a future version of pandas, the provided callable will be used directly. To keep current behavior pass the string \"std\" instead.\n",
      "  stats_df = results_df.groupby('weight_poll').agg(\n"
     ]
    }
   ],
   "source": [
    "# Set parameters\n",
    "n_sim = 250 # number of simulations\n",
    "baseline_uncertainty = 0.01\n",
    "\n",
    "# Iterate over different choics of voting and polling weights\n",
    "results = []\n",
    "\n",
    "for weight_vote in np.arange(0.01, 1.01, 0.01):\n",
    "    weight_vote = round(weight_vote, 10)\n",
    "    weight_poll = round(1 - weight_vote, 10)\n",
    "    \n",
    "    # Run multiple sims for each weight level\n",
    "    for _ in range(n_sim):\n",
    "        harris_evotes, trump_evotes = simulate_election(voting_df, polling_df, weight_vote, weight_poll, baseline_uncertainty)\n",
    "        results.append([weight_vote, weight_poll, harris_evotes, trump_evotes])\n",
    "    \n",
    "\n",
    "# Convert results to DataFrame\n",
    "results_df = pd.DataFrame(results, columns=['weight_vote', 'weight_poll', 'harris_evotes', 'trump_evotes'])\n",
    "\n",
    "# Aggregate based on weight of polling data\n",
    "stats_df = results_df.groupby('weight_poll').agg(\n",
    "    avg_harris_evotes=pd.NamedAgg(column='harris_evotes', aggfunc=np.mean),\n",
    "    std_harris_evotes=pd.NamedAgg(column='harris_evotes', aggfunc=np.std),\n",
    "    avg_trump_evotes=pd.NamedAgg(column='trump_evotes', aggfunc=np.mean),\n",
    "    std_trump_evotes=pd.NamedAgg(column='trump_evotes', aggfunc=np.std)\n",
    ").reset_index()\n",
    "\n",
    "print(stats_df.head())"
   ]
  },
  {
   "cell_type": "code",
   "execution_count": 85,
   "metadata": {},
   "outputs": [
    {
     "name": "stdout",
     "output_type": "stream",
     "text": [
      "        State  Harris Win %  Trump Win %\n",
      "0     Alabama           0.0        100.0\n",
      "1      Alaska           0.0        100.0\n",
      "2     Arizona         100.0          0.0\n",
      "3    Arkansas           0.0        100.0\n",
      "4  California         100.0          0.0\n"
     ]
    }
   ],
   "source": [
    "def calculate_state_win_probs(voting_df, polling_df, weight_vote, weight_poll, baseline_uncertainty, num_simulations=10000):\n",
    "    \"\"\"Simulates state-by-state probabilities of winning.\"\"\"\n",
    "    \n",
    "    state_results = []\n",
    "\n",
    "    for _, row in voting_df.iterrows():\n",
    "        state = row[\"State\"]\n",
    "        electoral_votes = row[\"Electoral Votes\"]\n",
    "        \n",
    "        # Check if polling data exists for this state\n",
    "        poll_row = polling_df[polling_df[\"State\"] == state]\n",
    "\n",
    "        if not poll_row.empty:\n",
    "            # Use polling data when available\n",
    "            polling_harris = float(poll_row[\"Democratic Result\"].values[0].strip('%')) / 100\n",
    "            polling_trump = float(poll_row[\"Trump Result\"].values[0].strip('%')) / 100\n",
    "        else:\n",
    "            # Fallback to 2020 results with increased uncertainty\n",
    "            polling_harris = row[\"Biden Votes\"] / (row[\"Biden Votes\"] + row[\"Trump Votes\"])\n",
    "            polling_trump = row[\"Trump Votes\"] / (row[\"Biden Votes\"] + row[\"Trump Votes\"])\n",
    "\n",
    "        # Compute weighted probability\n",
    "        weighted_harris = (weight_vote * row[\"Biden Votes\"] / (row[\"Biden Votes\"] + row[\"Trump Votes\"])) + (weight_poll * polling_harris)\n",
    "        weighted_trump = (weight_vote * row[\"Trump Votes\"] / (row[\"Biden Votes\"] + row[\"Trump Votes\"])) + (weight_poll * polling_trump)\n",
    "\n",
    "        # Bayesian Beta Distribution\n",
    "        alpha_harris = weighted_harris * (row[\"Biden Votes\"] + row[\"Trump Votes\"]) + 1\n",
    "        beta_harris = (1 - weighted_harris) * (row[\"Biden Votes\"] + row[\"Trump Votes\"]) + 1\n",
    "\n",
    "        # Simulate election multiple times\n",
    "        harris_wins = 0\n",
    "        for _ in range(num_simulations):\n",
    "            sampled_harris_prob = stats.beta.rvs(alpha_harris, beta_harris)\n",
    "            if sampled_harris_prob > 0.5:\n",
    "                harris_wins += 1\n",
    "\n",
    "        # Compute win probability\n",
    "        harris_win_prob = harris_wins / num_simulations\n",
    "\n",
    "        # Store result\n",
    "        state_results.append({\n",
    "            \"State\": state,\n",
    "            \"Harris Win %\": harris_win_prob * 100,\n",
    "            \"Trump Win %\": (1 - harris_win_prob) * 100\n",
    "        })\n",
    "\n",
    "    return pd.DataFrame(state_results)\n",
    "\n",
    "# Run function\n",
    "state_probabilities = calculate_state_win_probs(voting_df, polling_df, weight_vote=0.6, weight_poll=0.4, baseline_uncertainty=0.01)\n",
    "\n",
    "# Display results\n",
    "print(state_probabilities.head())\n"
   ]
  },
  {
   "cell_type": "code",
   "execution_count": null,
   "metadata": {},
   "outputs": [],
   "source": [
    "!pip install geopandas descartes"
   ]
  },
  {
   "cell_type": "code",
   "execution_count": 89,
   "metadata": {},
   "outputs": [
    {
     "name": "stdout",
     "output_type": "stream",
     "text": [
      "Collecting wget\n",
      "  Downloading wget-3.2.zip (10 kB)\n",
      "  Installing build dependencies ... \u001b[?25ldone\n",
      "\u001b[?25h  Getting requirements to build wheel ... \u001b[?25ldone\n",
      "\u001b[?25h  Preparing metadata (pyproject.toml) ... \u001b[?25ldone\n",
      "\u001b[?25hBuilding wheels for collected packages: wget\n",
      "  Building wheel for wget (pyproject.toml) ... \u001b[?25ldone\n",
      "\u001b[?25h  Created wheel for wget: filename=wget-3.2-py3-none-any.whl size=9685 sha256=d669eb9390199e315db2617defc4c278417d00235cef4e845ca70597ec0a06d9\n",
      "  Stored in directory: /Users/linlin/Library/Caches/pip/wheels/8b/f1/7f/5c94f0a7a505ca1c81cd1d9208ae2064675d97582078e6c769\n",
      "Successfully built wget\n",
      "Installing collected packages: wget\n",
      "Successfully installed wget-3.2\n"
     ]
    }
   ],
   "source": [
    "!pip install wget"
   ]
  },
  {
   "cell_type": "code",
   "execution_count": 91,
   "metadata": {},
   "outputs": [
    {
     "ename": "KeyError",
     "evalue": "'iso_a3'",
     "output_type": "error",
     "traceback": [
      "\u001b[0;31m---------------------------------------------------------------------------\u001b[0m",
      "\u001b[0;31mKeyError\u001b[0m                                  Traceback (most recent call last)",
      "File \u001b[0;32m~/Documents/DS_sideProjects/statisticalAnalysis/venv/lib/python3.10/site-packages/pandas/core/indexes/base.py:3805\u001b[0m, in \u001b[0;36mIndex.get_loc\u001b[0;34m(self, key)\u001b[0m\n\u001b[1;32m   3804\u001b[0m \u001b[38;5;28;01mtry\u001b[39;00m:\n\u001b[0;32m-> 3805\u001b[0m     \u001b[38;5;28;01mreturn\u001b[39;00m \u001b[38;5;28;43mself\u001b[39;49m\u001b[38;5;241;43m.\u001b[39;49m\u001b[43m_engine\u001b[49m\u001b[38;5;241;43m.\u001b[39;49m\u001b[43mget_loc\u001b[49m\u001b[43m(\u001b[49m\u001b[43mcasted_key\u001b[49m\u001b[43m)\u001b[49m\n\u001b[1;32m   3806\u001b[0m \u001b[38;5;28;01mexcept\u001b[39;00m \u001b[38;5;167;01mKeyError\u001b[39;00m \u001b[38;5;28;01mas\u001b[39;00m err:\n",
      "File \u001b[0;32mindex.pyx:167\u001b[0m, in \u001b[0;36mpandas._libs.index.IndexEngine.get_loc\u001b[0;34m()\u001b[0m\n",
      "File \u001b[0;32mindex.pyx:196\u001b[0m, in \u001b[0;36mpandas._libs.index.IndexEngine.get_loc\u001b[0;34m()\u001b[0m\n",
      "File \u001b[0;32mpandas/_libs/hashtable_class_helper.pxi:7081\u001b[0m, in \u001b[0;36mpandas._libs.hashtable.PyObjectHashTable.get_item\u001b[0;34m()\u001b[0m\n",
      "File \u001b[0;32mpandas/_libs/hashtable_class_helper.pxi:7089\u001b[0m, in \u001b[0;36mpandas._libs.hashtable.PyObjectHashTable.get_item\u001b[0;34m()\u001b[0m\n",
      "\u001b[0;31mKeyError\u001b[0m: 'iso_a3'",
      "\nThe above exception was the direct cause of the following exception:\n",
      "\u001b[0;31mKeyError\u001b[0m                                  Traceback (most recent call last)",
      "Cell \u001b[0;32mIn[91], line 33\u001b[0m\n\u001b[1;32m     30\u001b[0m     plt\u001b[38;5;241m.\u001b[39mshow()\n\u001b[1;32m     32\u001b[0m \u001b[38;5;66;03m# Call the function\u001b[39;00m\n\u001b[0;32m---> 33\u001b[0m \u001b[43mplot_us_map\u001b[49m\u001b[43m(\u001b[49m\u001b[43mstate_probabilities\u001b[49m\u001b[43m)\u001b[49m\n",
      "Cell \u001b[0;32mIn[91], line 14\u001b[0m, in \u001b[0;36mplot_us_map\u001b[0;34m(state_probabilities)\u001b[0m\n\u001b[1;32m     10\u001b[0m usa \u001b[38;5;241m=\u001b[39m gpd\u001b[38;5;241m.\u001b[39mread_file(os\u001b[38;5;241m.\u001b[39mgetcwd()\u001b[38;5;241m+\u001b[39m\u001b[38;5;124m'\u001b[39m\u001b[38;5;124m/cb_2018_us_state_500k.zip\u001b[39m\u001b[38;5;124m'\u001b[39m)\n\u001b[1;32m     12\u001b[0m \u001b[38;5;66;03m# usa = gpd.read_file('data/usa-states-census-2014.shp')\u001b[39;00m\n\u001b[1;32m     13\u001b[0m \u001b[38;5;66;03m# usa = gpd.read_file(gpd.datasets.get_path('naturalearth_lowres'))\u001b[39;00m\n\u001b[0;32m---> 14\u001b[0m usa \u001b[38;5;241m=\u001b[39m usa[\u001b[43musa\u001b[49m\u001b[43m[\u001b[49m\u001b[38;5;124;43m'\u001b[39;49m\u001b[38;5;124;43miso_a3\u001b[39;49m\u001b[38;5;124;43m'\u001b[39;49m\u001b[43m]\u001b[49m \u001b[38;5;241m==\u001b[39m \u001b[38;5;124m'\u001b[39m\u001b[38;5;124mUSA\u001b[39m\u001b[38;5;124m'\u001b[39m]  \u001b[38;5;66;03m# Filter for U.S.\u001b[39;00m\n\u001b[1;32m     16\u001b[0m \u001b[38;5;66;03m# Format state names\u001b[39;00m\n\u001b[1;32m     17\u001b[0m state_probabilities[\u001b[38;5;124m\"\u001b[39m\u001b[38;5;124mState\u001b[39m\u001b[38;5;124m\"\u001b[39m] \u001b[38;5;241m=\u001b[39m state_probabilities[\u001b[38;5;124m\"\u001b[39m\u001b[38;5;124mState\u001b[39m\u001b[38;5;124m\"\u001b[39m]\u001b[38;5;241m.\u001b[39mstr\u001b[38;5;241m.\u001b[39mlower()\n",
      "File \u001b[0;32m~/Documents/DS_sideProjects/statisticalAnalysis/venv/lib/python3.10/site-packages/geopandas/geodataframe.py:1750\u001b[0m, in \u001b[0;36mGeoDataFrame.__getitem__\u001b[0;34m(self, key)\u001b[0m\n\u001b[1;32m   1744\u001b[0m \u001b[38;5;28;01mdef\u001b[39;00m\u001b[38;5;250m \u001b[39m\u001b[38;5;21m__getitem__\u001b[39m(\u001b[38;5;28mself\u001b[39m, key):\n\u001b[1;32m   1745\u001b[0m \u001b[38;5;250m    \u001b[39m\u001b[38;5;124;03m\"\"\"\u001b[39;00m\n\u001b[1;32m   1746\u001b[0m \u001b[38;5;124;03m    If the result is a column containing only 'geometry', return a\u001b[39;00m\n\u001b[1;32m   1747\u001b[0m \u001b[38;5;124;03m    GeoSeries. If it's a DataFrame with any columns of GeometryDtype,\u001b[39;00m\n\u001b[1;32m   1748\u001b[0m \u001b[38;5;124;03m    return a GeoDataFrame.\u001b[39;00m\n\u001b[1;32m   1749\u001b[0m \u001b[38;5;124;03m    \"\"\"\u001b[39;00m\n\u001b[0;32m-> 1750\u001b[0m     result \u001b[38;5;241m=\u001b[39m \u001b[38;5;28;43msuper\u001b[39;49m\u001b[43m(\u001b[49m\u001b[43m)\u001b[49m\u001b[38;5;241;43m.\u001b[39;49m\u001b[38;5;21;43m__getitem__\u001b[39;49m\u001b[43m(\u001b[49m\u001b[43mkey\u001b[49m\u001b[43m)\u001b[49m\n\u001b[1;32m   1751\u001b[0m     \u001b[38;5;66;03m# Custom logic to avoid waiting for pandas GH51895\u001b[39;00m\n\u001b[1;32m   1752\u001b[0m     \u001b[38;5;66;03m# result is not geometry dtype for multi-indexes\u001b[39;00m\n\u001b[1;32m   1753\u001b[0m     \u001b[38;5;28;01mif\u001b[39;00m (\n\u001b[1;32m   1754\u001b[0m         pd\u001b[38;5;241m.\u001b[39mapi\u001b[38;5;241m.\u001b[39mtypes\u001b[38;5;241m.\u001b[39mis_scalar(key)\n\u001b[1;32m   1755\u001b[0m         \u001b[38;5;129;01mand\u001b[39;00m key \u001b[38;5;241m==\u001b[39m \u001b[38;5;124m\"\u001b[39m\u001b[38;5;124m\"\u001b[39m\n\u001b[0;32m   (...)\u001b[0m\n\u001b[1;32m   1758\u001b[0m         \u001b[38;5;129;01mand\u001b[39;00m \u001b[38;5;129;01mnot\u001b[39;00m is_geometry_type(result)\n\u001b[1;32m   1759\u001b[0m     ):\n",
      "File \u001b[0;32m~/Documents/DS_sideProjects/statisticalAnalysis/venv/lib/python3.10/site-packages/pandas/core/frame.py:4102\u001b[0m, in \u001b[0;36mDataFrame.__getitem__\u001b[0;34m(self, key)\u001b[0m\n\u001b[1;32m   4100\u001b[0m \u001b[38;5;28;01mif\u001b[39;00m \u001b[38;5;28mself\u001b[39m\u001b[38;5;241m.\u001b[39mcolumns\u001b[38;5;241m.\u001b[39mnlevels \u001b[38;5;241m>\u001b[39m \u001b[38;5;241m1\u001b[39m:\n\u001b[1;32m   4101\u001b[0m     \u001b[38;5;28;01mreturn\u001b[39;00m \u001b[38;5;28mself\u001b[39m\u001b[38;5;241m.\u001b[39m_getitem_multilevel(key)\n\u001b[0;32m-> 4102\u001b[0m indexer \u001b[38;5;241m=\u001b[39m \u001b[38;5;28;43mself\u001b[39;49m\u001b[38;5;241;43m.\u001b[39;49m\u001b[43mcolumns\u001b[49m\u001b[38;5;241;43m.\u001b[39;49m\u001b[43mget_loc\u001b[49m\u001b[43m(\u001b[49m\u001b[43mkey\u001b[49m\u001b[43m)\u001b[49m\n\u001b[1;32m   4103\u001b[0m \u001b[38;5;28;01mif\u001b[39;00m is_integer(indexer):\n\u001b[1;32m   4104\u001b[0m     indexer \u001b[38;5;241m=\u001b[39m [indexer]\n",
      "File \u001b[0;32m~/Documents/DS_sideProjects/statisticalAnalysis/venv/lib/python3.10/site-packages/pandas/core/indexes/base.py:3812\u001b[0m, in \u001b[0;36mIndex.get_loc\u001b[0;34m(self, key)\u001b[0m\n\u001b[1;32m   3807\u001b[0m     \u001b[38;5;28;01mif\u001b[39;00m \u001b[38;5;28misinstance\u001b[39m(casted_key, \u001b[38;5;28mslice\u001b[39m) \u001b[38;5;129;01mor\u001b[39;00m (\n\u001b[1;32m   3808\u001b[0m         \u001b[38;5;28misinstance\u001b[39m(casted_key, abc\u001b[38;5;241m.\u001b[39mIterable)\n\u001b[1;32m   3809\u001b[0m         \u001b[38;5;129;01mand\u001b[39;00m \u001b[38;5;28many\u001b[39m(\u001b[38;5;28misinstance\u001b[39m(x, \u001b[38;5;28mslice\u001b[39m) \u001b[38;5;28;01mfor\u001b[39;00m x \u001b[38;5;129;01min\u001b[39;00m casted_key)\n\u001b[1;32m   3810\u001b[0m     ):\n\u001b[1;32m   3811\u001b[0m         \u001b[38;5;28;01mraise\u001b[39;00m InvalidIndexError(key)\n\u001b[0;32m-> 3812\u001b[0m     \u001b[38;5;28;01mraise\u001b[39;00m \u001b[38;5;167;01mKeyError\u001b[39;00m(key) \u001b[38;5;28;01mfrom\u001b[39;00m\u001b[38;5;250m \u001b[39m\u001b[38;5;21;01merr\u001b[39;00m\n\u001b[1;32m   3813\u001b[0m \u001b[38;5;28;01mexcept\u001b[39;00m \u001b[38;5;167;01mTypeError\u001b[39;00m:\n\u001b[1;32m   3814\u001b[0m     \u001b[38;5;66;03m# If we have a listlike key, _check_indexing_error will raise\u001b[39;00m\n\u001b[1;32m   3815\u001b[0m     \u001b[38;5;66;03m#  InvalidIndexError. Otherwise we fall through and re-raise\u001b[39;00m\n\u001b[1;32m   3816\u001b[0m     \u001b[38;5;66;03m#  the TypeError.\u001b[39;00m\n\u001b[1;32m   3817\u001b[0m     \u001b[38;5;28mself\u001b[39m\u001b[38;5;241m.\u001b[39m_check_indexing_error(key)\n",
      "\u001b[0;31mKeyError\u001b[0m: 'iso_a3'"
     ]
    }
   ],
   "source": [
    "import geopandas as gpd\n",
    "import matplotlib.pyplot as plt\n",
    "import wget\n",
    "\n",
    "def plot_us_map(state_probabilities):\n",
    "    \"\"\"Plots a U.S. map showing win probabilities for each state.\"\"\"\n",
    "\n",
    "    # Load U.S. map\n",
    "    wget.download(\"https://www2.census.gov/geo/tiger/GENZ2018/shp/cb_2018_us_state_500k.zip\")\n",
    "    usa = gpd.read_file(os.getcwd()+'/cb_2018_us_state_500k.zip')\n",
    "\n",
    "    # usa = gpd.read_file('data/usa-states-census-2014.shp')\n",
    "    # usa = gpd.read_file(gpd.datasets.get_path('naturalearth_lowres'))\n",
    "    usa = usa[usa['iso_a3'] == 'USA']  # Filter for U.S.\n",
    "\n",
    "    # Format state names\n",
    "    state_probabilities[\"State\"] = state_probabilities[\"State\"].str.lower()\n",
    "\n",
    "    # Merge state probabilities with map data\n",
    "    usa = usa.merge(state_probabilities, left_on=\"name\", right_on=\"State\", how=\"left\")\n",
    "\n",
    "    # Create color-coded map\n",
    "    fig, ax = plt.subplots(1, 1, figsize=(12, 8))\n",
    "    usa.plot(column='Harris Win %', cmap='coolwarm', linewidth=0.8, edgecolor='black', legend=True, ax=ax)\n",
    "\n",
    "    # Formatting\n",
    "    plt.title(\"State-by-State Harris Win Probability\")\n",
    "    plt.axis('off')\n",
    "\n",
    "    plt.show()\n",
    "\n",
    "# Call the function\n",
    "plot_us_map(state_probabilities)\n"
   ]
  },
  {
   "cell_type": "code",
   "execution_count": 84,
   "metadata": {},
   "outputs": [
    {
     "data": {
      "image/png": "[encoded data removed]",
      "text/plain": [
       "<Figure size 1000x600 with 1 Axes>"
      ]
     },
     "metadata": {},
     "output_type": "display_data"
    }
   ],
   "source": [
    "def plot_ev_histogram(results_df):\n",
    "    \"\"\"Plots a histogram of simulated Electoral Vote distributions.\"\"\"\n",
    "    plt.figure(figsize=(10, 6))\n",
    "\n",
    "    # Histogram for Harris\n",
    "    sns.histplot(results_df['harris_evotes'], bins=30, kde=True, color='blue', label='Harris')\n",
    "\n",
    "    # Histogram for Trump\n",
    "    sns.histplot(results_df['trump_evotes'], bins=30, kde=True, color='red', label='Trump')\n",
    "\n",
    "    # Add vertical line at 270 EVs (Winning threshold)\n",
    "    plt.axvline(270, color='black', linestyle='--', label='Winning Threshold')\n",
    "\n",
    "    # Formatting\n",
    "    plt.xlabel('Electoral Votes')\n",
    "    plt.ylabel('Frequency')\n",
    "    plt.title('Simulated Distribution of Electoral Votes')\n",
    "    plt.legend()\n",
    "    plt.grid(True)\n",
    "\n",
    "    plt.show()\n",
    "\n",
    "# Call the function\n",
    "plot_ev_histogram(results_df)\n"
   ]
  },
  {
   "cell_type": "markdown",
   "metadata": {},
   "source": [
    "Pulling weighted average votes to the density of trust level to get the final predicted votes per candidates:"
   ]
  },
  {
   "cell_type": "markdown",
   "metadata": {},
   "source": [
    "#### Different outputs per scenarios\n",
    "| Baseline Uncertainty | Personal Polling Distribution | Harris | Trump |\n",
    "| :------------------- | :---------------------------: | :----: | ----: |\n",
    "| 1%                   | Centered at 0.7               | 270    | 268   |\n",
    "| 0.5%                 | Centered at 0.7               | 259    | 279   |\n",
    "| 1%                   | Centered at 0.1               | 284    | 254   |\n",
    "\n"
   ]
  }
 ],
 "metadata": {
  "kernelspec": {
   "display_name": "venv",
   "language": "python",
   "name": "python3"
  },
  "language_info": {
   "codemirror_mode": {
    "name": "ipython",
    "version": 3
   },
   "file_extension": ".py",
   "mimetype": "text/x-python",
   "name": "python",
   "nbconvert_exporter": "python",
   "pygments_lexer": "ipython3",
   "version": "3.10.14"
  }
 },
 "nbformat": 4,
 "nbformat_minor": 2
}
