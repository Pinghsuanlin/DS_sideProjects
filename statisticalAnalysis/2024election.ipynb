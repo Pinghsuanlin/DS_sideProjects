{
 "cells": [
  {
   "cell_type": "markdown",
   "metadata": {},
   "source": [
    "# 2024 Harris vs. Trump Election Prediction\n",
    "The practice followed [ritvikmath](https://www.youtube.com/watch?v=O5-A2ensKb0) guidance on utilizing Bayesian methodology, using 2020 election data (`prior`), with current polling data of 7 swing states (`likelihood`) to get 2024 election prediction (`posterior`). A baseline level of uncertainty is allowed for the prediction, which usually becomes lower as we get clower to the date of election."
   ]
  },
  {
   "cell_type": "code",
   "execution_count": null,
   "metadata": {},
   "outputs": [
    {
     "name": "stdout",
     "output_type": "stream",
     "text": [
      "c:\\Users\\sherie.lin\\OneDrive - AES Corporation\\Documents\\Python Scripts\\Learning\n"
     ]
    }
   ],
   "source": [
    "import numpy as np\n",
    "import pandas as pd\n",
    "import matplotlib.pyplot as plt\n",
    "import seaborn as sns\n",
    "import requests\n",
    "import re\n",
    "from bs4 import BeautifulSoup\n",
    "import urllib3 # to bypass SSL verification and suppress warnings (not recommended for production level)\n",
    "import os \n",
    "print(os.getcwd()) #print the current working directory"
   ]
  },
  {
   "cell_type": "code",
   "execution_count": null,
   "metadata": {},
   "outputs": [],
   "source": [
    "# import urllib3"
   ]
  },
  {
   "cell_type": "code",
   "execution_count": 2,
   "metadata": {},
   "outputs": [],
   "source": [
    "# Set pandas to display all columns\n",
    "pd.set_option('display.max_columns', None) #None as no column limit for display"
   ]
  },
  {
   "cell_type": "code",
   "execution_count": 3,
   "metadata": {},
   "outputs": [],
   "source": [
    "cwd = os.getcwd()\n",
    "relative_path = \"votingState.txt\"\n",
    "file_path = os.path.join(cwd, relative_path)"
   ]
  },
  {
   "cell_type": "code",
   "execution_count": 4,
   "metadata": {},
   "outputs": [
    {
     "name": "stdout",
     "output_type": "stream",
     "text": [
      "Alabama - 9 votes\n",
      "\n",
      "Kentucky - 8 votes\n",
      "\n",
      "North Dakota - 3 votes\n",
      "\n",
      "Alaska - 3 votes\n",
      "\n",
      "Louisiana - 8 votes\n"
     ]
    }
   ],
   "source": [
    "with open(file_path, 'r') as file:\n",
    "    text = file.read()\n",
    "    print(text[:100])\n"
   ]
  },
  {
   "cell_type": "code",
   "execution_count": 5,
   "metadata": {},
   "outputs": [
    {
     "name": "stdout",
     "output_type": "stream",
     "text": [
      "['Alabama', 'Kentucky', 'North Dakota', 'Alaska', 'Louisiana', 'Ohio', 'Arizona', 'Maine', 'Oklahoma', 'Arkansas', 'Maryland', 'Oregon', 'California', 'Massachusetts', 'Pennsylvania', 'Colorado', 'Michigan', 'Rhode Island', 'Connecticut', 'Minnesota', 'South Carolina', 'Delaware', 'Mississippi', 'South Dakota', 'District of Columbia', 'Missouri', 'Tennessee', 'Florida', 'Montana', 'Texas', 'Georgia', 'Nebraska', 'Utah', 'Hawaii', 'Nevada', 'Vermont', 'Idaho', 'New Hampshire', 'Virginia', 'Illinois', 'New Jersey', 'Washington', 'Indiana', 'New Mexico', 'West Virginia', 'Iowa', 'New York', 'Wisconsin', 'Kansas', 'North Carolina']\n"
     ]
    }
   ],
   "source": [
    "# Regex pattern to find state name\n",
    "pattern = r\"^[A-Za-z\\s]+(?=\\s*-\\s*\\d+\\s*votes\\n)\"\n",
    "voting_states = re.findall(pattern, text, flags=re.M)\n",
    "voting_states = [match.strip() for match in voting_states]\n",
    "print(voting_states)"
   ]
  },
  {
   "cell_type": "markdown",
   "metadata": {},
   "source": [
    "* `^` anchor the start of each line\n",
    "* `re.M` allows `^` to work on each line independently\n",
    "* `str.strip()` to remove any leading or trailing whitespace"
   ]
  },
  {
   "cell_type": "code",
   "execution_count": 6,
   "metadata": {},
   "outputs": [
    {
     "name": "stdout",
     "output_type": "stream",
     "text": [
      "['alabama', 'kentucky', 'north-dakota', 'alaska', 'louisiana', 'ohio', 'arizona', 'maine', 'oklahoma', 'arkansas', 'maryland', 'oregon', 'california', 'massachusetts', 'pennsylvania', 'colorado', 'michigan', 'rhode-island', 'connecticut', 'minnesota', 'south-carolina', 'delaware', 'mississippi', 'south-dakota', 'district-of-columbia', 'missouri', 'tennessee', 'florida', 'montana', 'texas', 'georgia', 'nebraska', 'utah', 'hawaii', 'nevada', 'vermont', 'idaho', 'new-hampshire', 'virginia', 'illinois', 'new-jersey', 'washington', 'indiana', 'new-mexico', 'west-virginia', 'iowa', 'new-york', 'wisconsin', 'kansas', 'north-carolina']\n"
     ]
    }
   ],
   "source": [
    "# Format state names for URLs\n",
    "def format_state_for_url(state_name):\n",
    "    # Convert to lowercase and replace spaces with hyphens\n",
    "    return state_name.lower().replace(' ', '-')\n",
    "\n",
    "# Apply the function to all states\n",
    "formated_states = [format_state_for_url(state_name) for state_name in voting_states]\n",
    "print(formated_states)"
   ]
  },
  {
   "cell_type": "markdown",
   "metadata": {},
   "source": [
    "## Read 2020 Election Data"
   ]
  },
  {
   "cell_type": "code",
   "execution_count": 7,
   "metadata": {},
   "outputs": [],
   "source": [
    "cwd = os.getcwd()\n",
    "relative_path = \"2020_election_results.txt\"\n",
    "file_path = os.path.join(cwd, relative_path)"
   ]
  },
  {
   "cell_type": "code",
   "execution_count": 8,
   "metadata": {},
   "outputs": [
    {
     "name": "stdout",
     "output_type": "stream",
     "text": [
      "STATE RESULTS\n",
      "President: Alabama\n",
      "9 Electoral Votes\n",
      "Trump\n",
      "PROJECTED WINNER\n",
      "+ FOLLOW\n",
      "Candidate\t%\t\tVotes\n",
      "Trump\n",
      "62.0%\t\n",
      "1,441,170\n",
      "Biden\n",
      "36.6%\t\n",
      "849,624\n",
      "Est. 99% In\n",
      "Updated 10:17 p.m. ET, Mar. 6\n",
      "Full Details\n"
     ]
    }
   ],
   "source": [
    "# read 2020 election result text file and extract \n",
    "try:\n",
    "    with open(file_path, 'r') as file:\n",
    "        text = file.read()\n",
    "    print(text[:200]) # display the first 100 characters to confirm success\n",
    "except FileNotFoundError:\n",
    "    print(f\"File not found at {file_path}\")\n",
    "except UnicodeDecodeError:\n",
    "    print(f\"Encoding issue while reading the file. Try another eoncding.\")\n"
   ]
  },
  {
   "cell_type": "markdown",
   "metadata": {},
   "source": [
    "[`regex`](https://www.w3schools.com/python/python_regex.asp) to extract expression pattern, and comfile the matches into dataframe:"
   ]
  },
  {
   "cell_type": "code",
   "execution_count": 9,
   "metadata": {},
   "outputs": [],
   "source": [
    "pattern = (\n",
    "    # Lines begin with 'President', followed by the state name into 'state' column\n",
    "    r\"President:\\s*(?P<state>[A-Za-z\\s]+)\\n\"\n",
    "    r\"(?P<electoral_votes>\\d+)\\s*Electoral Votes\\n\"\n",
    "    r\"(?P<winner>Trump|Biden)\\nPROJECTED WINNER\\n\\+ FOLLOW\\n\"\n",
    "    # Tie votes to name\n",
    "    r\"Candidate\\t%\\t\\tVotes\\n(?P<candidate1>Trump|Biden)\\n(?:\\d+\\.\\d+%)?\\s*\\n?(?P<votes1>[\\d,]+)\\n(?P<candidate2>Trump|Biden)\\n(?:\\d+.\\d+%)?s*\\n?(?P<votes2>[\\d,]+)\"\n",
    ")"
   ]
  },
  {
   "cell_type": "code",
   "execution_count": 10,
   "metadata": {},
   "outputs": [],
   "source": [
    "# Compile the regrex pattern\n",
    "regex = re.compile(pattern)\n",
    "\n",
    "# Find all matches in the text and return a list of tuples\n",
    "# matches = regex.findall(text)\n",
    "matches = regex.finditer(text)"
   ]
  },
  {
   "cell_type": "code",
   "execution_count": null,
   "metadata": {},
   "outputs": [
    {
     "data": {
      "text/plain": [
       "[('Alabama', '9', 'Trump', 'Trump', '1,441,170', 'Biden', '36'), ('Alaska', '3', 'Trump', 'Trump', '189,951', 'Biden', '42'), ('Arizona\\nParty change\\nBATTLEGROUND', '11', 'Biden', 'Biden', '1,672,143', 'Trump', '49'), ('Arkansas', '6', 'Trump', 'Trump', '760,647', 'Biden', '34'), ('California', '55', 'Biden', 'Biden', '11,110,250', 'Trump', '34'), ('Colorado\\nBATTLEGROUND', '9', 'Biden', 'Biden', '1,804,352', 'Trump', '41'), ('Connecticut', '7', 'Biden', 'Biden', '1,080,831', 'Trump', '39'), ('Delaware', '3', 'Biden', 'Biden', '296,268', 'Trump', '39'), ('District Of Columbia', '3', 'Biden', 'Biden', '317,323', 'Trump', '5'), ('Florida\\nBATTLEGROUND', '29', 'Trump', 'Trump', '5,668,731', 'Biden', '47'), ('Georgia\\nParty change\\nBATTLEGROUND', '16', 'Biden', 'Biden', '2,473,633', 'Trump', '49'), ('Hawaii', '4', 'Biden', 'Biden', '366,130', 'Trump', '34'), ('Idaho', '4', 'Trump', 'Trump', '554,119', 'Biden', '33'), ('Illinois', '20', 'Biden', 'Biden', '3,471,915', 'Trump', '40'), ('Indiana', '11', 'Trump', 'Trump', '1,729,857', 'Biden', '41'), ('Iowa\\nBATTLEGROUND', '6', 'Trump', 'Trump', '897,672', 'Biden', '44'), ('Kansas', '6', 'Trump', 'Trump', '771,406', 'Biden', '41'), ('Kentucky', '8', 'Trump', 'Trump', '1,326,646', 'Biden', '36'), ('Louisiana', '8', 'Trump', 'Trump', '1,255,776', 'Biden', '39'), ('Maryland', '10', 'Biden', 'Biden', '1,985,023', 'Trump', '32'), ('Massachusetts', '11', 'Biden', 'Biden', '2,382,202', 'Trump', '32'), ('Michigan\\nParty change\\nBATTLEGROUND', '16', 'Biden', 'Biden', '2,804,040', 'Trump', '47'), ('Minnesota\\nBATTLEGROUND', '10', 'Biden', 'Biden', '1,717,077', 'Trump', '45'), ('Mississippi', '6', 'Trump', 'Trump', '756,764', 'Biden', '41'), ('Missouri', '10', 'Trump', 'Trump', '1,718,736', 'Biden', '41'), ('Montana', '3', 'Trump', 'Trump', '343,602', 'Biden', '40'), ('Nevada\\nBATTLEGROUND', '6', 'Biden', 'Biden', '703,486', 'Trump', '47'), ('New Hampshire\\nBATTLEGROUND', '4', 'Biden', 'Biden', '424,937', 'Trump', '45'), ('New Jersey', '14', 'Biden', 'Biden', '2,608,400', 'Trump', '41'), ('New Mexico', '5', 'Biden', 'Biden', '501,614', 'Trump', '43'), ('New York', '29', 'Biden', 'Biden', '5,244,886', 'Trump', '37'), ('North Carolina\\nBATTLEGROUND', '15', 'Trump', 'Trump', '2,758,775', 'Biden', '48'), ('North Dakota', '3', 'Trump', 'Trump', '235,595', 'Biden', '31'), ('Ohio\\nBATTLEGROUND', '18', 'Trump', 'Trump', '3,154,834', 'Biden', '45'), ('Oklahoma', '7', 'Trump', 'Trump', '1,020,280', 'Biden', '32'), ('Oregon', '7', 'Biden', 'Biden', '1,340,383', 'Trump', '40'), ('Pennsylvania\\nParty change\\nBATTLEGROUND', '20', 'Biden', 'Biden', '3,459,923', 'Trump', '48'), ('Rhode Island', '4', 'Biden', 'Biden', '307,486', 'Trump', '38'), ('South Carolina', '9', 'Trump', 'Trump', '1,385,103', 'Biden', '43'), ('South Dakota', '3', 'Trump', 'Trump', '261,043', 'Biden', '35'), ('Tennessee', '11', 'Trump', 'Trump', '1,852,475', 'Biden', '37'), ('Texas\\nBATTLEGROUND', '38', 'Trump', 'Trump', '5,890,347', 'Biden', '46'), ('Utah', '6', 'Trump', 'Trump', '865,140', 'Biden', '37'), ('Vermont', '3', 'Biden', 'Biden', '242,820', 'Trump', '30'), ('Virginia\\nBATTLEGROUND', '13', 'Biden', 'Biden', '2,413,568', 'Trump', '44'), ('Washington', '12', 'Biden', 'Biden', '2,369,612', 'Trump', '38'), ('West Virginia', '5', 'Trump', 'Trump', '545,382', 'Biden', '29'), ('Wisconsin\\nParty change\\nBATTLEGROUND', '10', 'Biden', 'Biden', '1,630,866', 'Trump', '48'), ('Wyoming', '3', 'Trump', 'Trump', '193,559', 'Biden', '26')]\n"
      ]
     },
     "metadata": {},
     "output_type": "display_data"
    }
   ],
   "source": [
    "# matches"
   ]
  },
  {
   "cell_type": "markdown",
   "metadata": {},
   "source": [
    "`matches` is a list of tuples, if using `re.findall()`, and can only access with index such as `match[0]`. Or use `re.finditer()` to return match objects so that you could use `.group()`"
   ]
  },
  {
   "cell_type": "code",
   "execution_count": 11,
   "metadata": {},
   "outputs": [],
   "source": [
    "# Process the matches\n",
    "results = []\n",
    "for match in matches:\n",
    "    candidate1 = match.group('candidate1')\n",
    "    votes1 = int(match.group('votes1').replace(',',''))\n",
    "    candidate2 = match.group('candidate2')\n",
    "    votes2 = int(match.group('votes2').replace(',',''))  \n",
    "\n",
    "    # Assign votes to candidates\n",
    "    if candidate1 == 'Trump':\n",
    "        trump_votes, biden_votes = votes1, votes2\n",
    "    else:\n",
    "        trump_votes, biden_votes = votes2, votes1\n",
    "    \n",
    "    # Append the results\n",
    "    results.append({\n",
    "        \"State\": match.group('state'), #instead of match[0] so that we prevent indexing error\n",
    "        # winner takes all\n",
    "        \"Electoral Votes\": int(match.group('electoral_votes')),\n",
    "        \"Winner\": match.group('winner'),\n",
    "        \"Trump Votes\": trump_votes,\n",
    "        \"Biden Votes\": biden_votes\n",
    "    })\n",
    "\n",
    "voting_df = pd.DataFrame(results)\n"
   ]
  },
  {
   "cell_type": "code",
   "execution_count": 12,
   "metadata": {},
   "outputs": [
    {
     "name": "stdout",
     "output_type": "stream",
     "text": [
      "<class 'pandas.core.frame.DataFrame'>\n",
      "RangeIndex: 49 entries, 0 to 48\n",
      "Data columns (total 5 columns):\n",
      " #   Column           Non-Null Count  Dtype \n",
      "---  ------           --------------  ----- \n",
      " 0   State            49 non-null     object\n",
      " 1   Electoral Votes  49 non-null     int64 \n",
      " 2   Winner           49 non-null     object\n",
      " 3   Trump Votes      49 non-null     int64 \n",
      " 4   Biden Votes      49 non-null     int64 \n",
      "dtypes: int64(3), object(2)\n",
      "memory usage: 2.0+ KB\n"
     ]
    }
   ],
   "source": [
    "voting_df.info()"
   ]
  },
  {
   "cell_type": "code",
   "execution_count": 13,
   "metadata": {},
   "outputs": [],
   "source": [
    "# Winner takes all\n",
    "voting_df['Trump Electoral Votes'] = voting_df.apply(lambda row: row['Electoral Votes'] if row.Winner == 'Trump' else 0, 1) \n",
    "voting_df['Biden Electoral Votes'] = voting_df.apply(lambda row: row['Electoral Votes'] if row.Winner == 'Biden' else 0, 1)"
   ]
  },
  {
   "cell_type": "code",
   "execution_count": 14,
   "metadata": {},
   "outputs": [
    {
     "data": {
      "text/html": [
       "<div>\n",
       "<style scoped>\n",
       "    .dataframe tbody tr th:only-of-type {\n",
       "        vertical-align: middle;\n",
       "    }\n",
       "\n",
       "    .dataframe tbody tr th {\n",
       "        vertical-align: top;\n",
       "    }\n",
       "\n",
       "    .dataframe thead th {\n",
       "        text-align: right;\n",
       "    }\n",
       "</style>\n",
       "<table border=\"1\" class=\"dataframe\">\n",
       "  <thead>\n",
       "    <tr style=\"text-align: right;\">\n",
       "      <th></th>\n",
       "      <th>State</th>\n",
       "      <th>Electoral Votes</th>\n",
       "      <th>Winner</th>\n",
       "      <th>Trump Votes</th>\n",
       "      <th>Biden Votes</th>\n",
       "      <th>Trump Electoral Votes</th>\n",
       "      <th>Biden Electoral Votes</th>\n",
       "    </tr>\n",
       "  </thead>\n",
       "  <tbody>\n",
       "    <tr>\n",
       "      <th>0</th>\n",
       "      <td>Alabama</td>\n",
       "      <td>9</td>\n",
       "      <td>Trump</td>\n",
       "      <td>1441170</td>\n",
       "      <td>36</td>\n",
       "      <td>9</td>\n",
       "      <td>0</td>\n",
       "    </tr>\n",
       "    <tr>\n",
       "      <th>1</th>\n",
       "      <td>Alaska</td>\n",
       "      <td>3</td>\n",
       "      <td>Trump</td>\n",
       "      <td>189951</td>\n",
       "      <td>42</td>\n",
       "      <td>3</td>\n",
       "      <td>0</td>\n",
       "    </tr>\n",
       "    <tr>\n",
       "      <th>2</th>\n",
       "      <td>Arizona\\nParty change\\nBATTLEGROUND</td>\n",
       "      <td>11</td>\n",
       "      <td>Biden</td>\n",
       "      <td>49</td>\n",
       "      <td>1672143</td>\n",
       "      <td>0</td>\n",
       "      <td>11</td>\n",
       "    </tr>\n",
       "    <tr>\n",
       "      <th>3</th>\n",
       "      <td>Arkansas</td>\n",
       "      <td>6</td>\n",
       "      <td>Trump</td>\n",
       "      <td>760647</td>\n",
       "      <td>34</td>\n",
       "      <td>6</td>\n",
       "      <td>0</td>\n",
       "    </tr>\n",
       "    <tr>\n",
       "      <th>4</th>\n",
       "      <td>California</td>\n",
       "      <td>55</td>\n",
       "      <td>Biden</td>\n",
       "      <td>34</td>\n",
       "      <td>11110250</td>\n",
       "      <td>0</td>\n",
       "      <td>55</td>\n",
       "    </tr>\n",
       "  </tbody>\n",
       "</table>\n",
       "</div>"
      ],
      "text/plain": [
       "                                 State  Electoral Votes Winner  Trump Votes  \\\n",
       "0                              Alabama                9  Trump      1441170   \n",
       "1                               Alaska                3  Trump       189951   \n",
       "2  Arizona\\nParty change\\nBATTLEGROUND               11  Biden           49   \n",
       "3                             Arkansas                6  Trump       760647   \n",
       "4                           California               55  Biden           34   \n",
       "\n",
       "   Biden Votes  Trump Electoral Votes  Biden Electoral Votes  \n",
       "0           36                      9                      0  \n",
       "1           42                      3                      0  \n",
       "2      1672143                      0                     11  \n",
       "3           34                      6                      0  \n",
       "4     11110250                      0                     55  "
      ]
     },
     "execution_count": 14,
     "metadata": {},
     "output_type": "execute_result"
    }
   ],
   "source": [
    "voting_df.head()"
   ]
  },
  {
   "cell_type": "markdown",
   "metadata": {},
   "source": [
    "From above we see that State column requires cleansing: split on newline character(`\\n`) and takes only the first index"
   ]
  },
  {
   "cell_type": "code",
   "execution_count": 15,
   "metadata": {},
   "outputs": [],
   "source": [
    "voting_df.State = voting_df.State.apply(lambda x: x.split('\\n')[0]) "
   ]
  },
  {
   "cell_type": "markdown",
   "metadata": {},
   "source": [
    "Check if there's missing data: `set()` are optimized for operations like `difference` or `intersection`, faster than comparing 2 lists directly, and it automatically removes duplicates"
   ]
  },
  {
   "cell_type": "code",
   "execution_count": 16,
   "metadata": {},
   "outputs": [
    {
     "name": "stdout",
     "output_type": "stream",
     "text": [
      "{'Nebraska', 'Maine', 'District of Columbia'}\n"
     ]
    }
   ],
   "source": [
    "present_states = set(voting_df.State)\n",
    "missing_states = set(voting_states) - present_states\n",
    "print(missing_states)"
   ]
  },
  {
   "cell_type": "code",
   "execution_count": 17,
   "metadata": {},
   "outputs": [
    {
     "data": {
      "text/plain": [
       "<bound method Series.unique of 0                  Alabama\n",
       "1                   Alaska\n",
       "2                  Arizona\n",
       "3                 Arkansas\n",
       "4               California\n",
       "5                 Colorado\n",
       "6              Connecticut\n",
       "7                 Delaware\n",
       "8     District Of Columbia\n",
       "9                  Florida\n",
       "10                 Georgia\n",
       "11                  Hawaii\n",
       "12                   Idaho\n",
       "13                Illinois\n",
       "14                 Indiana\n",
       "15                    Iowa\n",
       "16                  Kansas\n",
       "17                Kentucky\n",
       "18               Louisiana\n",
       "19                Maryland\n",
       "20           Massachusetts\n",
       "21                Michigan\n",
       "22               Minnesota\n",
       "23             Mississippi\n",
       "24                Missouri\n",
       "25                 Montana\n",
       "26                  Nevada\n",
       "27           New Hampshire\n",
       "28              New Jersey\n",
       "29              New Mexico\n",
       "30                New York\n",
       "31          North Carolina\n",
       "32            North Dakota\n",
       "33                    Ohio\n",
       "34                Oklahoma\n",
       "35                  Oregon\n",
       "36            Pennsylvania\n",
       "37            Rhode Island\n",
       "38          South Carolina\n",
       "39            South Dakota\n",
       "40               Tennessee\n",
       "41                   Texas\n",
       "42                    Utah\n",
       "43                 Vermont\n",
       "44                Virginia\n",
       "45              Washington\n",
       "46           West Virginia\n",
       "47               Wisconsin\n",
       "48                 Wyoming\n",
       "Name: State, dtype: object>"
      ]
     },
     "execution_count": 17,
     "metadata": {},
     "output_type": "execute_result"
    }
   ],
   "source": [
    "voting_df.State.unique"
   ]
  },
  {
   "cell_type": "markdown",
   "metadata": {},
   "source": [
    "`voting_df['State']` is a pandas Series, so we use `isin()`"
   ]
  },
  {
   "cell_type": "code",
   "execution_count": 18,
   "metadata": {},
   "outputs": [
    {
     "name": "stdout",
     "output_type": "stream",
     "text": [
      "Empty DataFrame\n",
      "Columns: [State, Electoral Votes, Winner, Trump Votes, Biden Votes, Trump Electoral Votes, Biden Electoral Votes]\n",
      "Index: []\n"
     ]
    }
   ],
   "source": [
    "na_df = voting_df[voting_df['State'].isin(missing_states)] \n",
    "print(na_df)"
   ]
  },
  {
   "cell_type": "code",
   "execution_count": 19,
   "metadata": {},
   "outputs": [
    {
     "name": "stdout",
     "output_type": "stream",
     "text": [
      "Rows with District of Columbia:\n",
      "                  State  Electoral Votes Winner  Trump Votes  Biden Votes  \\\n",
      "8  District Of Columbia                3  Biden            5       317323   \n",
      "\n",
      "   Trump Electoral Votes  Biden Electoral Votes  \n",
      "8                      0                      3  \n"
     ]
    }
   ],
   "source": [
    "dc_rows = voting_df[voting_df['State'] == 'District Of Columbia']\n",
    "print(\"Rows with District of Columbia:\")\n",
    "print(dc_rows)\n"
   ]
  },
  {
   "cell_type": "markdown",
   "metadata": {},
   "source": [
    "Found that it's font size issue."
   ]
  },
  {
   "cell_type": "code",
   "execution_count": 20,
   "metadata": {},
   "outputs": [],
   "source": [
    "# Add missing data\n",
    "missing_df = pd.DataFrame(\n",
    "    columns=voting_df.columns,\n",
    "    data=[['Maine', 4, 'Biden', 360737, 435072, 1, 3], ['Nebraska', 5, 'Trump', 556846, 374583, 4, 1]]\n",
    ")\n",
    "\n",
    "voting_df = pd.concat([voting_df, missing_df])\n",
    "\n",
    "voting_df = voting_df.sort_values('State').reset_index(drop=True)"
   ]
  },
  {
   "cell_type": "code",
   "execution_count": 21,
   "metadata": {},
   "outputs": [
    {
     "data": {
      "text/html": [
       "<div>\n",
       "<style scoped>\n",
       "    .dataframe tbody tr th:only-of-type {\n",
       "        vertical-align: middle;\n",
       "    }\n",
       "\n",
       "    .dataframe tbody tr th {\n",
       "        vertical-align: top;\n",
       "    }\n",
       "\n",
       "    .dataframe thead th {\n",
       "        text-align: right;\n",
       "    }\n",
       "</style>\n",
       "<table border=\"1\" class=\"dataframe\">\n",
       "  <thead>\n",
       "    <tr style=\"text-align: right;\">\n",
       "      <th></th>\n",
       "      <th>State</th>\n",
       "      <th>Electoral Votes</th>\n",
       "      <th>Winner</th>\n",
       "      <th>Trump Votes</th>\n",
       "      <th>Biden Votes</th>\n",
       "      <th>Trump Electoral Votes</th>\n",
       "      <th>Biden Electoral Votes</th>\n",
       "    </tr>\n",
       "  </thead>\n",
       "  <tbody>\n",
       "    <tr>\n",
       "      <th>0</th>\n",
       "      <td>Alabama</td>\n",
       "      <td>9</td>\n",
       "      <td>Trump</td>\n",
       "      <td>1441170</td>\n",
       "      <td>36</td>\n",
       "      <td>9</td>\n",
       "      <td>0</td>\n",
       "    </tr>\n",
       "    <tr>\n",
       "      <th>1</th>\n",
       "      <td>Alaska</td>\n",
       "      <td>3</td>\n",
       "      <td>Trump</td>\n",
       "      <td>189951</td>\n",
       "      <td>42</td>\n",
       "      <td>3</td>\n",
       "      <td>0</td>\n",
       "    </tr>\n",
       "    <tr>\n",
       "      <th>2</th>\n",
       "      <td>Arizona</td>\n",
       "      <td>11</td>\n",
       "      <td>Biden</td>\n",
       "      <td>49</td>\n",
       "      <td>1672143</td>\n",
       "      <td>0</td>\n",
       "      <td>11</td>\n",
       "    </tr>\n",
       "    <tr>\n",
       "      <th>3</th>\n",
       "      <td>Arkansas</td>\n",
       "      <td>6</td>\n",
       "      <td>Trump</td>\n",
       "      <td>760647</td>\n",
       "      <td>34</td>\n",
       "      <td>6</td>\n",
       "      <td>0</td>\n",
       "    </tr>\n",
       "    <tr>\n",
       "      <th>4</th>\n",
       "      <td>California</td>\n",
       "      <td>55</td>\n",
       "      <td>Biden</td>\n",
       "      <td>34</td>\n",
       "      <td>11110250</td>\n",
       "      <td>0</td>\n",
       "      <td>55</td>\n",
       "    </tr>\n",
       "  </tbody>\n",
       "</table>\n",
       "</div>"
      ],
      "text/plain": [
       "        State  Electoral Votes Winner  Trump Votes  Biden Votes  \\\n",
       "0     Alabama                9  Trump      1441170           36   \n",
       "1      Alaska                3  Trump       189951           42   \n",
       "2     Arizona               11  Biden           49      1672143   \n",
       "3    Arkansas                6  Trump       760647           34   \n",
       "4  California               55  Biden           34     11110250   \n",
       "\n",
       "   Trump Electoral Votes  Biden Electoral Votes  \n",
       "0                      9                      0  \n",
       "1                      3                      0  \n",
       "2                      0                     11  \n",
       "3                      6                      0  \n",
       "4                      0                     55  "
      ]
     },
     "execution_count": 21,
     "metadata": {},
     "output_type": "execute_result"
    }
   ],
   "source": [
    "voting_df.head()"
   ]
  },
  {
   "cell_type": "markdown",
   "metadata": {},
   "source": [
    "## Scrape latest state-level polling data\n",
    "\n",
    "Source: [538 Polls data](https://projects.fivethirtyeight.com/polls/president-general)"
   ]
  },
  {
   "cell_type": "code",
   "execution_count": 27,
   "metadata": {},
   "outputs": [],
   "source": [
    "# Suppress warnings if SSL verification is disabled\n",
    "urllib3.disable_warnings(urllib3.exceptions.InsecureRequestWarning)"
   ]
  },
  {
   "cell_type": "markdown",
   "metadata": {},
   "source": [
    "#### Core Scraper"
   ]
  },
  {
   "cell_type": "code",
   "execution_count": null,
   "metadata": {},
   "outputs": [],
   "source": [
    "# Function to scrape the latest polls result for a given state URL\n",
    "def get_latest_poll(url, state):\n",
    "    # Fallback: national polling url\n",
    "    national_url = \"https://projects.fivethirtyeight.com/polls/president-general/2024/national/\"\n",
    "\n",
    "    \n",
    "    #Fetch the page for specific state\n",
    "    response = requests.get(url, verify=False) #to bypass SSL error tmporarily     instead of # response = requests.get(url)\n",
    "    # print(response.text) #to printe the raw HTML content \n",
    "    # check for the presence of <tr class='visible-row'>\n",
    "    # if 'class=\"visible-row\"' in response.text:\n",
    "    #     print(\"The class 'visible-row' is present in the response.\")\n",
    "    # else:\n",
    "    #     print(\"The class 'visible-row' is not found in the response.\")\n",
    "\n",
    "    soup = BeautifulSoup(response.content, 'html.parser')\n",
    "\n",
    "    # Find all rows for polls\n",
    "    # latest_polls = soup.find_all('tr', class_='visibl-row') #this fails to process as it ask for exact match\n",
    "    # Use all_rows and filter\n",
    "    all_rows = soup.find_all('tr')\n",
    "    latest_polls = [row for row in all_rows if 'visible-row' in row.get('class', [])]\n",
    "\n",
    "    if not latest_polls:\n",
    "        # print(f\"No polling data found for state: {state}. Falling back to national polling data...\")\n",
    "        # Fallback to national polling data\n",
    "        url = national_url \n",
    "        response = requests.get(url, verify=False)\n",
    "        soup = BeautifulSoup(response.content, 'html.parser')\n",
    "        all_rows = soup.find_all('tr')\n",
    "        latest_polls = [row for row in all_rows if 'visible-row' in row.get('class', [])]\n",
    "        print(f\"Number of national rows found: {len(latest_polls)}\")\n",
    "\n",
    "        if not latest_polls:\n",
    "            print(\"No national polling data available either.\")\n",
    "            return None\n",
    "    \n",
    "    results_dict = {\n",
    "        'State': [],\n",
    "        'Date': [],\n",
    "        'Sample Size': [],\n",
    "        'Pollster': [],\n",
    "        'Democratic Candidate': [],\n",
    "        'Democratic Result': [],\n",
    "        'Trump Result': []\n",
    "    }\n",
    "\n",
    "    # for latest_poll in latest_polls:\n",
    "    try: \n",
    "        latest_poll = latest_polls[0] # Ensure only the first row representing the latest poll returned\n",
    "        # Extract data from the row\n",
    "        date = latest_poll.find('td', class_='dates hide-mobile').get_text(strip=True) \n",
    "        sample_size = latest_poll.find('td', class_='sample hide-mobile').get_text(strip=True)\n",
    "        pollster = latest_poll.find('div', class_='pollster-name').get_text(strip=True)\n",
    "        democractic_candidate = latest_poll.find('td', class_='answer first hide-mobile').get_text(strip=True) #dynamically fetch the Democratic's name\n",
    "        democratic_result = latest_poll.find('td', class_='value hide-mobile hide-default').get_text(strip=True) \n",
    "        \n",
    "        # Extract Trump result\n",
    "        # trump_td = latest_poll.find_all('td', string='Trump')\n",
    "        trump_result = None\n",
    "        # Debugging: Print the entire row containing \"Trump\"\n",
    "        # trump_td = latest_poll.find('td', string=\"Trump\")\n",
    "        # if trump_td:\n",
    "        #     print(\"Row containing 'Trump':\")\n",
    "        #     print(latest_poll.prettify())\n",
    "\n",
    "        for i, td in enumerate(tds):\n",
    "            if \"Trump\" in td.get_text(strip=True):\n",
    "                if i > 0 and 'value hide-moible' in tds[i - 1].get('class', []):\n",
    "                    trump_result = tds[i - 1].get_text(strip=True)\n",
    "                break\n",
    "        # if trump_td:\n",
    "        #     # Access the row containing \"Trump\"\n",
    "        #     parent_row = trump_td.find_parent('tr')\n",
    "        #     if parent_row:\n",
    "        #         # Find all <td> elements in the row\n",
    "        #         row_tds = parent_row.find_all('td')\n",
    "                \n",
    "        #         # Traverse the <td> elements to locate the one with the 'value hide-mobile' class\n",
    "        #         for td in row_tds:\n",
    "        #             if \"value hide-mobile\" in td.get(\"class\", []):\n",
    "        #                 trump_result = td.get_text(strip=True)\n",
    "        #                 break\n",
    "        # Find all <tr> elements\n",
    "        # all_rows = latest_poll.find_all('tr')\n",
    "\n",
    "        # # Traverse rows to find the one containing \"Trump\"\n",
    "        # for row in all_rows:\n",
    "        #     # Locate the <td> containing \"Trump\" in the current row\n",
    "        #     trump_td = row.find('td', string=\"Trump\")\n",
    "        #     if trump_td:\n",
    "        #         # Find all <td> elements in this row\n",
    "        #         row_tds = row.find_all('td')\n",
    "                \n",
    "        #         # Debugging: print all <td> elements\n",
    "        #         print(\"All <td> elements in the row containing 'Trump':\")\n",
    "        #         for td in row_tds:\n",
    "        #             print(td.prettify())\n",
    "\n",
    "        #         # Locate the <td> with the class containing 'value hide-mobile'\n",
    "        #         for td in row_tds:\n",
    "        #             if \"value hide-mobile\" in td.get(\"class\", []):\n",
    "        #                 trump_result = td.get_text(strip=True)\n",
    "        #                 break\n",
    "                \n",
    "        #         # Stop searching if the result is found\n",
    "        #         if trump_result:\n",
    "        #                 break\n",
    "\n",
    "        # Add to dictionary\n",
    "        results_dict['State'].append(state)\n",
    "        results_dict['Date'].append(date)\n",
    "        results_dict['Sample Size'].append(sample_size)\n",
    "        results_dict['Pollster'].append(pollster)\n",
    "        results_dict['Democratic Candidate'].append(democractic_candidate)\n",
    "        results_dict['Democratic Result'].append(democratic_result)\n",
    "        results_dict['Trump Result'].append(trump_result)\n",
    "\n",
    "    except AttributeError as e:\n",
    "        print(f\"Error parsing data for {state}:{e}\")\n",
    "        None # continue # Skip rows with missing data\n",
    "    \n",
    "    return results_dict\n"
   ]
  },
  {
   "cell_type": "code",
   "execution_count": 89,
   "metadata": {},
   "outputs": [
    {
     "name": "stdout",
     "output_type": "stream",
     "text": [
      "Row containing 'Trump':\n",
      "<tr class=\"visible-row\" data-id=\"216477\" data-type=\"president-general\">\n",
      " <!-- Desktop-->\n",
      " <td class=\"dates hide-mobile\">\n",
      "  <div class=\"date-wrapper\">\n",
      "   Nov. 3-4\n",
      "  </div>\n",
      " </td>\n",
      " <!-- Desktop-->\n",
      " <td class=\"sample hide-mobile\">\n",
      "  1,219\n",
      " </td>\n",
      " <td class=\"sample-type hide-mobile\">\n",
      "  LV\n",
      " </td>\n",
      " <!-- Mobile-->\n",
      " <td class=\"dates hide-desktop\">\n",
      "  <div class=\"date-wrapper\">\n",
      "   Nov. 3-4\n",
      "  </div>\n",
      "  <div class=\"sample-type-wrapper\">\n",
      "   <span class=\"sample\">\n",
      "    1,219\n",
      "   </span>\n",
      "   <span class=\"sample-type\">\n",
      "    LV\n",
      "   </span>\n",
      "  </div>\n",
      " </td>\n",
      " <!-- Mobile and Desktop-->\n",
      " <td class=\"pollster\" tabindex=\"\">\n",
      "  <div class=\"pollster-container\">\n",
      "   <a href=\"https://atlasintel.org/poll/usa-key-states-2024-11-04\" target=\"_blank\">\n",
      "    <div class=\"pollster-name\">\n",
      "     AtlasIntel\n",
      "    </div>\n",
      "   </a>\n",
      "  </div>\n",
      " </td>\n",
      " <td class=\"sponsor hide-mobile\" tabindex=\"\">\n",
      " </td>\n",
      " <!-- Desktop-->\n",
      " <td class=\"answer first hide-mobile hide-default\">\n",
      "  Harris\n",
      " </td>\n",
      " <td class=\"value hide-mobile hide-default\" style=\"background-color:#7a86c0;color:#000000;\">\n",
      "  <div class=\"heat-map\">\n",
      "   48%\n",
      "  </div>\n",
      " </td>\n",
      " <td class=\"answer first hide-mobile\" colspan=\"1\">\n",
      "  Harris\n",
      " </td>\n",
      " <td class=\"value hide-mobile\" style=\"background-color:#7a86c0;color:#000000;\">\n",
      "  <div class=\"heat-map\">\n",
      "   48%\n",
      "  </div>\n",
      " </td>\n",
      " <!-- Mobile-->\n",
      " <td class=\"answers hide-desktop\">\n",
      "  <div class=\"mobile-answers-container\">\n",
      "   <div class=\"mobile-answer\">\n",
      "    <p>\n",
      "     Harris\n",
      "    </p>\n",
      "    <div class=\"heat-map\" style=\"background-color:#7a86c0;color:#000000;\">\n",
      "     48%\n",
      "    </div>\n",
      "   </div>\n",
      "   <div class=\"mobile-answer\">\n",
      "    <p>\n",
      "     Trump\n",
      "    </p>\n",
      "    <div class=\"heat-map\" style=\"background-color:#e56c55;color:#000000;\">\n",
      "     50%\n",
      "    </div>\n",
      "   </div>\n",
      "  </div>\n",
      " </td>\n",
      " <!-- Desktop-->\n",
      " <td class=\"value hide-mobile\" style=\"background-color:#e56c55;color:#000000;\">\n",
      "  <div class=\"heat-map\">\n",
      "   50%\n",
      "  </div>\n",
      " </td>\n",
      " <td class=\"answer hide-mobile\">\n",
      "  Trump\n",
      " </td>\n",
      " <!-- add spacing to keep column widths even-->\n",
      " <td class=\"evenSpacer\" colspan=\"1\">\n",
      " </td>\n",
      " <!-- Desktop-->\n",
      " <td class=\"leader hide-mobile\">\n",
      "  Trump\n",
      " </td>\n",
      " <td class=\"net hide-mobile rep\">\n",
      "  +2\n",
      " </td>\n",
      "</tr>\n",
      "\n",
      "{'State': ['north-carolina'], 'Date': ['Nov. 3-4'], 'Sample Size': ['1,219'], 'Pollster': ['AtlasIntel'], 'Democratic Candidate': ['Harris'], 'Democratic Result': ['48%'], 'Trump Result': [None]}\n"
     ]
    }
   ],
   "source": [
    "# Testing the function\n",
    "state = \"north-carolina\"\n",
    "url = f\"https://projects.fivethirtyeight.com/polls/president-general/2024/{state.lower()}/\"\n",
    "\n",
    "latest_poll = get_latest_poll(url, state)\n",
    "print(latest_poll)"
   ]
  },
  {
   "cell_type": "markdown",
   "metadata": {},
   "source": [
    "* `'dates hide-mobile'` instead of `dates hide-desktop` as the former is hidden on mobile device, but could be more detailed, consistent and comprehensive data for scraping.\n",
    "\n",
    "#### Intermediate Function\n",
    "Dynamically builds the state URL and passes it to `get_latest_poll`"
   ]
  },
  {
   "cell_type": "code",
   "execution_count": 74,
   "metadata": {},
   "outputs": [],
   "source": [
    "# Function to dynamically constructs the URL for a given state based on its abbreviation\n",
    "def get_poll_info(state, democratic_candidate):\n",
    "    # Define the URL for DC because of error in http\n",
    "    if state == \"district-of-columbia\":\n",
    "        state_url = f\"https://projects.fivethirtyeight.com/polls/president-general/2020/{state.lower()}/\"\n",
    "    else:\n",
    "        state_url = f\"https://projects.fivethirtyeight.com/polls/president-general/2024/{state.lower()}/\"\n",
    "    # state_url = f\"https://projects.fivethirtyeight.com/polls/president-general/2024/{state.lower()}/\"\n",
    "\n",
    "    latest_polls = get_latest_poll(state_url, state)\n",
    "\n",
    "    if not latest_polls:\n",
    "        print(f\"No polling data found for {state}.\")\n",
    "        return None\n",
    "    \n",
    "    # Create DataFrame from results\n",
    "    df = pd.DataFrame(latest_polls)\n",
    "\n",
    "    if 'Democratic Candidate' not in df.columns or 'Trump Result' not in df.columns:\n",
    "        print(\"Missing necessary columns in polling data.\")\n",
    "        return None\n",
    "    \n",
    "    # Filter rows where Trump and a Democratic candidate are present/matching\n",
    "    df = df[\n",
    "        (df['Democratic Candidate'].str.contains(democratic_candidate, case=False, na=False)) &\n",
    "        df['Trump Result'].fillna(\"0%\")\n",
    "    ]\n",
    "\n",
    "\n",
    "    print(\"Filtered DataFrame:\")\n",
    "    print(df)\n",
    "\n",
    "    # Return only the latest poll\n",
    "    if not df.empty:\n",
    "        return df.iloc[[0]]  # Return only the latest poll\n",
    "    return None\n",
    "\n",
    "    # # Return only the latest poll\n",
    "    # return df"
   ]
  },
  {
   "cell_type": "code",
   "execution_count": 75,
   "metadata": {},
   "outputs": [
    {
     "name": "stdout",
     "output_type": "stream",
     "text": [
      "Filtered DataFrame:\n",
      "            State      Date Sample Size    Pollster Democratic Candidate  \\\n",
      "0  north-carolina  Nov. 3-4       1,219  AtlasIntel               Harris   \n",
      "\n",
      "  Democratic Result Trump Result  \n",
      "0               48%         None  \n",
      "State polling data for north-carolina (Biden):             State      Date Sample Size    Pollster Democratic Candidate  \\\n",
      "0  north-carolina  Nov. 3-4       1,219  AtlasIntel               Harris   \n",
      "\n",
      "  Democratic Result Trump Result  \n",
      "0               48%         None  \n"
     ]
    }
   ],
   "source": [
    "state_poll = get_poll_info(state, democratic_candidate=\"Harris\")\n",
    "print(f\"State polling data for {state} (Biden): {state_poll}\")\n"
   ]
  },
  {
   "cell_type": "markdown",
   "metadata": {},
   "source": [
    "#### Outer Loop (top level)\n",
    "Iterate through the list of states and handle fallback logic with national polling dataif specific mathups (eg. Trump vs Harris) are unavailable"
   ]
  },
  {
   "cell_type": "code",
   "execution_count": null,
   "metadata": {},
   "outputs": [],
   "source": [
    "# Iterates through the list of states \n",
    "def collect_polling_data(states, democratic_candidates=['Harris', 'Biden']):\n",
    "    # Placeholder for all states' polling data\n",
    "    all_state_data = []\n",
    "\n",
    "    for state in states:\n",
    "        print(f\"Fetching polling data for {state}...\")\n",
    "\n",
    "        # Get pollin data for each Democratic candidate\n",
    "        state_poll = None\n",
    "        for candidate in democratic_candidates:\n",
    "            print(f\"Trying candidate: {candidate}\")\n",
    "            # Get polls for the current state and candidate\n",
    "            state_poll = get_poll_info(state, democratic_candidates=candidate)\n",
    "            if state_poll is not None:\n",
    "                print(f\"Polling data found for {state} with {candidate}\")\n",
    "                print(state_poll.head())\n",
    "                break # Stop seaching once data for a candidate is found\n",
    "        \n",
    "        if state_poll is None:\n",
    "            # If no state-level polls, fetch national polling data\n",
    "            print(f\"No polling data for {state}. Falling back to national polls\")\n",
    "            national_url = national_url\n",
    "            national_poll = get_latest_poll(national_url, \"National\")\n",
    "\n",
    "            if national_poll:\n",
    "                # Create a placeholder DataFrame for national fallback\n",
    "                national_df = pd.DataFrame(national_poll)\n",
    "                national_df['State'] = state # Assign the state name to the data\n",
    "                all_state_data.append(national_df)\n",
    "            else:\n",
    "                print(f\"No national polling data available for {state}. Skipping\")\n",
    "        else:\n",
    "            all_state_data.append(state_poll)\n",
    "    \n",
    "    # Combine all states' data into a single DataFrame\n",
    "    if all_state_data:\n",
    "        combined_df = pd.concat(all_state_data, ignore_index=True)\n",
    "        return combined_df\n",
    "    else:\n",
    "        print(\"No polling data collected.\")\n",
    "        return None\n",
    "    "
   ]
  },
  {
   "cell_type": "code",
   "execution_count": 60,
   "metadata": {},
   "outputs": [
    {
     "name": "stdout",
     "output_type": "stream",
     "text": [
      "Fetching polling data for alabama...\n",
      "Fetching polling data for kentucky...\n",
      "Fetching polling data for north-dakota...\n",
      "Fetching polling data for alaska...\n",
      "Fetching polling data for louisiana...\n",
      "Fetching polling data for ohio...\n",
      "Fetching polling data for arizona...\n",
      "Fetching polling data for maine...\n",
      "Fetching polling data for oklahoma...\n",
      "Fetching polling data for arkansas...\n",
      "Fetching polling data for maryland...\n",
      "Fetching polling data for oregon...\n",
      "Fetching polling data for california...\n",
      "Fetching polling data for massachusetts...\n",
      "Fetching polling data for pennsylvania...\n",
      "Fetching polling data for colorado...\n",
      "Fetching polling data for michigan...\n",
      "Fetching polling data for rhode-island...\n",
      "Fetching polling data for connecticut...\n",
      "Fetching polling data for minnesota...\n",
      "Fetching polling data for south-carolina...\n",
      "Fetching polling data for delaware...\n",
      "Fetching polling data for mississippi...\n",
      "Fetching polling data for south-dakota...\n",
      "Fetching polling data for district-of-columbia...\n",
      "Fetching polling data for missouri...\n",
      "Fetching polling data for tennessee...\n",
      "Fetching polling data for florida...\n",
      "Fetching polling data for montana...\n",
      "Fetching polling data for texas...\n",
      "Fetching polling data for georgia...\n",
      "Fetching polling data for nebraska...\n",
      "Fetching polling data for utah...\n",
      "Fetching polling data for hawaii...\n",
      "Fetching polling data for nevada...\n",
      "Fetching polling data for vermont...\n",
      "Fetching polling data for idaho...\n",
      "Fetching polling data for new-hampshire...\n",
      "Fetching polling data for virginia...\n",
      "Fetching polling data for illinois...\n",
      "Fetching polling data for new-jersey...\n",
      "Fetching polling data for washington...\n",
      "Fetching polling data for indiana...\n",
      "Fetching polling data for new-mexico...\n",
      "Fetching polling data for west-virginia...\n",
      "Fetching polling data for iowa...\n",
      "Fetching polling data for new-york...\n",
      "Fetching polling data for wisconsin...\n",
      "Fetching polling data for kansas...\n",
      "Fetching polling data for north-carolina...\n",
      "Empty DataFrame\n",
      "Columns: [State, Date, Sample Size, Pollster, Democratic Candidate, Democratic Result, Trump Result]\n",
      "Index: []\n"
     ]
    }
   ],
   "source": [
    "# Call the function\n",
    "polling_data = collect_polling_data(formated_states)\n",
    "\n",
    "# Display the combined polling data\n",
    "if polling_data is not None:\n",
    "    print(polling_data.head())\n",
    "else:\n",
    "    print(\"No data was collected.\")"
   ]
  },
  {
   "cell_type": "markdown",
   "metadata": {},
   "source": [
    "##"
   ]
  },
  {
   "cell_type": "code",
   "execution_count": null,
   "metadata": {},
   "outputs": [],
   "source": [
    "\n",
    "def sum_election(df, weight_vote, weight_poll, baseline_uncertainty=None, alpha_beta_dist=False):\n",
    "    \"\"\"\n",
    "    Simluating 2024 election based on 2020 elction and recent polling\n",
    "    - weight_vote: level of trust/predictive power of the 2020 election result to 2024 election\n",
    "    - weight_poll: level of trust/predictive power of the most recent polling data to 2024 election\n",
    "    - baseline uncertainty: the amount of the uncertainty state-by-state (+- x%)\n",
    "    - alpha_beta_dist: (weighted avg is calculated from weight_vote and weight_poll)\n",
    "        alpha as the number of success + 1: representing the weighted avg number of voters who'd vote for Harris; \n",
    "        beta as the number of failure + 1: representing the weighted ave number of voters who'd vote for Trump\n",
    "    \n",
    "    \"\"\"\n"
   ]
  },
  {
   "cell_type": "code",
   "execution_count": null,
   "metadata": {},
   "outputs": [],
   "source": [
    "# no. of simulations\n",
    "n_sim = 250\n",
    "\n",
    "# baseline uncertainty\n",
    "baseline_uncertainty = 0.01 #ie.1% (+- 1%)"
   ]
  },
  {
   "cell_type": "code",
   "execution_count": null,
   "metadata": {},
   "outputs": [],
   "source": [
    "def simulate_election(df, weight_vote, weight_poll, baseline_uncertainty=None, return_alphas_betas=False):\n",
    "    \"\"\"\n",
    "    this function simulates an election using the joined dataframe df\n",
    "    weight_vote is our level of trust on the 2020 election being predictive of the 2024 election\n",
    "    weight_poll is our level of trust in the most recent polling data being predictive of the 2024 election\n",
    "    \"\"\"\n",
    "    \n",
    "    \"\"\"\n",
    "    in a Beta(alpha, beta) distribution:\n",
    "    - alpha is the number of \"successes\" + 1\n",
    "    - beta is the number of \"failures\" + 1\n",
    "    here we'll thus set:\n",
    "    - alpha as the weighted average number of voters who'd vote for Harris\n",
    "    - beta as the weighted average number of voters who'd vote for Trump\n",
    "    these weighted averages use the weight_vote and weight_poll we defined in the arguments\n",
    "    \"\"\"\n",
    "    \n",
    "    #get indices for each logical polling situation\n",
    "    exists_trump_harris_polling = df.exists_trump_harris_poll.values\n",
    "    exists_trump_biden_polling = df.exists_trump_biden_poll.values\n",
    "    not_exists_polling = (~exists_trump_harris_polling) & (~exists_trump_biden_polling)\n",
    "    \n",
    "    #if we're not encforcing uncertainty, use sample size as number of votes\n",
    "    if baseline_uncertainty is None:\n",
    "        n_votes_vals = df['N Votes']\n",
    "    #otherwise, set sample size to allow uncertainty to be set at the given value\n",
    "    #if no Trump/Harris poll for a state, but there is Trump/Biden poll, 1.5x the uncertainty\n",
    "    #if no poll for a state, 2x the uncertainty\n",
    "    else:\n",
    "        n_votes_vals = 1/(4*baseline_uncertainty**2) - 3\n",
    "        n_votes_missing_harris_polling_vals = 1/(4*(1.5*baseline_uncertainty)**2) - 3\n",
    "        n_votes_missing_polling_vals = 1/(4*(2*baseline_uncertainty)**2) - 3\n",
    "     \n",
    "    #posterior alphas and betas for the Beta distribution of p(Harris) winning\n",
    "    alphas = weight_vote * n_votes_vals * df['Biden Vote Frac'] + weight_poll * n_votes_vals * df['Harris Poll Frac'] + 1\n",
    "    \n",
    "    betas = weight_vote * n_votes_vals * df['Trump Vote Frac'] + weight_poll * n_votes_vals * df['Trump Poll Frac'] + 1\n",
    "    \n",
    "    #for states that do not have Trump/Harris polling but do have Trump/Biden polling\n",
    "    alphas[exists_trump_biden_polling] = weight_vote * n_votes_missing_harris_polling_vals * df.iloc[exists_trump_biden_polling]['Biden Vote Frac'] + weight_poll * n_votes_missing_harris_polling_vals * df.iloc[exists_trump_biden_polling]['Biden Poll Frac'] + 1\n",
    "    betas[exists_trump_biden_polling] = weight_vote * n_votes_missing_harris_polling_vals * df.iloc[exists_trump_biden_polling]['Trump Vote Frac'] + weight_poll * n_votes_missing_harris_polling_vals * df.iloc[exists_trump_biden_polling]['Trump Poll Frac'] + 1\n",
    "    \n",
    "    #for states that have no polling data at all\n",
    "    alphas[not_exists_polling] = weight_vote * n_votes_missing_polling_vals * df.iloc[not_exists_polling]['Biden Vote Frac'] + weight_poll * n_votes_missing_polling_vals * HARRIS_NATIONAL_POLL_FRAC + 1\n",
    "    betas[not_exists_polling] = weight_vote * n_votes_missing_polling_vals * df.iloc[not_exists_polling]['Trump Vote Frac'] + weight_poll * n_votes_missing_polling_vals * TRUMP_NATIONAL_POLL_FRAC + 1\n",
    "\n",
    "    #using these alphas and betas, simulate the probability that Harris would win\n",
    "    p_wins = [np.random.beta(a,b) for a,b in zip(alphas, betas)]\n",
    "    harris_wins = np.array([p > 0.5 for p in p_wins])\n",
    "    harris_evotes = df[harris_wins]['Electoral Votes'].sum()\n",
    "    trump_evotes = df[~harris_wins]['Electoral Votes'].sum()\n",
    "    \n",
    "    if return_alphas_betas:\n",
    "        return harris_evotes, trump_evotes, alphas, betas\n",
    "    return harris_evotes, trump_evotes "
   ]
  },
  {
   "cell_type": "code",
   "execution_count": null,
   "metadata": {},
   "outputs": [],
   "source": [
    "results = []\n",
    "# iterate over several choic of voting and pollin weights\n",
    "for weight_vote in np.arange(0.01, 1.01, 0.01):\n",
    "    weight_vote = round(weight_vote, 10)\n",
    "    weight_poll = round(1-weight_vote, 10)\n",
    "    if weight_poll < 0:\n",
    "        continue\n",
    "    print(weight_vote, weight_poll)\n",
    "    # do n times simulations\n",
    "    for _ in range(n_sim):\n",
    "        harris_evotes, trump_evotes = sim_election(joined, weight_vote, weight_poll, baseline_uncertainty)\n",
    "        results.append([weight_vote, weight_poll, harris_evotes, trump_evotes])\n",
    "results = pd.DateFrame(columns=['weight_vote', 'weight_poll', 'harris_evotes', 'trump_evotes'], data=results)\n"
   ]
  },
  {
   "cell_type": "code",
   "execution_count": null,
   "metadata": {},
   "outputs": [],
   "source": [
    "# aggregate based on weight of polling data\n",
    "stats = results.groupby('weight_poll').agg(\n",
    "    avg_harris_evotes = pd.NamedAgg('harris_evote', np.mean),\n",
    "    dev_harris_evotes = pd.NamedAgg('harris_evotes', np.std),\n",
    "    avg_trump_evotes = pd.NamedAgg('trump_evote', np.mean),\n",
    "    dev_trump_evotes = pd.NamedAgg('trump_evotes', np.std)\n",
    ").reset_index()"
   ]
  },
  {
   "cell_type": "code",
   "execution_count": null,
   "metadata": {},
   "outputs": [],
   "source": [
    "# plot results\n",
    "plt.figure(figsize=(12,6))\n",
    "plt.errorbar(stats.weight_poll, stats.avg_harris_evotes, yerr=stats.dev_harris_evotes, color='cornflowerblue', linewidth=2, capsize=2)\n",
    "plt.errorbar(stats.weight_poll, stats.avg_trump_evotes, yerr=stats.dev_trump_evotes, color='firebrick', linewidth=2, capsize=2)\n",
    "plt.legend(['Harris', 'Trump'], fontsize=16, loc=1)\n",
    "plt.ylim(200,340)\n",
    "plt.xticks(np.arange(0, 1.1, 0.1), fontsize=18)\n",
    "plt.xlabel('Polling Trust Level', fontsize=22)\n",
    "plt.yticks(np.arange(200, 350, 20), fontsize=18)\n",
    "plt.ylabel('Electoral Votes', fontsize=22)\n",
    "plt.tight_layout()\n",
    "plt.savefig('election_simluation.png',dpi=250)\n"
   ]
  },
  {
   "cell_type": "markdown",
   "metadata": {},
   "source": [
    "Interpreation:\n",
    "X-axis: 0.0 ~ 1.0 representing no trust to full trust to the poll\n",
    "Y-axis: average weight votes by standard deviation\n",
    "\n",
    "But instead of picking single polling trust level, below plot a distribution of the polling trust level across all possible trust level. And we could see that the trust level should follow a normal distribution, that we shouldn't be reading from a trust level less than 0.4 or more than 0.95, and center of mass is 0.7."
   ]
  },
  {
   "cell_type": "code",
   "execution_count": null,
   "metadata": {},
   "outputs": [],
   "source": [
    "plt.figure(figsize=(10,3))\n",
    "factor = 2\n",
    "beta_dist = np.random.beta(7*factor, 3*factor, 100000)\n",
    "sns.histplot(beta_dist, stat='density', color='green', alpha=0.3)\n",
    "plt.xticks(np.arange(0, 1.1, 0.1), fontsize=18)\n",
    "plt.xlabel('Polling Trust Level', fontsize=18)\n",
    "plt.ylabel('Density', fontsize=18)\n",
    "plt.tight_layout()\n"
   ]
  },
  {
   "cell_type": "markdown",
   "metadata": {},
   "source": [
    "Pulling weighted average votes to the density of trust level to get the final predicted votes per candidates:"
   ]
  },
  {
   "cell_type": "code",
   "execution_count": null,
   "metadata": {},
   "outputs": [],
   "source": [
    "stats['prob'] = stats.apply(lambda row: beta.pdf(row.weight_poll, 7*factor, 3*factor), 1)\n",
    "stats.prob = stats.prob / stats.prob.sum()\n",
    "harris_pred = round(sum(stats.prob * stats.avg_harris_evotes))\n",
    "trump_pred = round(sum(stats.prob * stats.avg_trump_evotes))\n",
    "print(f'Predicted Harris Electoral Votes: {harris_pred}')\n",
    "print(f'Predicted Trump Electoral Votes: {trump_pred}')"
   ]
  },
  {
   "cell_type": "markdown",
   "metadata": {},
   "source": [
    "#### Different outputs per scenarios\n",
    "| Baseline Uncertainty | Personal Polling Distribution | Harris | Trump |\n",
    "| :------------------- | :---------------------------: | :----: | ----: |\n",
    "| 1%                   | Centered at 0.7               | 270    | 268   |\n",
    "| 0.5%                 | Centered at 0.7               | 259    | 279   |\n",
    "| 1%                   | Centered at 0.1               | 284    | 254   |\n",
    "\n",
    "* [Edited 11/26/2024]: Interestingly, the final result of the 2024 election was 226 votes for Kamala Harris, and 312 votes for Donald J. Trump."
   ]
  }
 ],
 "metadata": {
  "kernelspec": {
   "display_name": "Python 3",
   "language": "python",
   "name": "python3"
  },
  "language_info": {
   "codemirror_mode": {
    "name": "ipython",
    "version": 3
   },
   "file_extension": ".py",
   "mimetype": "text/x-python",
   "name": "python",
   "nbconvert_exporter": "python",
   "pygments_lexer": "ipython3",
   "version": "undefined.undefined.undefined"
  }
 },
 "nbformat": 4,
 "nbformat_minor": 2
}
