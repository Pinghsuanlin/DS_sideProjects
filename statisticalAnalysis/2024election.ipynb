{
 "cells": [
  {
   "cell_type": "markdown",
   "metadata": {},
   "source": [
    "# 2024 Harris vs. Trump Election Prediction\n",
    "The practice followed [ritvikmath](https://www.youtube.com/watch?v=O5-A2ensKb0) guidance on utilizing Bayesian methodology, using 2020 election data (`prior`), with current polling data of 7 swing states (`likelihood`) to get 2024 election prediction (`posterior`). A baseline level of uncertainty is allowed for the prediction, which usually becomes lower as we get clower to the date of election."
   ]
  },
  {
   "cell_type": "code",
   "execution_count": null,
   "metadata": {},
   "outputs": [],
   "source": [
    "!pip install numpy pandas matplotlib seaborn requests bs4 geopandas descartes wget scipy"
   ]
  },
  {
   "cell_type": "code",
   "execution_count": 1,
   "metadata": {},
   "outputs": [],
   "source": [
    "import numpy as np\n",
    "import pandas as pd\n",
    "import matplotlib.pyplot as plt\n",
    "import seaborn as sns\n",
    "import requests\n",
    "import re\n",
    "from bs4 import BeautifulSoup\n",
    "import urllib3 # to bypass SSL verification and suppress warnings (not recommended for production level)\n",
    "import os \n",
    "import scipy.stats as stats\n",
    "import geopandas as gpd\n",
    "import wget\n",
    "# print(os.getcwd()) #print the current working directory"
   ]
  },
  {
   "cell_type": "code",
   "execution_count": 2,
   "metadata": {},
   "outputs": [],
   "source": [
    "# Set pandas to display all columns\n",
    "pd.set_option('display.max_columns', None) #None as no column limit for display"
   ]
  },
  {
   "cell_type": "markdown",
   "metadata": {},
   "source": [
    "Get the voting states and respective electoral votes:"
   ]
  },
  {
   "cell_type": "code",
   "execution_count": 2,
   "metadata": {},
   "outputs": [],
   "source": [
    "cwd = os.getcwd()\n",
    "relative_path = \"votingState.txt\"\n",
    "file_path = os.path.join(cwd, relative_path)"
   ]
  },
  {
   "cell_type": "code",
   "execution_count": 3,
   "metadata": {},
   "outputs": [
    {
     "name": "stdout",
     "output_type": "stream",
     "text": [
      "Alabama - 9 votes\n",
      "\n",
      "Kentucky - 8 votes\n",
      "\n",
      "North Dakota - 3 votes\n",
      "\n",
      "Alaska - 3 votes\n",
      "\n",
      "Louisiana - 8 votes\n"
     ]
    }
   ],
   "source": [
    "with open(file_path, 'r') as file:\n",
    "    text = file.read()\n",
    "    print(text[:100])\n"
   ]
  },
  {
   "cell_type": "code",
   "execution_count": 4,
   "metadata": {},
   "outputs": [
    {
     "name": "stdout",
     "output_type": "stream",
     "text": [
      "['Alabama', 'Kentucky', 'North Dakota', 'Alaska', 'Louisiana', 'Ohio', 'Arizona', 'Maine', 'Oklahoma', 'Arkansas', 'Maryland', 'Oregon', 'California', 'Massachusetts', 'Pennsylvania', 'Colorado', 'Michigan', 'Rhode Island', 'Connecticut', 'Minnesota', 'South Carolina', 'Delaware', 'Mississippi', 'South Dakota', 'District of Columbia', 'Missouri', 'Tennessee', 'Florida', 'Montana', 'Texas', 'Georgia', 'Nebraska', 'Utah', 'Hawaii', 'Nevada', 'Vermont', 'Idaho', 'New Hampshire', 'Virginia', 'Illinois', 'New Jersey', 'Washington', 'Indiana', 'New Mexico', 'West Virginia', 'Iowa', 'New York', 'Wisconsin', 'Kansas', 'North Carolina']\n"
     ]
    }
   ],
   "source": [
    "# Regex pattern to find state name\n",
    "pattern = r\"^[A-Za-z\\s]+(?=\\s*-\\s*\\d+\\s*votes\\n)\"\n",
    "voting_states = re.findall(pattern, text, flags=re.M)\n",
    "voting_states = [match.strip() for match in voting_states]\n",
    "print(voting_states)"
   ]
  },
  {
   "cell_type": "markdown",
   "metadata": {},
   "source": [
    "* `^` anchor the start of each line\n",
    "* `re.M` allows `^` to work on each line independently\n",
    "* `str.strip()` to remove any leading or trailing whitespace\n",
    "* `\\s` match any whitespace character\n"
   ]
  },
  {
   "cell_type": "markdown",
   "metadata": {},
   "source": [
    "## 1. Read 2020 Election Data"
   ]
  },
  {
   "cell_type": "code",
   "execution_count": 6,
   "metadata": {},
   "outputs": [],
   "source": [
    "cwd = os.getcwd()\n",
    "relative_path = \"2020_election_results.txt\"\n",
    "file_path = os.path.join(cwd, relative_path)"
   ]
  },
  {
   "cell_type": "code",
   "execution_count": null,
   "metadata": {},
   "outputs": [
    {
     "name": "stdout",
     "output_type": "stream",
     "text": [
      "STATE RESULTS\n",
      "President: Alabama\n",
      "9 Electoral Votes\n",
      "Trump\n",
      "PROJECTED WINNER\n",
      "+ FOLLOW\n",
      "Candidate\t%\t\tVotes\n",
      "Trump\n",
      "62.0%\t\n",
      "1,441,170\n",
      "Biden\n",
      "36.6%\t\n",
      "849,624\n",
      "Est. 99% In\n",
      "Updated 10:17 p.m. ET, Mar. 6\n",
      "Full Details\n"
     ]
    }
   ],
   "source": [
    "# read 2020 election result text file and extract \n",
    "try:\n",
    "    with open(file_path, 'r') as file:\n",
    "        text = file.read()\n",
    "    print(text[:200]) # display the first 200 characters to confirm success\n",
    "except FileNotFoundError:\n",
    "    print(f\"File not found at {file_path}\")\n",
    "except UnicodeDecodeError:\n",
    "    print(f\"Encoding issue while reading the file. Try another eoncding.\")\n"
   ]
  },
  {
   "cell_type": "markdown",
   "metadata": {},
   "source": [
    "[`regex`](https://www.w3schools.com/python/python_regex.asp) to extract expression pattern, and comfile the matches into dataframe:"
   ]
  },
  {
   "cell_type": "code",
   "execution_count": 8,
   "metadata": {},
   "outputs": [],
   "source": [
    "pattern = (\n",
    "    # Lines begin with 'President', followed by the state name into 'state' column\n",
    "    r\"President:\\s*(?P<state>[A-Za-z\\s]+)\\n\"\n",
    "    r\"(?P<electoral_votes>\\d+)\\s*Electoral Votes\\n\"\n",
    "    r\"(?P<winner>Trump|Biden)\\nPROJECTED WINNER\\n\\+ FOLLOW\\n\"\n",
    "    # votes-name\n",
    "    r\"Candidate\\t%\\t\\tVotes\\n(?P<candidate1>Trump|Biden)\\n(?:\\d+\\.\\d+%)?\\s*\\n?(?P<votes1>[\\d,]+)\\n(?P<candidate2>Trump|Biden)\\n(?:\\d+.\\d+%)?s*\\n?(?P<votes2>[\\d,]+)\"\n",
    ")"
   ]
  },
  {
   "cell_type": "code",
   "execution_count": 9,
   "metadata": {},
   "outputs": [],
   "source": [
    "# Compile the regrex pattern\n",
    "regex = re.compile(pattern)\n",
    "\n",
    "# Find all matches in the text and return a list of tuples\n",
    "# matches = regex.findall(text)\n",
    "matches = regex.finditer(text)"
   ]
  },
  {
   "cell_type": "code",
   "execution_count": null,
   "metadata": {},
   "outputs": [
    {
     "data": {
      "text/plain": [
       "[('Alabama', '9', 'Trump', 'Trump', '1,441,170', 'Biden', '36'), ('Alaska', '3', 'Trump', 'Trump', '189,951', 'Biden', '42'), ('Arizona\\nParty change\\nBATTLEGROUND', '11', 'Biden', 'Biden', '1,672,143', 'Trump', '49'), ('Arkansas', '6', 'Trump', 'Trump', '760,647', 'Biden', '34'), ('California', '55', 'Biden', 'Biden', '11,110,250', 'Trump', '34'), ('Colorado\\nBATTLEGROUND', '9', 'Biden', 'Biden', '1,804,352', 'Trump', '41'), ('Connecticut', '7', 'Biden', 'Biden', '1,080,831', 'Trump', '39'), ('Delaware', '3', 'Biden', 'Biden', '296,268', 'Trump', '39'), ('District Of Columbia', '3', 'Biden', 'Biden', '317,323', 'Trump', '5'), ('Florida\\nBATTLEGROUND', '29', 'Trump', 'Trump', '5,668,731', 'Biden', '47'), ('Georgia\\nParty change\\nBATTLEGROUND', '16', 'Biden', 'Biden', '2,473,633', 'Trump', '49'), ('Hawaii', '4', 'Biden', 'Biden', '366,130', 'Trump', '34'), ('Idaho', '4', 'Trump', 'Trump', '554,119', 'Biden', '33'), ('Illinois', '20', 'Biden', 'Biden', '3,471,915', 'Trump', '40'), ('Indiana', '11', 'Trump', 'Trump', '1,729,857', 'Biden', '41'), ('Iowa\\nBATTLEGROUND', '6', 'Trump', 'Trump', '897,672', 'Biden', '44'), ('Kansas', '6', 'Trump', 'Trump', '771,406', 'Biden', '41'), ('Kentucky', '8', 'Trump', 'Trump', '1,326,646', 'Biden', '36'), ('Louisiana', '8', 'Trump', 'Trump', '1,255,776', 'Biden', '39'), ('Maryland', '10', 'Biden', 'Biden', '1,985,023', 'Trump', '32'), ('Massachusetts', '11', 'Biden', 'Biden', '2,382,202', 'Trump', '32'), ('Michigan\\nParty change\\nBATTLEGROUND', '16', 'Biden', 'Biden', '2,804,040', 'Trump', '47'), ('Minnesota\\nBATTLEGROUND', '10', 'Biden', 'Biden', '1,717,077', 'Trump', '45'), ('Mississippi', '6', 'Trump', 'Trump', '756,764', 'Biden', '41'), ('Missouri', '10', 'Trump', 'Trump', '1,718,736', 'Biden', '41'), ('Montana', '3', 'Trump', 'Trump', '343,602', 'Biden', '40'), ('Nevada\\nBATTLEGROUND', '6', 'Biden', 'Biden', '703,486', 'Trump', '47'), ('New Hampshire\\nBATTLEGROUND', '4', 'Biden', 'Biden', '424,937', 'Trump', '45'), ('New Jersey', '14', 'Biden', 'Biden', '2,608,400', 'Trump', '41'), ('New Mexico', '5', 'Biden', 'Biden', '501,614', 'Trump', '43'), ('New York', '29', 'Biden', 'Biden', '5,244,886', 'Trump', '37'), ('North Carolina\\nBATTLEGROUND', '15', 'Trump', 'Trump', '2,758,775', 'Biden', '48'), ('North Dakota', '3', 'Trump', 'Trump', '235,595', 'Biden', '31'), ('Ohio\\nBATTLEGROUND', '18', 'Trump', 'Trump', '3,154,834', 'Biden', '45'), ('Oklahoma', '7', 'Trump', 'Trump', '1,020,280', 'Biden', '32'), ('Oregon', '7', 'Biden', 'Biden', '1,340,383', 'Trump', '40'), ('Pennsylvania\\nParty change\\nBATTLEGROUND', '20', 'Biden', 'Biden', '3,459,923', 'Trump', '48'), ('Rhode Island', '4', 'Biden', 'Biden', '307,486', 'Trump', '38'), ('South Carolina', '9', 'Trump', 'Trump', '1,385,103', 'Biden', '43'), ('South Dakota', '3', 'Trump', 'Trump', '261,043', 'Biden', '35'), ('Tennessee', '11', 'Trump', 'Trump', '1,852,475', 'Biden', '37'), ('Texas\\nBATTLEGROUND', '38', 'Trump', 'Trump', '5,890,347', 'Biden', '46'), ('Utah', '6', 'Trump', 'Trump', '865,140', 'Biden', '37'), ('Vermont', '3', 'Biden', 'Biden', '242,820', 'Trump', '30'), ('Virginia\\nBATTLEGROUND', '13', 'Biden', 'Biden', '2,413,568', 'Trump', '44'), ('Washington', '12', 'Biden', 'Biden', '2,369,612', 'Trump', '38'), ('West Virginia', '5', 'Trump', 'Trump', '545,382', 'Biden', '29'), ('Wisconsin\\nParty change\\nBATTLEGROUND', '10', 'Biden', 'Biden', '1,630,866', 'Trump', '48'), ('Wyoming', '3', 'Trump', 'Trump', '193,559', 'Biden', '26')]\n"
      ]
     },
     "metadata": {},
     "output_type": "display_data"
    }
   ],
   "source": [
    "# matches"
   ]
  },
  {
   "cell_type": "markdown",
   "metadata": {},
   "source": [
    "* `matches` is a list of tuples\n",
    "    * if using `re.findall()`, can only access with index such as `match[0]`. \n",
    "    * Or use `re.finditer()` to return match objects (so that you could use `.group()` later"
   ]
  },
  {
   "cell_type": "code",
   "execution_count": 10,
   "metadata": {},
   "outputs": [],
   "source": [
    "# Process the matches\n",
    "results = []\n",
    "for match in matches:\n",
    "    candidate1 = match.group('candidate1')\n",
    "    votes1 = int(match.group('votes1').replace(',',''))\n",
    "    candidate2 = match.group('candidate2')\n",
    "    votes2 = int(match.group('votes2').replace(',',''))  \n",
    "\n",
    "    # Assign votes to candidates\n",
    "    if candidate1 == 'Trump':\n",
    "        trump_votes, biden_votes = votes1, votes2\n",
    "    else:\n",
    "        trump_votes, biden_votes = votes2, votes1\n",
    "    \n",
    "    # Append the results\n",
    "    results.append({\n",
    "        \"State\": match.group('state'), #instead of match[0] (to prevent indexing error)\n",
    "        # winner takes all\n",
    "        \"Electoral Votes\": int(match.group('electoral_votes')),\n",
    "        \"Winner\": match.group('winner'),\n",
    "        \"Trump Votes\": trump_votes,\n",
    "        \"Biden Votes\": biden_votes\n",
    "    })\n",
    "\n",
    "voting_df = pd.DataFrame(results)\n"
   ]
  },
  {
   "cell_type": "code",
   "execution_count": 11,
   "metadata": {},
   "outputs": [
    {
     "name": "stdout",
     "output_type": "stream",
     "text": [
      "<class 'pandas.core.frame.DataFrame'>\n",
      "RangeIndex: 49 entries, 0 to 48\n",
      "Data columns (total 5 columns):\n",
      " #   Column           Non-Null Count  Dtype \n",
      "---  ------           --------------  ----- \n",
      " 0   State            49 non-null     object\n",
      " 1   Electoral Votes  49 non-null     int64 \n",
      " 2   Winner           49 non-null     object\n",
      " 3   Trump Votes      49 non-null     int64 \n",
      " 4   Biden Votes      49 non-null     int64 \n",
      "dtypes: int64(3), object(2)\n",
      "memory usage: 2.0+ KB\n"
     ]
    }
   ],
   "source": [
    "voting_df.info()"
   ]
  },
  {
   "cell_type": "code",
   "execution_count": 12,
   "metadata": {},
   "outputs": [],
   "source": [
    "# Winner takes all\n",
    "voting_df['Trump Electoral Votes'] = voting_df.apply(lambda row: row['Electoral Votes'] if row.Winner == 'Trump' else 0, 1) \n",
    "voting_df['Biden Electoral Votes'] = voting_df.apply(lambda row: row['Electoral Votes'] if row.Winner == 'Biden' else 0, 1)"
   ]
  },
  {
   "cell_type": "code",
   "execution_count": 13,
   "metadata": {},
   "outputs": [
    {
     "name": "stdout",
     "output_type": "stream",
     "text": [
      "<class 'pandas.core.frame.DataFrame'>\n",
      "RangeIndex: 49 entries, 0 to 48\n",
      "Data columns (total 7 columns):\n",
      " #   Column                 Non-Null Count  Dtype \n",
      "---  ------                 --------------  ----- \n",
      " 0   State                  49 non-null     object\n",
      " 1   Electoral Votes        49 non-null     int64 \n",
      " 2   Winner                 49 non-null     object\n",
      " 3   Trump Votes            49 non-null     int64 \n",
      " 4   Biden Votes            49 non-null     int64 \n",
      " 5   Trump Electoral Votes  49 non-null     int64 \n",
      " 6   Biden Electoral Votes  49 non-null     int64 \n",
      "dtypes: int64(5), object(2)\n",
      "memory usage: 2.8+ KB\n"
     ]
    }
   ],
   "source": [
    "voting_df.info()"
   ]
  },
  {
   "cell_type": "code",
   "execution_count": 14,
   "metadata": {},
   "outputs": [
    {
     "data": {
      "text/html": [
       "<div>\n",
       "<style scoped>\n",
       "    .dataframe tbody tr th:only-of-type {\n",
       "        vertical-align: middle;\n",
       "    }\n",
       "\n",
       "    .dataframe tbody tr th {\n",
       "        vertical-align: top;\n",
       "    }\n",
       "\n",
       "    .dataframe thead th {\n",
       "        text-align: right;\n",
       "    }\n",
       "</style>\n",
       "<table border=\"1\" class=\"dataframe\">\n",
       "  <thead>\n",
       "    <tr style=\"text-align: right;\">\n",
       "      <th></th>\n",
       "      <th>State</th>\n",
       "      <th>Electoral Votes</th>\n",
       "      <th>Winner</th>\n",
       "      <th>Trump Votes</th>\n",
       "      <th>Biden Votes</th>\n",
       "      <th>Trump Electoral Votes</th>\n",
       "      <th>Biden Electoral Votes</th>\n",
       "    </tr>\n",
       "  </thead>\n",
       "  <tbody>\n",
       "    <tr>\n",
       "      <th>0</th>\n",
       "      <td>Alabama</td>\n",
       "      <td>9</td>\n",
       "      <td>Trump</td>\n",
       "      <td>1441170</td>\n",
       "      <td>36</td>\n",
       "      <td>9</td>\n",
       "      <td>0</td>\n",
       "    </tr>\n",
       "    <tr>\n",
       "      <th>1</th>\n",
       "      <td>Alaska</td>\n",
       "      <td>3</td>\n",
       "      <td>Trump</td>\n",
       "      <td>189951</td>\n",
       "      <td>42</td>\n",
       "      <td>3</td>\n",
       "      <td>0</td>\n",
       "    </tr>\n",
       "    <tr>\n",
       "      <th>2</th>\n",
       "      <td>Arizona\\nParty change\\nBATTLEGROUND</td>\n",
       "      <td>11</td>\n",
       "      <td>Biden</td>\n",
       "      <td>49</td>\n",
       "      <td>1672143</td>\n",
       "      <td>0</td>\n",
       "      <td>11</td>\n",
       "    </tr>\n",
       "    <tr>\n",
       "      <th>3</th>\n",
       "      <td>Arkansas</td>\n",
       "      <td>6</td>\n",
       "      <td>Trump</td>\n",
       "      <td>760647</td>\n",
       "      <td>34</td>\n",
       "      <td>6</td>\n",
       "      <td>0</td>\n",
       "    </tr>\n",
       "    <tr>\n",
       "      <th>4</th>\n",
       "      <td>California</td>\n",
       "      <td>55</td>\n",
       "      <td>Biden</td>\n",
       "      <td>34</td>\n",
       "      <td>11110250</td>\n",
       "      <td>0</td>\n",
       "      <td>55</td>\n",
       "    </tr>\n",
       "  </tbody>\n",
       "</table>\n",
       "</div>"
      ],
      "text/plain": [
       "                                 State  Electoral Votes Winner  Trump Votes  \\\n",
       "0                              Alabama                9  Trump      1441170   \n",
       "1                               Alaska                3  Trump       189951   \n",
       "2  Arizona\\nParty change\\nBATTLEGROUND               11  Biden           49   \n",
       "3                             Arkansas                6  Trump       760647   \n",
       "4                           California               55  Biden           34   \n",
       "\n",
       "   Biden Votes  Trump Electoral Votes  Biden Electoral Votes  \n",
       "0           36                      9                      0  \n",
       "1           42                      3                      0  \n",
       "2      1672143                      0                     11  \n",
       "3           34                      6                      0  \n",
       "4     11110250                      0                     55  "
      ]
     },
     "execution_count": 14,
     "metadata": {},
     "output_type": "execute_result"
    }
   ],
   "source": [
    "voting_df.head()"
   ]
  },
  {
   "cell_type": "markdown",
   "metadata": {},
   "source": [
    "From above we see that State column requires cleansing: \n",
    "-> split on newline character(`\\n`) and takes only the first index"
   ]
  },
  {
   "cell_type": "code",
   "execution_count": 15,
   "metadata": {},
   "outputs": [],
   "source": [
    "voting_df.State = voting_df.State.apply(lambda x: x.split('\\n')[0]) "
   ]
  },
  {
   "cell_type": "markdown",
   "metadata": {},
   "source": [
    "Check if there's missing data: \n",
    "* `set()` are optimized for operations like `difference` or `intersection`, faster than comparing 2 lists directly, and it automatically removes duplicates"
   ]
  },
  {
   "cell_type": "code",
   "execution_count": 16,
   "metadata": {},
   "outputs": [
    {
     "name": "stdout",
     "output_type": "stream",
     "text": [
      "{'Nebraska', 'Maine', 'District of Columbia'}\n"
     ]
    }
   ],
   "source": [
    "present_states = set(voting_df.State)\n",
    "missing_states = set(voting_states) - present_states\n",
    "print(missing_states)"
   ]
  },
  {
   "cell_type": "code",
   "execution_count": 25,
   "metadata": {},
   "outputs": [
    {
     "data": {
      "text/plain": [
       "<bound method Series.unique of 0                  Alabama\n",
       "1                   Alaska\n",
       "2                  Arizona\n",
       "3                 Arkansas\n",
       "4               California\n",
       "5                 Colorado\n",
       "6              Connecticut\n",
       "7                 Delaware\n",
       "8     District Of Columbia\n",
       "9                  Florida\n",
       "10                 Georgia\n",
       "11                  Hawaii\n",
       "12                   Idaho\n",
       "13                Illinois\n",
       "14                 Indiana\n",
       "15                    Iowa\n",
       "16                  Kansas\n",
       "17                Kentucky\n",
       "18               Louisiana\n",
       "19                Maryland\n",
       "20           Massachusetts\n",
       "21                Michigan\n",
       "22               Minnesota\n",
       "23             Mississippi\n",
       "24                Missouri\n",
       "25                 Montana\n",
       "26                  Nevada\n",
       "27           New Hampshire\n",
       "28              New Jersey\n",
       "29              New Mexico\n",
       "30                New York\n",
       "31          North Carolina\n",
       "32            North Dakota\n",
       "33                    Ohio\n",
       "34                Oklahoma\n",
       "35                  Oregon\n",
       "36            Pennsylvania\n",
       "37            Rhode Island\n",
       "38          South Carolina\n",
       "39            South Dakota\n",
       "40               Tennessee\n",
       "41                   Texas\n",
       "42                    Utah\n",
       "43                 Vermont\n",
       "44                Virginia\n",
       "45              Washington\n",
       "46           West Virginia\n",
       "47               Wisconsin\n",
       "48                 Wyoming\n",
       "Name: State, dtype: object>"
      ]
     },
     "execution_count": 25,
     "metadata": {},
     "output_type": "execute_result"
    }
   ],
   "source": [
    "voting_df.State.unique"
   ]
  },
  {
   "cell_type": "markdown",
   "metadata": {},
   "source": [
    "We have `District Of Columbia`, but indeed missing the other two."
   ]
  },
  {
   "cell_type": "markdown",
   "metadata": {},
   "source": [
    "`voting_df['State']` is a pandas Series, so we use `isin()`"
   ]
  },
  {
   "cell_type": "code",
   "execution_count": 14,
   "metadata": {},
   "outputs": [
    {
     "name": "stdout",
     "output_type": "stream",
     "text": [
      "Empty DataFrame\n",
      "Columns: [State, Electoral Votes, Winner, Trump Votes, Biden Votes, Trump Electoral Votes, Biden Electoral Votes]\n",
      "Index: []\n"
     ]
    }
   ],
   "source": [
    "na_df = voting_df[voting_df['State'].isin(missing_states)] \n",
    "print(na_df)"
   ]
  },
  {
   "cell_type": "code",
   "execution_count": 15,
   "metadata": {},
   "outputs": [
    {
     "name": "stdout",
     "output_type": "stream",
     "text": [
      "Rows with District of Columbia:\n",
      "                  State  Electoral Votes Winner  Trump Votes  Biden Votes  \\\n",
      "8  District Of Columbia                3  Biden            5       317323   \n",
      "\n",
      "   Trump Electoral Votes  Biden Electoral Votes  \n",
      "8                      0                      3  \n"
     ]
    }
   ],
   "source": [
    "dc_rows = voting_df[voting_df['State'] == 'District Of Columbia']\n",
    "print(\"Rows with District of Columbia:\")\n",
    "print(dc_rows)\n"
   ]
  },
  {
   "cell_type": "markdown",
   "metadata": {},
   "source": [
    "Confirmed that it's font size issue."
   ]
  },
  {
   "cell_type": "code",
   "execution_count": 17,
   "metadata": {},
   "outputs": [],
   "source": [
    "# Add missing data\n",
    "missing_df = pd.DataFrame(\n",
    "    columns=voting_df.columns,\n",
    "    data=[['Maine', 4, 'Biden', 360737, 435072, 1, 3], ['Nebraska', 5, 'Trump', 556846, 374583, 4, 1]]\n",
    ")\n",
    "\n",
    "voting_df = pd.concat([voting_df, missing_df])\n",
    "\n",
    "voting_df = voting_df.sort_values('State').reset_index(drop=True)"
   ]
  },
  {
   "cell_type": "code",
   "execution_count": 28,
   "metadata": {},
   "outputs": [
    {
     "data": {
      "text/html": [
       "<div>\n",
       "<style scoped>\n",
       "    .dataframe tbody tr th:only-of-type {\n",
       "        vertical-align: middle;\n",
       "    }\n",
       "\n",
       "    .dataframe tbody tr th {\n",
       "        vertical-align: top;\n",
       "    }\n",
       "\n",
       "    .dataframe thead th {\n",
       "        text-align: right;\n",
       "    }\n",
       "</style>\n",
       "<table border=\"1\" class=\"dataframe\">\n",
       "  <thead>\n",
       "    <tr style=\"text-align: right;\">\n",
       "      <th></th>\n",
       "      <th>State</th>\n",
       "      <th>Electoral Votes</th>\n",
       "      <th>Winner</th>\n",
       "      <th>Trump Votes</th>\n",
       "      <th>Biden Votes</th>\n",
       "      <th>Trump Electoral Votes</th>\n",
       "      <th>Biden Electoral Votes</th>\n",
       "    </tr>\n",
       "  </thead>\n",
       "  <tbody>\n",
       "    <tr>\n",
       "      <th>0</th>\n",
       "      <td>Alabama</td>\n",
       "      <td>9</td>\n",
       "      <td>Trump</td>\n",
       "      <td>1441170</td>\n",
       "      <td>36</td>\n",
       "      <td>9</td>\n",
       "      <td>0</td>\n",
       "    </tr>\n",
       "    <tr>\n",
       "      <th>1</th>\n",
       "      <td>Alaska</td>\n",
       "      <td>3</td>\n",
       "      <td>Trump</td>\n",
       "      <td>189951</td>\n",
       "      <td>42</td>\n",
       "      <td>3</td>\n",
       "      <td>0</td>\n",
       "    </tr>\n",
       "    <tr>\n",
       "      <th>2</th>\n",
       "      <td>Arizona</td>\n",
       "      <td>11</td>\n",
       "      <td>Biden</td>\n",
       "      <td>49</td>\n",
       "      <td>1672143</td>\n",
       "      <td>0</td>\n",
       "      <td>11</td>\n",
       "    </tr>\n",
       "    <tr>\n",
       "      <th>3</th>\n",
       "      <td>Arkansas</td>\n",
       "      <td>6</td>\n",
       "      <td>Trump</td>\n",
       "      <td>760647</td>\n",
       "      <td>34</td>\n",
       "      <td>6</td>\n",
       "      <td>0</td>\n",
       "    </tr>\n",
       "    <tr>\n",
       "      <th>4</th>\n",
       "      <td>California</td>\n",
       "      <td>55</td>\n",
       "      <td>Biden</td>\n",
       "      <td>34</td>\n",
       "      <td>11110250</td>\n",
       "      <td>0</td>\n",
       "      <td>55</td>\n",
       "    </tr>\n",
       "  </tbody>\n",
       "</table>\n",
       "</div>"
      ],
      "text/plain": [
       "        State  Electoral Votes Winner  Trump Votes  Biden Votes  \\\n",
       "0     Alabama                9  Trump      1441170           36   \n",
       "1      Alaska                3  Trump       189951           42   \n",
       "2     Arizona               11  Biden           49      1672143   \n",
       "3    Arkansas                6  Trump       760647           34   \n",
       "4  California               55  Biden           34     11110250   \n",
       "\n",
       "   Trump Electoral Votes  Biden Electoral Votes  \n",
       "0                      9                      0  \n",
       "1                      3                      0  \n",
       "2                      0                     11  \n",
       "3                      6                      0  \n",
       "4                      0                     55  "
      ]
     },
     "execution_count": 28,
     "metadata": {},
     "output_type": "execute_result"
    }
   ],
   "source": [
    "voting_df.head()"
   ]
  },
  {
   "cell_type": "markdown",
   "metadata": {},
   "source": [
    "## Scrape latest state-level polling data\n",
    "\n",
    "Source: [538 Polls data](https://projects.fivethirtyeight.com/polls/president-general)"
   ]
  },
  {
   "cell_type": "code",
   "execution_count": 18,
   "metadata": {},
   "outputs": [],
   "source": [
    "# Suppress warnings if SSL verification is disabled\n",
    "urllib3.disable_warnings(urllib3.exceptions.InsecureRequestWarning)"
   ]
  },
  {
   "cell_type": "markdown",
   "metadata": {},
   "source": [
    "### Core Scraper\n",
    "* If data is misssing, fill with nataional data.\n",
    "* Extract poll data from the correct table rows (`<tr>`)\n",
    "* Handle structure variation (eg. missing poll results, different candidate names)\n",
    "* Store daata in a structured dictionary for a easy conversion to dataframe\n",
    "---\n",
    "* `fina_all()` returns multiple elements, but as we need only one, could use `find()` instead to search for a single element.\n",
    "* `str.contains()` to return matches like \"Biden\", \"Harris\".\n",
    "* Since the percentage is inside a `<div>`, we need to access the `<div>` first.\n",
    "* Ensure we always use \"Harris\" as it could be `array(['Kennedy', 'Harris', 'Biden'], dtype=object)`"
   ]
  },
  {
   "cell_type": "markdown",
   "metadata": {},
   "source": [
    "Found Trump's polling result as this for those having \"More\" toggle:\n",
    "```\n",
    "<tr class=\"expandable-row\">\n",
    "...\n",
    "   </div>\n",
    "   <div class=\"value hide-mobile expandable\">\n",
    "    <div class=\"heat-map\" style=\"background-color:#dc543f;color:#ffffff;\">\n",
    "     59%\n",
    "    </div>\n",
    "    <span class=\"choiceName\">\n",
    "     Trump\n",
    "    </span>\n",
    "   </div>\n",
    "   <div class=\"value hide-mobile expandable\">\n",
    "```"
   ]
  },
  {
   "cell_type": "code",
   "execution_count": 19,
   "metadata": {},
   "outputs": [],
   "source": [
    "# Fallback: national polling url\n",
    "NATIONAL_url = \"https://projects.fivethirtyeight.com/polls/president-general/2024/national/\""
   ]
  },
  {
   "cell_type": "code",
   "execution_count": 20,
   "metadata": {},
   "outputs": [],
   "source": [
    "def get_latest_poll(url, state):\n",
    "    response = requests.get(url, verify=False)\n",
    "    soup = BeautifulSoup(response.content, 'html.parser')\n",
    "\n",
    "    # Find all rows for polls\n",
    "    all_rows = soup.find_all('tr')\n",
    "    latest_poll = next((row for row in all_rows if 'visible-row' in row.get('class', [])), None)\n",
    "\n",
    "    if not latest_poll:\n",
    "        print(f\"No polling data found for state: {state}.\")\n",
    "        return None\n",
    "\n",
    "    results_dict = {\n",
    "        'State': state,\n",
    "        'Date': None,\n",
    "        'Sample Size': None,\n",
    "        'Pollster': None,\n",
    "        'Democratic Candidate': None,\n",
    "        'Democratic Result': None,\n",
    "        'Trump Result': None\n",
    "    }\n",
    "\n",
    "    # Extract basic information\n",
    "    try:\n",
    "        results_dict['Date'] = latest_poll.find('td', class_='dates hide-mobile').get_text(strip=True)\n",
    "        results_dict['Sample Size'] = latest_poll.find('td', class_='sample hide-mobile').get_text(strip=True)\n",
    "        results_dict['Pollster'] = latest_poll.find('div', class_='pollster-name').get_text(strip=True)\n",
    "\n",
    "        # Extract Democratic candidate and result\n",
    "        dem_candidate = latest_poll.find('td', class_='answer first hide-mobile').get_text(strip=True)\n",
    "        dem_result = latest_poll.find('td', class_='value hide-mobile hide-default').get_text(strip=True)\n",
    "\n",
    "        # Normalize Democratic Candidate to \"Harris\"\n",
    "        if dem_candidate in ['Biden', 'Kennedy']:\n",
    "            dem_candidate = 'Harris'\n",
    "        results_dict['Democratic Candidate'] = dem_candidate\n",
    "        results_dict['Democratic Result'] = dem_result\n",
    "        \n",
    "        # Extract Trump result from the main row\n",
    "        trump_cell = latest_poll.find('td', class_='answer hide-mobile', string=\"Trump\")\n",
    "        if trump_cell:\n",
    "            trump_result = trump_cell.find_previous_sibling('td', class_='value hide-mobile')\n",
    "            if trump_result:\n",
    "                results_dict['Trump Result'] = trump_result.get_text(strip=True)\n",
    "\n",
    "        # If Trump is missing, check the expandable row\n",
    "        if results_dict['Trump Result'] is None:\n",
    "            expandable_row = latest_poll.find_next_sibling('tr', class_='expandable-row')\n",
    "            if expandable_row:\n",
    "                candidate_blocks = expandable_row.find_all('div', class_='value hide-mobile expandable')\n",
    "                for block in candidate_blocks:\n",
    "                    candidate_name = block.find('span', class_='choiceName')\n",
    "                    if candidate_name and \"Trump\" in candidate_name.get_text(strip=True):\n",
    "                        heat_map_div = block.find('div', class_='heat-map')\n",
    "                        if heat_map_div:\n",
    "                            results_dict['Trump Result'] = heat_map_div.get_text(strip=True)\n",
    "                            break  # Stop once we find Trump's result\n",
    "\n",
    "    except AttributeError as e:\n",
    "        print(f\"Error parsing data for {state}: {e}\")\n",
    "        return None\n",
    "\n",
    "    return results_dict"
   ]
  },
  {
   "cell_type": "code",
   "execution_count": 21,
   "metadata": {},
   "outputs": [
    {
     "name": "stdout",
     "output_type": "stream",
     "text": [
      "{'State': 'north-carolina', 'Date': 'Nov. 3-4, 2024', 'Sample Size': '1,219', 'Pollster': 'AtlasIntel', 'Democratic Candidate': 'Harris', 'Democratic Result': '48%', 'Trump Result': '50%'}\n"
     ]
    }
   ],
   "source": [
    "# Example usage\n",
    "state = \"north-carolina\"#\"rhode-island\"#\"north-dakota\"\n",
    "url = f\"https://projects.fivethirtyeight.com/polls/president-general/2024/{state}/\"\n",
    "latest_poll = get_latest_poll(url, state)\n",
    "print(latest_poll)"
   ]
  },
  {
   "cell_type": "code",
   "execution_count": 22,
   "metadata": {},
   "outputs": [
    {
     "name": "stdout",
     "output_type": "stream",
     "text": [
      "{'State': 'rhode-island', 'Date': 'Oct.\\xa029-Nov.\\xa02, 2024', 'Sample Size': '708', 'Pollster': 'University of New Hampshire Survey Center', 'Democratic Candidate': 'Harris', 'Democratic Result': '54%', 'Trump Result': '40%'}\n"
     ]
    }
   ],
   "source": [
    "state = \"rhode-island\"#\"north-dakota\"\n",
    "url = f\"https://projects.fivethirtyeight.com/polls/president-general/2024/{state}/\"\n",
    "latest_poll = get_latest_poll(url, state)\n",
    "print(latest_poll)"
   ]
  },
  {
   "cell_type": "code",
   "execution_count": 23,
   "metadata": {},
   "outputs": [
    {
     "name": "stdout",
     "output_type": "stream",
     "text": [
      "{'State': 'north-dakota', 'Date': 'Sept. 28-30, 2024', 'Sample Size': '500', 'Pollster': 'WPA Intelligence', 'Democratic Candidate': 'Harris', 'Democratic Result': '32%', 'Trump Result': '59%'}\n"
     ]
    }
   ],
   "source": [
    "state = \"north-dakota\"\n",
    "url = f\"https://projects.fivethirtyeight.com/polls/president-general/2024/{state}/\"\n",
    "latest_poll = get_latest_poll(url, state)\n",
    "print(latest_poll)"
   ]
  },
  {
   "cell_type": "code",
   "execution_count": 24,
   "metadata": {},
   "outputs": [
    {
     "name": "stdout",
     "output_type": "stream",
     "text": [
      "{'State': 'alaska', 'Date': 'Oct. 20-22, 2024', 'Sample Size': '1,703', 'Pollster': 'Alaska Survey Research', 'Democratic Candidate': 'Harris', 'Democratic Result': '45%', 'Trump Result': '55%'}\n"
     ]
    }
   ],
   "source": [
    "state = \"alaska\"\n",
    "url = f\"https://projects.fivethirtyeight.com/polls/president-general/2024/{state}/\"\n",
    "latest_poll = get_latest_poll(url, state)\n",
    "print(latest_poll)"
   ]
  },
  {
   "cell_type": "markdown",
   "metadata": {},
   "source": [
    "### Intermediate Function\n",
    "Dynamically builds the state URL and passes it to get_latest_poll"
   ]
  },
  {
   "cell_type": "code",
   "execution_count": 25,
   "metadata": {},
   "outputs": [],
   "source": [
    "# Function to dynamically constructs the URL for a given state based on its abbreviation\n",
    "def get_poll_url(state):\n",
    "    \"\"\"Construcst a URL for a given state's polling data by formatting its name\n",
    "    \"\"\"\n",
    "    # Define the URL for DC because of error in http\n",
    "    if state == \"District of Columbia\":#only has 2020 polling result\n",
    "        state_url = f\"https://projects.fivethirtyeight.com/polls/president-general/2020/\"\n",
    "    else:\n",
    "        state_url = f\"https://projects.fivethirtyeight.com/polls/president-general/2024/\"\n",
    "\n",
    "    # Convert spaces to hyphens \n",
    "    formatted_state = state.lower().replace(\" \", \"-\")\n",
    "    return f\"{state_url}{formatted_state}/\""
   ]
  },
  {
   "cell_type": "code",
   "execution_count": 26,
   "metadata": {},
   "outputs": [
    {
     "name": "stdout",
     "output_type": "stream",
     "text": [
      "https://projects.fivethirtyeight.com/polls/president-general/2024/north-carolina/\n",
      "https://projects.fivethirtyeight.com/polls/president-general/2024/new-mexico/\n",
      "https://projects.fivethirtyeight.com/polls/president-general/2020/district-of-columbia/\n"
     ]
    }
   ],
   "source": [
    "# Testing\n",
    "voting_states_sample = [\"North Carolina\", \"New Mexico\", \"District of Columbia\"]\n",
    "for state in voting_states_sample:\n",
    "    print(get_poll_url(state))"
   ]
  },
  {
   "cell_type": "markdown",
   "metadata": {},
   "source": [
    "### Outer Loop (top level)\n",
    "\n",
    "Iterate through the list of states and handle fallback logic with national polling dataif specific mathups (eg. Trump vs Harris) are unavailable"
   ]
  },
  {
   "cell_type": "code",
   "execution_count": 27,
   "metadata": {},
   "outputs": [],
   "source": [
    "# Iterates through the list of states \n",
    "def collect_polling_data(voting_states):\n",
    "    \"\"\"Iterates through states and collects polling data with fallback to national polls\n",
    "    \"\"\"\n",
    "    # Placeholder for all states' polling data\n",
    "    all_poll_data = []\n",
    "\n",
    "    for state in voting_states:\n",
    "        print(f\"Fetchingpolling data for {state}...\")\n",
    "        \n",
    "        # Construct URL dynamically\n",
    "        state_url = get_poll_url(state)\n",
    "\n",
    "        # Fetch state polling data\n",
    "        state_poll = get_latest_poll(state_url, state)\n",
    "        \n",
    "        # Fallback: If no state-level polls, fetch national polls\n",
    "        if state_poll is None:\n",
    "            # If no state-level polls, fetch national polling data\n",
    "            print(f\"No polling data for {state}. Falling back to national polls\")\n",
    "            national_url = NATIONAL_url\n",
    "            state_poll = get_latest_poll(national_url, \"National\")\n",
    "\n",
    "            # Assign state name to fallback national data\n",
    "            if state_poll:\n",
    "                state_poll['State'] = state\n",
    "        \n",
    "        # Store collected data\n",
    "        if state_poll:\n",
    "            all_poll_data.append(state_poll)         \n",
    "    \n",
    "    # Combine all states' data into a DataFrame\n",
    "    if all_poll_data:\n",
    "        polling_df = pd.DataFrame(all_poll_data)\n",
    "        return polling_df\n",
    "    else:\n",
    "        print(\"No polling data collected.\")\n",
    "        return None"
   ]
  },
  {
   "cell_type": "code",
   "execution_count": 28,
   "metadata": {},
   "outputs": [
    {
     "name": "stdout",
     "output_type": "stream",
     "text": [
      "Fetchingpolling data for Alabama...\n",
      "Fetchingpolling data for Kentucky...\n",
      "Fetchingpolling data for North Dakota...\n",
      "Fetchingpolling data for Alaska...\n",
      "Fetchingpolling data for Louisiana...\n",
      "Fetchingpolling data for Ohio...\n",
      "Fetchingpolling data for Arizona...\n",
      "Fetchingpolling data for Maine...\n",
      "Fetchingpolling data for Oklahoma...\n",
      "Fetchingpolling data for Arkansas...\n",
      "Fetchingpolling data for Maryland...\n",
      "Fetchingpolling data for Oregon...\n",
      "Fetchingpolling data for California...\n",
      "Fetchingpolling data for Massachusetts...\n",
      "Fetchingpolling data for Pennsylvania...\n",
      "Fetchingpolling data for Colorado...\n",
      "Fetchingpolling data for Michigan...\n",
      "Fetchingpolling data for Rhode Island...\n",
      "Fetchingpolling data for Connecticut...\n",
      "Fetchingpolling data for Minnesota...\n",
      "Fetchingpolling data for South Carolina...\n",
      "Fetchingpolling data for Delaware...\n",
      "Fetchingpolling data for Mississippi...\n",
      "Fetchingpolling data for South Dakota...\n",
      "Fetchingpolling data for District of Columbia...\n",
      "Fetchingpolling data for Missouri...\n",
      "Fetchingpolling data for Tennessee...\n",
      "Fetchingpolling data for Florida...\n",
      "Fetchingpolling data for Montana...\n",
      "Fetchingpolling data for Texas...\n",
      "Fetchingpolling data for Georgia...\n",
      "Fetchingpolling data for Nebraska...\n",
      "Fetchingpolling data for Utah...\n",
      "Fetchingpolling data for Hawaii...\n",
      "Fetchingpolling data for Nevada...\n",
      "Fetchingpolling data for Vermont...\n",
      "Fetchingpolling data for Idaho...\n",
      "Fetchingpolling data for New Hampshire...\n",
      "Fetchingpolling data for Virginia...\n",
      "Fetchingpolling data for Illinois...\n",
      "Fetchingpolling data for New Jersey...\n",
      "Fetchingpolling data for Washington...\n",
      "Fetchingpolling data for Indiana...\n",
      "Fetchingpolling data for New Mexico...\n",
      "Fetchingpolling data for West Virginia...\n",
      "Fetchingpolling data for Iowa...\n",
      "Fetchingpolling data for New York...\n",
      "Fetchingpolling data for Wisconsin...\n",
      "Fetchingpolling data for Kansas...\n",
      "Fetchingpolling data for North Carolina...\n",
      "          State               Date Sample Size                Pollster  \\\n",
      "0       Alabama  April 13-21, 2024         513   John Zogby Strategies   \n",
      "1      Kentucky  April 13-21, 2024         402   John Zogby Strategies   \n",
      "2  North Dakota  Sept. 28-30, 2024         500        WPA Intelligence   \n",
      "3        Alaska   Oct. 20-22, 2024       1,703  Alaska Survey Research   \n",
      "4     Louisiana  April 22-26, 2024         800     Faucheux Strategies   \n",
      "\n",
      "  Democratic Candidate Democratic Result Trump Result  \n",
      "0               Harris               31%          56%  \n",
      "1               Harris               35%          52%  \n",
      "2               Harris               32%          59%  \n",
      "3               Harris               45%          55%  \n",
      "4               Harris               33%          48%  \n"
     ]
    }
   ],
   "source": [
    "# Call the function\n",
    "polling_df = collect_polling_data(voting_states)\n",
    "\n",
    "# Display the combined polling data\n",
    "if polling_df is not None:\n",
    "    print(polling_df.head())\n",
    "else:\n",
    "    print(\"No data was collected.\")"
   ]
  },
  {
   "cell_type": "code",
   "execution_count": null,
   "metadata": {},
   "outputs": [],
   "source": [
    "# polling_df.to_csv('polling_2024.csv', index=False)"
   ]
  },
  {
   "cell_type": "code",
   "execution_count": null,
   "metadata": {},
   "outputs": [
    {
     "data": {
      "text/plain": [
       "array(['Harris'], dtype=object)"
      ]
     },
     "execution_count": 67,
     "metadata": {},
     "output_type": "execute_result"
    }
   ],
   "source": [
    "# polling_df[\"Democratic Candidate\"].unique()"
   ]
  },
  {
   "cell_type": "markdown",
   "metadata": {},
   "source": [
    "## Simulate Election Outcomes Using Bayesian Statistics\n",
    "* Prior: 2020 Election result\n",
    "* Belief: Update with current polling data\n",
    "* Baseline Uncertainty: 1%, 0.5% (normal distribution) to include randomness\n",
    "* Baysian updating: $$P(win|polls)= (P(polls|win) * P(win)) / P(polls)$$\n",
    "* Run 250 simulations for each state\n",
    "* If Harris >= 270 electoral votes, wins.\n",
    "\n",
    "1. Define weights & adjust votes:\n",
    "* Use **Beta distribution `(Beta(alpha, beta))`** to model the probability of a state voting for Harris or Trump\n",
    "    * alpha = number of success (weighted number of votes for Harris) +1\n",
    "    * beta = number of failure (weighted number of votes for Trump) +1\n",
    "    * eg. if a state has 3,000 votes and 51% for Bide, I estimate Harris has about a 51% chance of winning at 2024, but we sample from a Beta distribution to account for uncertainty.\n",
    "* **weights** to balance past election results and current polling data\n",
    "    * $V_weighted = (V_2020 * weight_vote) + (V_poll * weight_poll)$\n",
    "    * If no polling data exists, fall back to just `weight_vote`\n",
    "\n",
    "2. Model probability with beta distribution:\n",
    "* use the weighted votes to define the beta distribution: $$P_state ~ Beta(alpha, beta)$$\n",
    "\n",
    "3. Run Monte Carlo simulations\n",
    "run `Beta(alpha, beta).rvs()` multiple times\n",
    "* Use NumPy's vectorized operations instead of Python loops to speed up simulation process.\n",
    "\n",
    "4. Aggregate electoral votes\n"
   ]
  },
  {
   "cell_type": "code",
   "execution_count": null,
   "metadata": {},
   "outputs": [
    {
     "data": {
      "text/html": [
       "<div>\n",
       "<style scoped>\n",
       "    .dataframe tbody tr th:only-of-type {\n",
       "        vertical-align: middle;\n",
       "    }\n",
       "\n",
       "    .dataframe tbody tr th {\n",
       "        vertical-align: top;\n",
       "    }\n",
       "\n",
       "    .dataframe thead th {\n",
       "        text-align: right;\n",
       "    }\n",
       "</style>\n",
       "<table border=\"1\" class=\"dataframe\">\n",
       "  <thead>\n",
       "    <tr style=\"text-align: right;\">\n",
       "      <th></th>\n",
       "      <th>State</th>\n",
       "      <th>Date</th>\n",
       "      <th>Sample Size</th>\n",
       "      <th>Pollster</th>\n",
       "      <th>Democratic Candidate</th>\n",
       "      <th>Democratic Result</th>\n",
       "      <th>Trump Result</th>\n",
       "    </tr>\n",
       "  </thead>\n",
       "  <tbody>\n",
       "    <tr>\n",
       "      <th>0</th>\n",
       "      <td>Alabama</td>\n",
       "      <td>April 13-21, 2024</td>\n",
       "      <td>513</td>\n",
       "      <td>John Zogby Strategies</td>\n",
       "      <td>Harris</td>\n",
       "      <td>31%</td>\n",
       "      <td>56%</td>\n",
       "    </tr>\n",
       "    <tr>\n",
       "      <th>3</th>\n",
       "      <td>Alaska</td>\n",
       "      <td>Oct. 20-22, 2024</td>\n",
       "      <td>1,703</td>\n",
       "      <td>Alaska Survey Research</td>\n",
       "      <td>Harris</td>\n",
       "      <td>45%</td>\n",
       "      <td>55%</td>\n",
       "    </tr>\n",
       "    <tr>\n",
       "      <th>6</th>\n",
       "      <td>Arizona</td>\n",
       "      <td>Nov. 3-4, 2024</td>\n",
       "      <td>875</td>\n",
       "      <td>AtlasIntel</td>\n",
       "      <td>Harris</td>\n",
       "      <td>47%</td>\n",
       "      <td>52%</td>\n",
       "    </tr>\n",
       "    <tr>\n",
       "      <th>9</th>\n",
       "      <td>Arkansas</td>\n",
       "      <td>Sept. 5-6, 2024</td>\n",
       "      <td>696</td>\n",
       "      <td>Hendrix College</td>\n",
       "      <td>Harris</td>\n",
       "      <td>40%</td>\n",
       "      <td>55%</td>\n",
       "    </tr>\n",
       "    <tr>\n",
       "      <th>12</th>\n",
       "      <td>California</td>\n",
       "      <td>Nov. 2-3, 2024</td>\n",
       "      <td>450</td>\n",
       "      <td>Research Co.</td>\n",
       "      <td>Harris</td>\n",
       "      <td>64%</td>\n",
       "      <td>32%</td>\n",
       "    </tr>\n",
       "  </tbody>\n",
       "</table>\n",
       "</div>"
      ],
      "text/plain": [
       "         State               Date Sample Size                Pollster  \\\n",
       "0      Alabama  April 13-21, 2024         513   John Zogby Strategies   \n",
       "3       Alaska   Oct. 20-22, 2024       1,703  Alaska Survey Research   \n",
       "6      Arizona     Nov. 3-4, 2024         875              AtlasIntel   \n",
       "9     Arkansas    Sept. 5-6, 2024         696         Hendrix College   \n",
       "12  California     Nov. 2-3, 2024         450            Research Co.   \n",
       "\n",
       "   Democratic Candidate Democratic Result Trump Result  \n",
       "0                Harris               31%          56%  \n",
       "3                Harris               45%          55%  \n",
       "6                Harris               47%          52%  \n",
       "9                Harris               40%          55%  \n",
       "12               Harris               64%          32%  "
      ]
     },
     "execution_count": 31,
     "metadata": {},
     "output_type": "execute_result"
    }
   ],
   "source": [
    "polling_df.sort_values(['State', 'Date']).head() #Date not a datetime object"
   ]
  },
  {
   "cell_type": "code",
   "execution_count": 32,
   "metadata": {},
   "outputs": [
    {
     "data": {
      "text/html": [
       "<div>\n",
       "<style scoped>\n",
       "    .dataframe tbody tr th:only-of-type {\n",
       "        vertical-align: middle;\n",
       "    }\n",
       "\n",
       "    .dataframe tbody tr th {\n",
       "        vertical-align: top;\n",
       "    }\n",
       "\n",
       "    .dataframe thead th {\n",
       "        text-align: right;\n",
       "    }\n",
       "</style>\n",
       "<table border=\"1\" class=\"dataframe\">\n",
       "  <thead>\n",
       "    <tr style=\"text-align: right;\">\n",
       "      <th></th>\n",
       "      <th>State</th>\n",
       "      <th>Electoral Votes</th>\n",
       "      <th>Winner</th>\n",
       "      <th>Trump Votes</th>\n",
       "      <th>Biden Votes</th>\n",
       "      <th>Trump Electoral Votes</th>\n",
       "      <th>Biden Electoral Votes</th>\n",
       "    </tr>\n",
       "  </thead>\n",
       "  <tbody>\n",
       "    <tr>\n",
       "      <th>0</th>\n",
       "      <td>Alabama</td>\n",
       "      <td>9</td>\n",
       "      <td>Trump</td>\n",
       "      <td>1441170</td>\n",
       "      <td>36</td>\n",
       "      <td>9</td>\n",
       "      <td>0</td>\n",
       "    </tr>\n",
       "    <tr>\n",
       "      <th>1</th>\n",
       "      <td>Alaska</td>\n",
       "      <td>3</td>\n",
       "      <td>Trump</td>\n",
       "      <td>189951</td>\n",
       "      <td>42</td>\n",
       "      <td>3</td>\n",
       "      <td>0</td>\n",
       "    </tr>\n",
       "    <tr>\n",
       "      <th>2</th>\n",
       "      <td>Arizona</td>\n",
       "      <td>11</td>\n",
       "      <td>Biden</td>\n",
       "      <td>49</td>\n",
       "      <td>1672143</td>\n",
       "      <td>0</td>\n",
       "      <td>11</td>\n",
       "    </tr>\n",
       "    <tr>\n",
       "      <th>3</th>\n",
       "      <td>Arkansas</td>\n",
       "      <td>6</td>\n",
       "      <td>Trump</td>\n",
       "      <td>760647</td>\n",
       "      <td>34</td>\n",
       "      <td>6</td>\n",
       "      <td>0</td>\n",
       "    </tr>\n",
       "    <tr>\n",
       "      <th>4</th>\n",
       "      <td>California</td>\n",
       "      <td>55</td>\n",
       "      <td>Biden</td>\n",
       "      <td>34</td>\n",
       "      <td>11110250</td>\n",
       "      <td>0</td>\n",
       "      <td>55</td>\n",
       "    </tr>\n",
       "  </tbody>\n",
       "</table>\n",
       "</div>"
      ],
      "text/plain": [
       "        State  Electoral Votes Winner  Trump Votes  Biden Votes  \\\n",
       "0     Alabama                9  Trump      1441170           36   \n",
       "1      Alaska                3  Trump       189951           42   \n",
       "2     Arizona               11  Biden           49      1672143   \n",
       "3    Arkansas                6  Trump       760647           34   \n",
       "4  California               55  Biden           34     11110250   \n",
       "\n",
       "   Trump Electoral Votes  Biden Electoral Votes  \n",
       "0                      9                      0  \n",
       "1                      3                      0  \n",
       "2                      0                     11  \n",
       "3                      6                      0  \n",
       "4                      0                     55  "
      ]
     },
     "execution_count": 32,
     "metadata": {},
     "output_type": "execute_result"
    }
   ],
   "source": [
    "voting_df.head()"
   ]
  },
  {
   "cell_type": "code",
   "execution_count": null,
   "metadata": {},
   "outputs": [],
   "source": [
    "def simulate_election(voting_df, polling_df, weight_votes, weight_polls, baseline_uncertainty, n_sim):\n",
    "    \"\"\"\n",
    "    Simulates the 2024 election using a Bayesian approach with Beta distribution.\n",
    "\n",
    "    Parameters:\n",
    "    - voting_df: DataFrame with 2020 election results.\n",
    "    - polling_df: DataFrame with latest polling data.\n",
    "    - weight_vote: Weight assigned to 2020 election results.\n",
    "    - weight_poll: Weight assigned to recent polling data.\n",
    "    - baseline_uncertainty: The additional uncertainty factor per state.\n",
    "    - n_sim: Number of simulation per weight combination.\n",
    "\n",
    "    Returns:\n",
    "    - A df with weight combo and respective simulation results.\n",
    "    \"\"\"\n",
    "    results = [] # store results for all weight settings\n",
    "    \n",
    "    # Loop through weight combo without looping over n_sim\n",
    "    for weight_vote, weight_poll in zip(weight_votes, weight_polls):\n",
    "    \n",
    "        harris_total_evotes = []\n",
    "        trump_total_evotes = []\n",
    "\n",
    "        for _, row in voting_df.iterrows():\n",
    "            state = row['State']\n",
    "            electoral_votes = row[\"Electoral Votes\"]\n",
    "            total_votes = row[\"Trump Votes\"] + row[\"Biden Votes\"]\n",
    "            \n",
    "            # Check if polling data exists for this state\n",
    "            poll_row = polling_df[polling_df['State'] == state]\n",
    "            \n",
    "            if not poll_row.empty:\n",
    "                # Use pollin data when available\n",
    "                polling_harris = float(poll_row[\"Democratic Result\"].values[0].strip('%'))/ 100\n",
    "                polling_trump = float(poll_row[\"Trump Result\"].values[0].strip('%'))/ 100\n",
    "            else:\n",
    "                # Fallback to 2020 results with increased uncertainty (probability)\n",
    "                polling_harris = row['Biden Votes'] / total_votes\n",
    "                polling_trump = row['Trump Votes'] / total_votes\n",
    "        \n",
    "            # Compute weighted probability\n",
    "            if polling_harris is not None and polling_trump is not None:\n",
    "                weighted_harris_votes = (polling_harris * weight_vote) + (weight_poll * polling_harris)\n",
    "                weighted_trump_votes = (polling_trump * weight_vote) + (weight_poll * polling_trump)\n",
    "            else:\n",
    "                # No polling data, rely only on 2020 election results\n",
    "                weighted_harris_votes = polling_harris\n",
    "                weighted_trump_votes = polling_trump\n",
    "\n",
    "            # Define Beta distribution parameters\n",
    "            alpha_harris = weighted_harris_votes * total_votes + 1 #add 1 prevents division errors and gives a weak prior belief that both candidates have at least some support\n",
    "            beta_harris = (1 - weighted_harris_votes) * total_votes + 1\n",
    "\n",
    "            # Vectorized sampling from beta distribution\n",
    "            samples = stats.beta.rvs(alpha_harris, beta_harris, size=n_sim) # a possible percentage of votes Harris gets in a simulation (eg.[0.52, 0.49...])\n",
    "            # Winner-takes-all: all EVs go to the candidate who wins the majority\n",
    "            harris_wins = np.sum(samples > 0.5) \n",
    "            trump_wins = n_sim - harris_wins\n",
    "            \n",
    "            harris_total_evotes.append(harris_wins / n_sim * electoral_votes) #If Harris wins 53% of simulations in a state with 9 EVs, she gets 9 EVs 53% of the time\n",
    "            trump_total_evotes.append(trump_wins / n_sim * electoral_votes)\n",
    "        \n",
    "        # Store results for the weight setting\n",
    "        results.append([weight_vote, weight_poll, sum(harris_total_evotes), sum(trump_total_evotes)])\n",
    "    \n",
    "    # Convert to df\n",
    "    result_df = pd.DataFrame(results, columns=['weight_vote', 'weight_poll', 'harris_evotes', 'trump_evotes'])  \n",
    "    \n",
    "    return result_df\n",
    "\n"
   ]
  },
  {
   "cell_type": "code",
   "execution_count": 42,
   "metadata": {},
   "outputs": [],
   "source": [
    "# Set parameters\n",
    "n_sim = 1000 # number of simulations\n",
    "baseline_uncertainty = 0.02\n",
    "\n",
    "# Vectorized weight generation\n",
    "weight_votes = np.round(np.arange(0.01, 1.01, 0.02), 10)\n",
    "weight_polls = 1 - weight_votes\n",
    "\n",
    "# Run simulation\n",
    "results_df = simulate_election(voting_df, polling_df, weight_votes, weight_polls, baseline_uncertainty, n_sim)"
   ]
  },
  {
   "cell_type": "code",
   "execution_count": 43,
   "metadata": {},
   "outputs": [
    {
     "data": {
      "text/plain": [
       "41"
      ]
     },
     "execution_count": 43,
     "metadata": {},
     "output_type": "execute_result"
    }
   ],
   "source": [
    "results_df['harris_evotes'].nunique()"
   ]
  },
  {
   "cell_type": "code",
   "execution_count": 45,
   "metadata": {},
   "outputs": [
    {
     "data": {
      "text/html": [
       "<div>\n",
       "<style scoped>\n",
       "    .dataframe tbody tr th:only-of-type {\n",
       "        vertical-align: middle;\n",
       "    }\n",
       "\n",
       "    .dataframe tbody tr th {\n",
       "        vertical-align: top;\n",
       "    }\n",
       "\n",
       "    .dataframe thead th {\n",
       "        text-align: right;\n",
       "    }\n",
       "</style>\n",
       "<table border=\"1\" class=\"dataframe\">\n",
       "  <thead>\n",
       "    <tr style=\"text-align: right;\">\n",
       "      <th></th>\n",
       "      <th>weight_vote</th>\n",
       "      <th>weight_poll</th>\n",
       "      <th>harris_evotes</th>\n",
       "      <th>trump_evotes</th>\n",
       "    </tr>\n",
       "  </thead>\n",
       "  <tbody>\n",
       "    <tr>\n",
       "      <th>0</th>\n",
       "      <td>0.01</td>\n",
       "      <td>0.99</td>\n",
       "      <td>206.645</td>\n",
       "      <td>331.355</td>\n",
       "    </tr>\n",
       "    <tr>\n",
       "      <th>1</th>\n",
       "      <td>0.03</td>\n",
       "      <td>0.97</td>\n",
       "      <td>206.560</td>\n",
       "      <td>331.440</td>\n",
       "    </tr>\n",
       "    <tr>\n",
       "      <th>2</th>\n",
       "      <td>0.05</td>\n",
       "      <td>0.95</td>\n",
       "      <td>206.510</td>\n",
       "      <td>331.490</td>\n",
       "    </tr>\n",
       "    <tr>\n",
       "      <th>3</th>\n",
       "      <td>0.07</td>\n",
       "      <td>0.93</td>\n",
       "      <td>206.605</td>\n",
       "      <td>331.395</td>\n",
       "    </tr>\n",
       "    <tr>\n",
       "      <th>4</th>\n",
       "      <td>0.09</td>\n",
       "      <td>0.91</td>\n",
       "      <td>206.535</td>\n",
       "      <td>331.465</td>\n",
       "    </tr>\n",
       "  </tbody>\n",
       "</table>\n",
       "</div>"
      ],
      "text/plain": [
       "   weight_vote  weight_poll  harris_evotes  trump_evotes\n",
       "0         0.01         0.99        206.645       331.355\n",
       "1         0.03         0.97        206.560       331.440\n",
       "2         0.05         0.95        206.510       331.490\n",
       "3         0.07         0.93        206.605       331.395\n",
       "4         0.09         0.91        206.535       331.465"
      ]
     },
     "execution_count": 45,
     "metadata": {},
     "output_type": "execute_result"
    }
   ],
   "source": [
    "results_df.head()"
   ]
  },
  {
   "cell_type": "markdown",
   "metadata": {},
   "source": [
    "### Histogram of Electoral Vote Outcomes\n",
    "* Center of distribution: the most likely outcome\n",
    "* Spread of distribution: the range of possible results\n",
    "* The winning threshold: 270 electoral votes (EVs)"
   ]
  },
  {
   "cell_type": "code",
   "execution_count": 47,
   "metadata": {},
   "outputs": [],
   "source": [
    "def plot_ev_hist(results_df):\n",
    "    plt.figure(figsize=(10,6))\n",
    "    \n",
    "    # Histogram for Harris & Trump\n",
    "    sns.histplot(results_df['harris_evotes'], bins=30, kde=True, color='blue', label='Harris')\n",
    "    sns.histplot(results_df['trump_evotes'], bins=30, kde=True, color='red', label='Trump')\n",
    "    \n",
    "    # Add vertical line at 270 EVs\n",
    "    plt.axvline(270, color='black', linestyle='--', linewidth=2, label='Winning Threshold')\n",
    "    \n",
    "    # Add vertical line for the expected electoral votes\n",
    "    plt.axvline(results_df['harris_evotes'].mean(), color='blue', linestyle='-', linewidth=2, label='Harris Expected EV')\n",
    "    plt.axvline(results_df['trump_evotes'].mean(), color='red', linestyle='-', linewidth=2, label='Trump Expected EV')\n",
    "    \n",
    "    # Formatting\n",
    "    plt.xlabel('Electoral Votes')\n",
    "    plt.ylabel('Frequency')\n",
    "    plt.title('Simulated Distribution of Electoral Votes with Uncertainty')\n",
    "    plt.legend()\n",
    "    plt.grid(True)\n",
    "    plt.show()"
   ]
  },
  {
   "cell_type": "code",
   "execution_count": 48,
   "metadata": {},
   "outputs": [
    {
     "data": {
      "image/png": "[encoded data removed]",
      "text/plain": [
       "<Figure size 1000x600 with 1 Axes>"
      ]
     },
     "metadata": {},
     "output_type": "display_data"
    }
   ],
   "source": [
    "plot_ev_hist(results_df)"
   ]
  },
  {
   "cell_type": "markdown",
   "metadata": {},
   "source": [
    "### GeoPlot of State-by-State Probabilities\n",
    "* $P(Harris Wins) = Number of Harris Wins / Total Simulations$\n",
    "    * If P(Harris Wins) > 0.9, strong Harris state\n",
    "    * If P(Harris Wins) about 0.5, toss-up\n",
    "    * If P(Harris Wins) < 0.1, strong Trump state\n",
    "\n"
   ]
  },
  {
   "cell_type": "code",
   "execution_count": 57,
   "metadata": {},
   "outputs": [],
   "source": [
    "def simulate_election_state(voting_df, polling_df, weight_votes, weight_polls, baseline_uncertainty, n_sim):\n",
    "    \"\"\"\n",
    "    Simulates the 2024 election using Bayesian Beta distribution.\n",
    "\n",
    "    Returns:\n",
    "    - DataFrame containing state-level win probabilities for Harris and Trump.\n",
    "    \"\"\"\n",
    "    state_results = []\n",
    "\n",
    "    # Loop over each state\n",
    "    for _, row in voting_df.iterrows():\n",
    "        state = row['State']\n",
    "        electoral_votes = row[\"Electoral Votes\"]\n",
    "        total_votes = row[\"Trump Votes\"] + row[\"Biden Votes\"]\n",
    "\n",
    "        # Check if polling data exists for this state\n",
    "        poll_row = polling_df[polling_df['State'] == state]\n",
    "\n",
    "        if not poll_row.empty:\n",
    "            # Extract polling data\n",
    "            polling_harris = float(poll_row[\"Democratic Result\"].values[0].strip('%')) / 100\n",
    "            polling_trump = float(poll_row[\"Trump Result\"].values[0].strip('%')) / 100\n",
    "        else:\n",
    "            # No polling data, fallback to 2020 results\n",
    "            polling_harris = row['Biden Votes'] / total_votes\n",
    "            polling_trump = row['Trump Votes'] / total_votes\n",
    "\n",
    "        # Compute weighted probability\n",
    "        weighted_harris_votes = (polling_harris * weight_votes) + (polling_harris * weight_polls)\n",
    "        weighted_trump_votes = (polling_trump * weight_votes) + (polling_trump * weight_polls)\n",
    "\n",
    "        # Define Beta distribution parameters\n",
    "        alpha_harris = weighted_harris_votes * total_votes + 1\n",
    "        beta_harris = (1 - weighted_harris_votes) * total_votes + 1\n",
    "\n",
    "        # Vectorized sampling: Run multiple simulations for the state\n",
    "        samples = stats.beta.rvs(alpha_harris, beta_harris, size=n_sim)\n",
    "\n",
    "        # Compute win probability\n",
    "        harris_win_prob = np.mean(samples > 0.5)\n",
    "        trump_win_prob = 1 - harris_win_prob\n",
    "\n",
    "        # Store state-level probabilities\n",
    "        state_results.append([state, electoral_votes, harris_win_prob, trump_win_prob])\n",
    "\n",
    "    # Convert to DataFrame\n",
    "    results_state_df = pd.DataFrame(state_results, columns=['State', 'Electoral Votes', 'Harris Win Probability', 'Trump Win Probability'])\n",
    "\n",
    "    return results_state_df\n"
   ]
  },
  {
   "cell_type": "code",
   "execution_count": 69,
   "metadata": {},
   "outputs": [
    {
     "data": {
      "text/html": [
       "<div>\n",
       "<style scoped>\n",
       "    .dataframe tbody tr th:only-of-type {\n",
       "        vertical-align: middle;\n",
       "    }\n",
       "\n",
       "    .dataframe tbody tr th {\n",
       "        vertical-align: top;\n",
       "    }\n",
       "\n",
       "    .dataframe thead th {\n",
       "        text-align: right;\n",
       "    }\n",
       "</style>\n",
       "<table border=\"1\" class=\"dataframe\">\n",
       "  <thead>\n",
       "    <tr style=\"text-align: right;\">\n",
       "      <th></th>\n",
       "      <th>State</th>\n",
       "      <th>Electoral Votes</th>\n",
       "      <th>Harris Win Probability</th>\n",
       "      <th>Trump Win Probability</th>\n",
       "    </tr>\n",
       "  </thead>\n",
       "  <tbody>\n",
       "    <tr>\n",
       "      <th>0</th>\n",
       "      <td>Alabama</td>\n",
       "      <td>9</td>\n",
       "      <td>0.0</td>\n",
       "      <td>1.0</td>\n",
       "    </tr>\n",
       "    <tr>\n",
       "      <th>1</th>\n",
       "      <td>Alaska</td>\n",
       "      <td>3</td>\n",
       "      <td>0.0</td>\n",
       "      <td>1.0</td>\n",
       "    </tr>\n",
       "    <tr>\n",
       "      <th>2</th>\n",
       "      <td>Arizona</td>\n",
       "      <td>11</td>\n",
       "      <td>0.0</td>\n",
       "      <td>1.0</td>\n",
       "    </tr>\n",
       "    <tr>\n",
       "      <th>3</th>\n",
       "      <td>Arkansas</td>\n",
       "      <td>6</td>\n",
       "      <td>0.0</td>\n",
       "      <td>1.0</td>\n",
       "    </tr>\n",
       "    <tr>\n",
       "      <th>4</th>\n",
       "      <td>California</td>\n",
       "      <td>55</td>\n",
       "      <td>1.0</td>\n",
       "      <td>0.0</td>\n",
       "    </tr>\n",
       "  </tbody>\n",
       "</table>\n",
       "</div>"
      ],
      "text/plain": [
       "        State  Electoral Votes  Harris Win Probability  Trump Win Probability\n",
       "0     Alabama                9                     0.0                    1.0\n",
       "1      Alaska                3                     0.0                    1.0\n",
       "2     Arizona               11                     0.0                    1.0\n",
       "3    Arkansas                6                     0.0                    1.0\n",
       "4  California               55                     1.0                    0.0"
      ]
     },
     "execution_count": 69,
     "metadata": {},
     "output_type": "execute_result"
    }
   ],
   "source": [
    "# Run simulation\n",
    "simulated_probabilities = simulate_election_state(voting_df, polling_df, weight_votes=0.5, weight_polls=0.5, baseline_uncertainty=0.01, n_sim=1000)\n",
    "simulated_probabilities.head()"
   ]
  },
  {
   "cell_type": "code",
   "execution_count": 70,
   "metadata": {},
   "outputs": [
    {
     "data": {
      "text/html": [
       "<div>\n",
       "<style scoped>\n",
       "    .dataframe tbody tr th:only-of-type {\n",
       "        vertical-align: middle;\n",
       "    }\n",
       "\n",
       "    .dataframe tbody tr th {\n",
       "        vertical-align: top;\n",
       "    }\n",
       "\n",
       "    .dataframe thead th {\n",
       "        text-align: right;\n",
       "    }\n",
       "</style>\n",
       "<table border=\"1\" class=\"dataframe\">\n",
       "  <thead>\n",
       "    <tr style=\"text-align: right;\">\n",
       "      <th></th>\n",
       "      <th>id</th>\n",
       "      <th>name</th>\n",
       "      <th>density</th>\n",
       "      <th>geometry</th>\n",
       "    </tr>\n",
       "  </thead>\n",
       "  <tbody>\n",
       "    <tr>\n",
       "      <th>0</th>\n",
       "      <td>01</td>\n",
       "      <td>Alabama</td>\n",
       "      <td>94.650</td>\n",
       "      <td>POLYGON ((-87.3593 35.00118, -85.60668 34.9847...</td>\n",
       "    </tr>\n",
       "    <tr>\n",
       "      <th>1</th>\n",
       "      <td>02</td>\n",
       "      <td>Alaska</td>\n",
       "      <td>1.264</td>\n",
       "      <td>MULTIPOLYGON (((-131.60202 55.11798, -131.5691...</td>\n",
       "    </tr>\n",
       "    <tr>\n",
       "      <th>2</th>\n",
       "      <td>04</td>\n",
       "      <td>Arizona</td>\n",
       "      <td>57.050</td>\n",
       "      <td>POLYGON ((-109.0425 37.00026, -109.04798 31.33...</td>\n",
       "    </tr>\n",
       "    <tr>\n",
       "      <th>3</th>\n",
       "      <td>05</td>\n",
       "      <td>Arkansas</td>\n",
       "      <td>56.430</td>\n",
       "      <td>POLYGON ((-94.47384 36.50186, -90.15254 36.496...</td>\n",
       "    </tr>\n",
       "    <tr>\n",
       "      <th>4</th>\n",
       "      <td>06</td>\n",
       "      <td>California</td>\n",
       "      <td>241.700</td>\n",
       "      <td>POLYGON ((-123.23326 42.00619, -122.37885 42.0...</td>\n",
       "    </tr>\n",
       "  </tbody>\n",
       "</table>\n",
       "</div>"
      ],
      "text/plain": [
       "   id        name  density                                           geometry\n",
       "0  01     Alabama   94.650  POLYGON ((-87.3593 35.00118, -85.60668 34.9847...\n",
       "1  02      Alaska    1.264  MULTIPOLYGON (((-131.60202 55.11798, -131.5691...\n",
       "2  04     Arizona   57.050  POLYGON ((-109.0425 37.00026, -109.04798 31.33...\n",
       "3  05    Arkansas   56.430  POLYGON ((-94.47384 36.50186, -90.15254 36.496...\n",
       "4  06  California  241.700  POLYGON ((-123.23326 42.00619, -122.37885 42.0..."
      ]
     },
     "execution_count": 70,
     "metadata": {},
     "output_type": "execute_result"
    }
   ],
   "source": [
    "# Load US states shapefile\n",
    "us_states = gpd.read_file(\"https://github.com/PublicaMundi/MappingAPI/raw/master/data/geojson/us-states.json\")\n",
    "us_states.head()"
   ]
  },
  {
   "cell_type": "code",
   "execution_count": 73,
   "metadata": {},
   "outputs": [
    {
     "data": {
      "image/png": "[encoded data removed]",
      "text/plain": [
       "<Figure size 1500x800 with 4 Axes>"
      ]
     },
     "metadata": {},
     "output_type": "display_data"
    }
   ],
   "source": [
    "# Standardize state names for merging\n",
    "us_states[\"State\"] = us_states[\"name\"].str.lower()\n",
    "simulated_probabilities['State'] = simulated_probabilities['State'].str.lower()\n",
    "\n",
    "# Merge probabilities with US state boundaries\n",
    "us_states = us_states.merge(simulated_probabilities, left_on=\"State\", right_on=\"State\", how=\"left\")\n",
    "\n",
    "# Plot Harris win probability\n",
    "fig, axes = plt.subplots(1, 2, figsize=(15, 8))\n",
    "us_states.plot(column=\"Harris Win Probability\", cmap=\"Blues\", linewidth=0.8, ax=axes[0], edgecolor=\"black\", legend=True)\n",
    "axes[0].set_title(\"Probability of Harris Winning\")\n",
    "us_states.plot(column=\"Trump Win Probability\", cmap=\"Reds\", linewidth=0.8, ax=axes[1], edgecolor=\"black\", legend=True)\n",
    "axes[1].set_title(\"Probability of Trump Winning\")\n",
    "\n",
    "plt.tight_layout()\n",
    "plt.show()\n"
   ]
  },
  {
   "cell_type": "markdown",
   "metadata": {},
   "source": [
    "### Conclusions & Findings:\n",
    "We could see that there's higher probabilities that Trump would win more states than Harris on an uncertainty level of +-1%. "
   ]
  },
  {
   "cell_type": "code",
   "execution_count": 60,
   "metadata": {},
   "outputs": [
    {
     "data": {
      "text/plain": [
       "np.float64(206.50890000000004)"
      ]
     },
     "execution_count": 60,
     "metadata": {},
     "output_type": "execute_result"
    }
   ],
   "source": [
    "results_df.harris_evotes.mean()"
   ]
  },
  {
   "cell_type": "code",
   "execution_count": 61,
   "metadata": {},
   "outputs": [
    {
     "data": {
      "text/plain": [
       "np.float64(331.4911)"
      ]
     },
     "execution_count": 61,
     "metadata": {},
     "output_type": "execute_result"
    }
   ],
   "source": [
    "results_df.trump_evotes.mean()"
   ]
  },
  {
   "cell_type": "code",
   "execution_count": 75,
   "metadata": {},
   "outputs": [
    {
     "data": {
      "text/html": [
       "<div>\n",
       "<style scoped>\n",
       "    .dataframe tbody tr th:only-of-type {\n",
       "        vertical-align: middle;\n",
       "    }\n",
       "\n",
       "    .dataframe tbody tr th {\n",
       "        vertical-align: top;\n",
       "    }\n",
       "\n",
       "    .dataframe thead th {\n",
       "        text-align: right;\n",
       "    }\n",
       "</style>\n",
       "<table border=\"1\" class=\"dataframe\">\n",
       "  <thead>\n",
       "    <tr style=\"text-align: right;\">\n",
       "      <th></th>\n",
       "      <th>State</th>\n",
       "      <th>Electoral Votes</th>\n",
       "      <th>Harris Win Probability</th>\n",
       "      <th>Trump Win Probability</th>\n",
       "    </tr>\n",
       "  </thead>\n",
       "  <tbody>\n",
       "    <tr>\n",
       "      <th>0</th>\n",
       "      <td>alabama</td>\n",
       "      <td>9</td>\n",
       "      <td>0.000</td>\n",
       "      <td>1.000</td>\n",
       "    </tr>\n",
       "    <tr>\n",
       "      <th>1</th>\n",
       "      <td>alaska</td>\n",
       "      <td>3</td>\n",
       "      <td>0.000</td>\n",
       "      <td>1.000</td>\n",
       "    </tr>\n",
       "    <tr>\n",
       "      <th>2</th>\n",
       "      <td>arizona</td>\n",
       "      <td>11</td>\n",
       "      <td>0.000</td>\n",
       "      <td>1.000</td>\n",
       "    </tr>\n",
       "    <tr>\n",
       "      <th>3</th>\n",
       "      <td>arkansas</td>\n",
       "      <td>6</td>\n",
       "      <td>0.000</td>\n",
       "      <td>1.000</td>\n",
       "    </tr>\n",
       "    <tr>\n",
       "      <th>4</th>\n",
       "      <td>california</td>\n",
       "      <td>55</td>\n",
       "      <td>1.000</td>\n",
       "      <td>0.000</td>\n",
       "    </tr>\n",
       "    <tr>\n",
       "      <th>5</th>\n",
       "      <td>colorado</td>\n",
       "      <td>9</td>\n",
       "      <td>1.000</td>\n",
       "      <td>0.000</td>\n",
       "    </tr>\n",
       "    <tr>\n",
       "      <th>6</th>\n",
       "      <td>connecticut</td>\n",
       "      <td>7</td>\n",
       "      <td>1.000</td>\n",
       "      <td>0.000</td>\n",
       "    </tr>\n",
       "    <tr>\n",
       "      <th>7</th>\n",
       "      <td>delaware</td>\n",
       "      <td>3</td>\n",
       "      <td>1.000</td>\n",
       "      <td>0.000</td>\n",
       "    </tr>\n",
       "    <tr>\n",
       "      <th>8</th>\n",
       "      <td>district of columbia</td>\n",
       "      <td>3</td>\n",
       "      <td>1.000</td>\n",
       "      <td>0.000</td>\n",
       "    </tr>\n",
       "    <tr>\n",
       "      <th>9</th>\n",
       "      <td>florida</td>\n",
       "      <td>29</td>\n",
       "      <td>0.000</td>\n",
       "      <td>1.000</td>\n",
       "    </tr>\n",
       "    <tr>\n",
       "      <th>10</th>\n",
       "      <td>georgia</td>\n",
       "      <td>16</td>\n",
       "      <td>0.000</td>\n",
       "      <td>1.000</td>\n",
       "    </tr>\n",
       "    <tr>\n",
       "      <th>11</th>\n",
       "      <td>hawaii</td>\n",
       "      <td>4</td>\n",
       "      <td>0.000</td>\n",
       "      <td>1.000</td>\n",
       "    </tr>\n",
       "    <tr>\n",
       "      <th>12</th>\n",
       "      <td>idaho</td>\n",
       "      <td>4</td>\n",
       "      <td>0.000</td>\n",
       "      <td>1.000</td>\n",
       "    </tr>\n",
       "    <tr>\n",
       "      <th>13</th>\n",
       "      <td>illinois</td>\n",
       "      <td>20</td>\n",
       "      <td>1.000</td>\n",
       "      <td>0.000</td>\n",
       "    </tr>\n",
       "    <tr>\n",
       "      <th>14</th>\n",
       "      <td>indiana</td>\n",
       "      <td>11</td>\n",
       "      <td>0.000</td>\n",
       "      <td>1.000</td>\n",
       "    </tr>\n",
       "    <tr>\n",
       "      <th>15</th>\n",
       "      <td>iowa</td>\n",
       "      <td>6</td>\n",
       "      <td>0.000</td>\n",
       "      <td>1.000</td>\n",
       "    </tr>\n",
       "    <tr>\n",
       "      <th>16</th>\n",
       "      <td>kansas</td>\n",
       "      <td>6</td>\n",
       "      <td>0.000</td>\n",
       "      <td>1.000</td>\n",
       "    </tr>\n",
       "    <tr>\n",
       "      <th>17</th>\n",
       "      <td>kentucky</td>\n",
       "      <td>8</td>\n",
       "      <td>0.000</td>\n",
       "      <td>1.000</td>\n",
       "    </tr>\n",
       "    <tr>\n",
       "      <th>18</th>\n",
       "      <td>louisiana</td>\n",
       "      <td>8</td>\n",
       "      <td>0.000</td>\n",
       "      <td>1.000</td>\n",
       "    </tr>\n",
       "    <tr>\n",
       "      <th>19</th>\n",
       "      <td>maine</td>\n",
       "      <td>4</td>\n",
       "      <td>0.000</td>\n",
       "      <td>1.000</td>\n",
       "    </tr>\n",
       "    <tr>\n",
       "      <th>20</th>\n",
       "      <td>maryland</td>\n",
       "      <td>10</td>\n",
       "      <td>1.000</td>\n",
       "      <td>0.000</td>\n",
       "    </tr>\n",
       "    <tr>\n",
       "      <th>21</th>\n",
       "      <td>massachusetts</td>\n",
       "      <td>11</td>\n",
       "      <td>1.000</td>\n",
       "      <td>0.000</td>\n",
       "    </tr>\n",
       "    <tr>\n",
       "      <th>22</th>\n",
       "      <td>michigan</td>\n",
       "      <td>16</td>\n",
       "      <td>0.000</td>\n",
       "      <td>1.000</td>\n",
       "    </tr>\n",
       "    <tr>\n",
       "      <th>23</th>\n",
       "      <td>minnesota</td>\n",
       "      <td>10</td>\n",
       "      <td>0.000</td>\n",
       "      <td>1.000</td>\n",
       "    </tr>\n",
       "    <tr>\n",
       "      <th>24</th>\n",
       "      <td>mississippi</td>\n",
       "      <td>6</td>\n",
       "      <td>0.000</td>\n",
       "      <td>1.000</td>\n",
       "    </tr>\n",
       "    <tr>\n",
       "      <th>25</th>\n",
       "      <td>missouri</td>\n",
       "      <td>10</td>\n",
       "      <td>0.000</td>\n",
       "      <td>1.000</td>\n",
       "    </tr>\n",
       "    <tr>\n",
       "      <th>26</th>\n",
       "      <td>montana</td>\n",
       "      <td>3</td>\n",
       "      <td>0.000</td>\n",
       "      <td>1.000</td>\n",
       "    </tr>\n",
       "    <tr>\n",
       "      <th>27</th>\n",
       "      <td>nebraska</td>\n",
       "      <td>5</td>\n",
       "      <td>0.000</td>\n",
       "      <td>1.000</td>\n",
       "    </tr>\n",
       "    <tr>\n",
       "      <th>28</th>\n",
       "      <td>nevada</td>\n",
       "      <td>6</td>\n",
       "      <td>0.000</td>\n",
       "      <td>1.000</td>\n",
       "    </tr>\n",
       "    <tr>\n",
       "      <th>29</th>\n",
       "      <td>new hampshire</td>\n",
       "      <td>4</td>\n",
       "      <td>1.000</td>\n",
       "      <td>0.000</td>\n",
       "    </tr>\n",
       "    <tr>\n",
       "      <th>30</th>\n",
       "      <td>new jersey</td>\n",
       "      <td>14</td>\n",
       "      <td>1.000</td>\n",
       "      <td>0.000</td>\n",
       "    </tr>\n",
       "    <tr>\n",
       "      <th>31</th>\n",
       "      <td>new mexico</td>\n",
       "      <td>5</td>\n",
       "      <td>0.529</td>\n",
       "      <td>0.471</td>\n",
       "    </tr>\n",
       "    <tr>\n",
       "      <th>32</th>\n",
       "      <td>new york</td>\n",
       "      <td>29</td>\n",
       "      <td>1.000</td>\n",
       "      <td>0.000</td>\n",
       "    </tr>\n",
       "    <tr>\n",
       "      <th>33</th>\n",
       "      <td>north carolina</td>\n",
       "      <td>15</td>\n",
       "      <td>0.000</td>\n",
       "      <td>1.000</td>\n",
       "    </tr>\n",
       "    <tr>\n",
       "      <th>34</th>\n",
       "      <td>north dakota</td>\n",
       "      <td>3</td>\n",
       "      <td>0.000</td>\n",
       "      <td>1.000</td>\n",
       "    </tr>\n",
       "    <tr>\n",
       "      <th>35</th>\n",
       "      <td>ohio</td>\n",
       "      <td>18</td>\n",
       "      <td>0.000</td>\n",
       "      <td>1.000</td>\n",
       "    </tr>\n",
       "    <tr>\n",
       "      <th>36</th>\n",
       "      <td>oklahoma</td>\n",
       "      <td>7</td>\n",
       "      <td>0.000</td>\n",
       "      <td>1.000</td>\n",
       "    </tr>\n",
       "    <tr>\n",
       "      <th>37</th>\n",
       "      <td>oregon</td>\n",
       "      <td>7</td>\n",
       "      <td>1.000</td>\n",
       "      <td>0.000</td>\n",
       "    </tr>\n",
       "    <tr>\n",
       "      <th>38</th>\n",
       "      <td>pennsylvania</td>\n",
       "      <td>20</td>\n",
       "      <td>0.000</td>\n",
       "      <td>1.000</td>\n",
       "    </tr>\n",
       "    <tr>\n",
       "      <th>39</th>\n",
       "      <td>rhode island</td>\n",
       "      <td>4</td>\n",
       "      <td>1.000</td>\n",
       "      <td>0.000</td>\n",
       "    </tr>\n",
       "    <tr>\n",
       "      <th>40</th>\n",
       "      <td>south carolina</td>\n",
       "      <td>9</td>\n",
       "      <td>0.000</td>\n",
       "      <td>1.000</td>\n",
       "    </tr>\n",
       "    <tr>\n",
       "      <th>41</th>\n",
       "      <td>south dakota</td>\n",
       "      <td>3</td>\n",
       "      <td>0.000</td>\n",
       "      <td>1.000</td>\n",
       "    </tr>\n",
       "    <tr>\n",
       "      <th>42</th>\n",
       "      <td>tennessee</td>\n",
       "      <td>11</td>\n",
       "      <td>0.000</td>\n",
       "      <td>1.000</td>\n",
       "    </tr>\n",
       "    <tr>\n",
       "      <th>43</th>\n",
       "      <td>texas</td>\n",
       "      <td>38</td>\n",
       "      <td>0.000</td>\n",
       "      <td>1.000</td>\n",
       "    </tr>\n",
       "    <tr>\n",
       "      <th>44</th>\n",
       "      <td>utah</td>\n",
       "      <td>6</td>\n",
       "      <td>0.000</td>\n",
       "      <td>1.000</td>\n",
       "    </tr>\n",
       "    <tr>\n",
       "      <th>45</th>\n",
       "      <td>vermont</td>\n",
       "      <td>3</td>\n",
       "      <td>1.000</td>\n",
       "      <td>0.000</td>\n",
       "    </tr>\n",
       "    <tr>\n",
       "      <th>46</th>\n",
       "      <td>virginia</td>\n",
       "      <td>13</td>\n",
       "      <td>1.000</td>\n",
       "      <td>0.000</td>\n",
       "    </tr>\n",
       "    <tr>\n",
       "      <th>47</th>\n",
       "      <td>washington</td>\n",
       "      <td>12</td>\n",
       "      <td>1.000</td>\n",
       "      <td>0.000</td>\n",
       "    </tr>\n",
       "    <tr>\n",
       "      <th>48</th>\n",
       "      <td>west virginia</td>\n",
       "      <td>5</td>\n",
       "      <td>0.000</td>\n",
       "      <td>1.000</td>\n",
       "    </tr>\n",
       "    <tr>\n",
       "      <th>49</th>\n",
       "      <td>wisconsin</td>\n",
       "      <td>10</td>\n",
       "      <td>0.000</td>\n",
       "      <td>1.000</td>\n",
       "    </tr>\n",
       "    <tr>\n",
       "      <th>50</th>\n",
       "      <td>wyoming</td>\n",
       "      <td>3</td>\n",
       "      <td>0.000</td>\n",
       "      <td>1.000</td>\n",
       "    </tr>\n",
       "  </tbody>\n",
       "</table>\n",
       "</div>"
      ],
      "text/plain": [
       "                   State  Electoral Votes  Harris Win Probability  \\\n",
       "0                alabama                9                   0.000   \n",
       "1                 alaska                3                   0.000   \n",
       "2                arizona               11                   0.000   \n",
       "3               arkansas                6                   0.000   \n",
       "4             california               55                   1.000   \n",
       "5               colorado                9                   1.000   \n",
       "6            connecticut                7                   1.000   \n",
       "7               delaware                3                   1.000   \n",
       "8   district of columbia                3                   1.000   \n",
       "9                florida               29                   0.000   \n",
       "10               georgia               16                   0.000   \n",
       "11                hawaii                4                   0.000   \n",
       "12                 idaho                4                   0.000   \n",
       "13              illinois               20                   1.000   \n",
       "14               indiana               11                   0.000   \n",
       "15                  iowa                6                   0.000   \n",
       "16                kansas                6                   0.000   \n",
       "17              kentucky                8                   0.000   \n",
       "18             louisiana                8                   0.000   \n",
       "19                 maine                4                   0.000   \n",
       "20              maryland               10                   1.000   \n",
       "21         massachusetts               11                   1.000   \n",
       "22              michigan               16                   0.000   \n",
       "23             minnesota               10                   0.000   \n",
       "24           mississippi                6                   0.000   \n",
       "25              missouri               10                   0.000   \n",
       "26               montana                3                   0.000   \n",
       "27              nebraska                5                   0.000   \n",
       "28                nevada                6                   0.000   \n",
       "29         new hampshire                4                   1.000   \n",
       "30            new jersey               14                   1.000   \n",
       "31            new mexico                5                   0.529   \n",
       "32              new york               29                   1.000   \n",
       "33        north carolina               15                   0.000   \n",
       "34          north dakota                3                   0.000   \n",
       "35                  ohio               18                   0.000   \n",
       "36              oklahoma                7                   0.000   \n",
       "37                oregon                7                   1.000   \n",
       "38          pennsylvania               20                   0.000   \n",
       "39          rhode island                4                   1.000   \n",
       "40        south carolina                9                   0.000   \n",
       "41          south dakota                3                   0.000   \n",
       "42             tennessee               11                   0.000   \n",
       "43                 texas               38                   0.000   \n",
       "44                  utah                6                   0.000   \n",
       "45               vermont                3                   1.000   \n",
       "46              virginia               13                   1.000   \n",
       "47            washington               12                   1.000   \n",
       "48         west virginia                5                   0.000   \n",
       "49             wisconsin               10                   0.000   \n",
       "50               wyoming                3                   0.000   \n",
       "\n",
       "    Trump Win Probability  \n",
       "0                   1.000  \n",
       "1                   1.000  \n",
       "2                   1.000  \n",
       "3                   1.000  \n",
       "4                   0.000  \n",
       "5                   0.000  \n",
       "6                   0.000  \n",
       "7                   0.000  \n",
       "8                   0.000  \n",
       "9                   1.000  \n",
       "10                  1.000  \n",
       "11                  1.000  \n",
       "12                  1.000  \n",
       "13                  0.000  \n",
       "14                  1.000  \n",
       "15                  1.000  \n",
       "16                  1.000  \n",
       "17                  1.000  \n",
       "18                  1.000  \n",
       "19                  1.000  \n",
       "20                  0.000  \n",
       "21                  0.000  \n",
       "22                  1.000  \n",
       "23                  1.000  \n",
       "24                  1.000  \n",
       "25                  1.000  \n",
       "26                  1.000  \n",
       "27                  1.000  \n",
       "28                  1.000  \n",
       "29                  0.000  \n",
       "30                  0.000  \n",
       "31                  0.471  \n",
       "32                  0.000  \n",
       "33                  1.000  \n",
       "34                  1.000  \n",
       "35                  1.000  \n",
       "36                  1.000  \n",
       "37                  0.000  \n",
       "38                  1.000  \n",
       "39                  0.000  \n",
       "40                  1.000  \n",
       "41                  1.000  \n",
       "42                  1.000  \n",
       "43                  1.000  \n",
       "44                  1.000  \n",
       "45                  0.000  \n",
       "46                  0.000  \n",
       "47                  0.000  \n",
       "48                  1.000  \n",
       "49                  1.000  \n",
       "50                  1.000  "
      ]
     },
     "execution_count": 75,
     "metadata": {},
     "output_type": "execute_result"
    }
   ],
   "source": [
    "simulated_probabilities"
   ]
  },
  {
   "cell_type": "markdown",
   "metadata": {},
   "source": [
    "#### Different outputs per scenarios (mean)\n",
    "| Baseline Uncertainty | Harris | Trump |\n",
    "| :------------------- |:-----: | ----: |\n",
    "| 1%                   | 206    | 331   |"
   ]
  }
 ],
 "metadata": {
  "kernelspec": {
   "display_name": "venv",
   "language": "python",
   "name": "python3"
  },
  "language_info": {
   "codemirror_mode": {
    "name": "ipython",
    "version": 3
   },
   "file_extension": ".py",
   "mimetype": "text/x-python",
   "name": "python",
   "nbconvert_exporter": "python",
   "pygments_lexer": "ipython3",
   "version": "3.10.14"
  }
 },
 "nbformat": 4,
 "nbformat_minor": 2
}
